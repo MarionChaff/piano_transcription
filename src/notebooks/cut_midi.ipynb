{
 "cells": [
  {
   "cell_type": "code",
   "execution_count": 4,
   "metadata": {},
   "outputs": [],
   "source": [
    "import mido\n",
    "from mido import MidiFile, MidiTrack, Message, MetaMessage\n",
    "from os import listdir\n",
    "from os.path import isfile, split, join\n",
    "import argparse"
   ]
  },
  {
   "cell_type": "code",
   "execution_count": 5,
   "metadata": {},
   "outputs": [],
   "source": [
    "def split_midi_into_15_second_parts(src_midi_path='data/midis/enchanted.mid', dest_midi_base_path='data/short_midis/short_midis'):\n",
    "    src_midi = MidiFile(src_midi_path)\n",
    "\n",
    "    # Assuming a default tempo of 500,000 microseconds per beat\n",
    "    # Adjust this if your MIDI file specifies a different initial tempo\n",
    "    default_tempo = 500000\n",
    "    ticks_per_second = src_midi.ticks_per_beat * (default_tempo / 1000000)\n",
    "    ticks_for_2_seconds = ticks_per_second * 15\n",
    "\n",
    "    current_segment = 0\n",
    "    current_ticks_in_segment = 0\n",
    "\n",
    "    # Initialize the first segment MIDI file\n",
    "    segment_midi = MidiFile()\n",
    "    segment_midi.ticks_per_beat = src_midi.ticks_per_beat\n",
    "\n",
    "    for track in src_midi.tracks:\n",
    "        new_track = MidiTrack()\n",
    "        segment_midi.tracks.append(new_track)\n",
    "        for msg in track:\n",
    "            # Adjust for tempo changes if the message is a tempo change\n",
    "            if msg.type == 'set_tempo':\n",
    "                ticks_per_second = src_midi.ticks_per_beat * (msg.tempo / 1000000)\n",
    "                ticks_for_2_seconds = ticks_per_second * 15\n",
    "\n",
    "            # Check if adding the current message would exceed the 2-second limit for this segment\n",
    "            if current_ticks_in_segment + msg.time > ticks_for_2_seconds:\n",
    "                # Save the current segment MIDI file\n",
    "                segment_midi.save(f'{dest_midi_base_path}_part_{current_segment}.mid')\n",
    "\n",
    "                # Start a new segment MIDI file\n",
    "                segment_midi = MidiFile()\n",
    "                segment_midi.ticks_per_beat = src_midi.ticks_per_beat\n",
    "                new_track = MidiTrack()\n",
    "                segment_midi.tracks.append(new_track)\n",
    "\n",
    "                # Reset the tick count for the new segment and increment the segment counter\n",
    "                current_ticks_in_segment = 0\n",
    "                current_segment += 1\n",
    "\n",
    "            # Add the current message to the track and update the tick count\n",
    "            new_track.append(msg)\n",
    "            current_ticks_in_segment += msg.time\n",
    "\n",
    "    # Save the last segment if it has any content\n",
    "    if current_ticks_in_segment > 0:\n",
    "        segment_midi.save(f'{dest_midi_base_path}_part_{current_segment}.mid')\n",
    "\n",
    "# Example usage\n"
   ]
  },
  {
   "cell_type": "code",
   "execution_count": 6,
   "metadata": {},
   "outputs": [],
   "source": [
    "split_midi_into_15_second_parts()"
   ]
  },
  {
   "cell_type": "code",
   "execution_count": null,
   "metadata": {},
   "outputs": [],
   "source": []
  },
  {
   "cell_type": "code",
   "execution_count": null,
   "metadata": {},
   "outputs": [],
   "source": []
  }
 ],
 "metadata": {
  "kernelspec": {
   "display_name": "piano_transcription",
   "language": "python",
   "name": "python3"
  },
  "language_info": {
   "codemirror_mode": {
    "name": "ipython",
    "version": 3
   },
   "file_extension": ".py",
   "mimetype": "text/x-python",
   "name": "python",
   "nbconvert_exporter": "python",
   "pygments_lexer": "ipython3",
   "version": "3.9.6"
  }
 },
 "nbformat": 4,
 "nbformat_minor": 2
}
