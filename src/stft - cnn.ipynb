{
 "cells": [
  {
   "cell_type": "markdown",
   "id": "140c536e-ff37-49f8-b143-f974f1012b9b",
   "metadata": {},
   "source": [
    "<u>Reload modules</u>"
   ]
  },
  {
   "cell_type": "code",
   "execution_count": 1,
   "id": "eb8cdc07",
   "metadata": {},
   "outputs": [],
   "source": [
    "%load_ext autoreload\n",
    "%autoreload 2"
   ]
  },
  {
   "cell_type": "markdown",
   "id": "af9372ca-5082-4663-8bc5-d4270d6b17c8",
   "metadata": {},
   "source": [
    "<u>Imports</u>"
   ]
  },
  {
   "cell_type": "code",
   "execution_count": 2,
   "id": "f05deaf2",
   "metadata": {},
   "outputs": [
    {
     "name": "stderr",
     "output_type": "stream",
     "text": [
      "2024-03-09 08:07:15.530650: I tensorflow/core/platform/cpu_feature_guard.cc:182] This TensorFlow binary is optimized to use available CPU instructions in performance-critical operations.\n",
      "To enable the following instructions: AVX2 FMA, in other operations, rebuild TensorFlow with the appropriate compiler flags.\n"
     ]
    }
   ],
   "source": [
    "# imports\n",
    "\n",
    "import os\n",
    "from os import listdir\n",
    "from os.path import isfile, split, join\n",
    "\n",
    "# Calculus\n",
    "\n",
    "import numpy as np\n",
    "import pandas as pd\n",
    "\n",
    "# Audio processing\n",
    "\n",
    "from midi2audio import FluidSynth\n",
    "import pretty_midi as pm\n",
    "import librosa\n",
    "import mido\n",
    "from mido import MidiFile, MidiTrack, Message, MetaMessage\n",
    "\n",
    "# Image processing\n",
    "\n",
    "from PIL import Image\n",
    "\n",
    "# Display\n",
    "\n",
    "import matplotlib.pyplot as plt\n",
    "\n",
    "# Model\n",
    "\n",
    "from sklearn.model_selection import train_test_split\n",
    "from tensorflow.keras.models import Sequential\n",
    "from tensorflow.keras.layers import Conv2D, MaxPooling2D, Flatten, Dense, Reshape, Dropout\n",
    "import keras"
   ]
  },
  {
   "cell_type": "markdown",
   "id": "1ec544ef-c306-4805-91c8-0b0849986e24",
   "metadata": {},
   "source": [
    "<u>Paths</u>"
   ]
  },
  {
   "cell_type": "code",
   "execution_count": 3,
   "id": "85bb0f3d",
   "metadata": {},
   "outputs": [],
   "source": [
    "midi_path = \"./data/midis/Aaron, Michael, Piano Course, V8WvKK-1b2c.mid\"\n",
    "chunk_directory = \"./data/chunks\"\n",
    "wav_directory = \"./data/wav\"\n",
    "spect_directory = \"./data/spect\""
   ]
  },
  {
   "cell_type": "markdown",
   "id": "5d9150bc-1e1a-40c0-adea-f2abb5861403",
   "metadata": {},
   "source": [
    "\n",
    "\n",
    "<u>Useful functions</u>"
   ]
  },
  {
   "cell_type": "markdown",
   "id": "d03ecd81-1ffa-4bf2-8af0-ceab9aba5952",
   "metadata": {},
   "source": [
    "function 1: <b>create chunks</b>\n",
    "\n",
    "<FONT COLOR=\"#ff0000\"><b>!!! Code from github project !!!</b></FONT>"
   ]
  },
  {
   "cell_type": "code",
   "execution_count": 59,
   "id": "15dfd1ee-b257-4713-a5d6-3928ca5395b0",
   "metadata": {},
   "outputs": [],
   "source": [
    "def split_midi_into_chunks(mid_file, target_directory, default_tempo=500000, target_segment_len=1):\n",
    "\n",
    "# Split the \"mid_file\" into many chunks and store them in the \"target_dir\"\n",
    "\n",
    "  song_name = split(mid_file)[-1][:-4]\n",
    "  mid = MidiFile(mid_file)\n",
    "\n",
    "# identify the meta messages\n",
    "\n",
    "  metas = []\n",
    "  tempo = default_tempo\n",
    "  for msg in mid:\n",
    "    if msg.type == 'set_tempo':\n",
    "      tempo = msg.tempo\n",
    "    if msg.is_meta:\n",
    "      metas.append(msg)\n",
    "  for meta in metas:\n",
    "    meta.time = int(mido.second2tick(meta.time, mid.ticks_per_beat, tempo))\n",
    "\n",
    "  target = MidiFile()\n",
    "  track = MidiTrack()\n",
    "  track.extend(metas)\n",
    "  target.tracks.append(track)\n",
    "  prefix = 0\n",
    "  time_elapsed = 0\n",
    "  for msg in mid:\n",
    "    # Skip non-note related messages\n",
    "    if msg.is_meta:\n",
    "      continue\n",
    "    time_elapsed += msg.time\n",
    "    if msg.type != 'end_of_track':\n",
    "      msg.time = int(mido.second2tick(msg.time, mid.ticks_per_beat, tempo))\n",
    "      track.append(msg)\n",
    "    if msg.type == 'end_of_track' or time_elapsed >= target_segment_len:\n",
    "      track.append(MetaMessage('end_of_track'))\n",
    "      target.save(join(target_directory, song_name + '_{}.mid'.format(prefix)))\n",
    "      target = MidiFile()\n",
    "      track = MidiTrack()\n",
    "      track.extend(metas)\n",
    "      target.tracks.append(track)\n",
    "      time_elapsed = 0\n",
    "      prefix += 1"
   ]
  },
  {
   "cell_type": "markdown",
   "id": "9ed54a7f-f212-4113-aa63-b0ee147e6026",
   "metadata": {},
   "source": [
    "function 2: <b>convert midi to audio .wav and save them </b>"
   ]
  },
  {
   "cell_type": "code",
   "execution_count": 5,
   "id": "afe3995f-c539-47a6-84f4-9264addb2818",
   "metadata": {},
   "outputs": [],
   "source": [
    "def convert_midi_to_wav(input_path=chunk_directory,output_path=wav_directory,soundfont=\"./soundfont/FluidR3_GM.sf2\",data_size=100):\n",
    "\n",
    "    # Converts the midi files in \"input_path\" into .wav audio files and store them in \"output_path\"\n",
    "\n",
    "    wav_name_list = []\n",
    "    \n",
    "    files = list(os.scandir(input_path))\n",
    "\n",
    "    for file in files[0:data_size]:\n",
    "        fs = FluidSynth(soundfont)\n",
    "        input = os.path.join(input_path, file.name)\n",
    "        output = os.path.join(output_path, f\"{file.name}.wav\")\n",
    "        fs.midi_to_audio(input,output)\n",
    "        wav_name_list.append(f\"{file.name}\")\n",
    "\n",
    "    return wav_name_list"
   ]
  },
  {
   "cell_type": "markdown",
   "id": "0e5f2ff4-9257-4144-ab7d-141e1e9edd8b",
   "metadata": {},
   "source": [
    "function 3: <b>convert .wav into spectograms and save them </b>(X preprocessing step)"
   ]
  },
  {
   "cell_type": "code",
   "execution_count": 6,
   "id": "e8303d0e-6956-4d8d-a5bb-78199409af08",
   "metadata": {},
   "outputs": [],
   "source": [
    "def from_audio_to_spectograms(input_path=wav_directory,output_path=spect_directory):\n",
    "    \n",
    "    indexing_value = 0\n",
    "    spect_name_list = []\n",
    "    files = [file for file in os.scandir(wav_directory) if file.name[-4:]==\".wav\"]\n",
    "\n",
    "    for file in files :\n",
    "        y, sr = librosa.load(file, sr=None)\n",
    "        S = np.abs(librosa.stft(y))\n",
    "        fig, ax = plt.subplots()\n",
    "        img = librosa.display.specshow(librosa.amplitude_to_db(S,ref=np.max),y_axis='log', x_axis='time', ax=ax)\n",
    "        plt.axis('off')\n",
    "        output_name = f'spectrogram{indexing_value}.png'\n",
    "        plt.savefig(os.path.join(output_path, output_name))\n",
    "        plt.close(fig)\n",
    "        spect_name_list.append(output_name[:-4])\n",
    "        indexing_value = indexing_value + 1\n",
    "    \n",
    "    return spect_name_list"
   ]
  },
  {
   "cell_type": "markdown",
   "id": "8b7c1cb6-b068-4ac7-86f9-7306c4fc026b",
   "metadata": {},
   "source": [
    "function 4: <b>returns clean & normalized X_normalized from a list of spectogram image </b>(X)"
   ]
  },
  {
   "cell_type": "code",
   "execution_count": 7,
   "id": "6e98c2b7-afb3-4efb-a936-da93e96ae8f1",
   "metadata": {},
   "outputs": [],
   "source": [
    "def from_img_to_array (input_path=spect_directory,img_size=(49,154)):\n",
    "    \n",
    "    array_img_list = []\n",
    "\n",
    "    name_list = [file.name for file in os.scandir(input_path) if file.name[-4:]==\".png\"]\n",
    "    \n",
    "    for name in name_list :\n",
    "        \n",
    "        # Removes the white frame and resizes the image\n",
    "        step1 = Image.open(os.path.join(input_path, name)).crop((80,58,576,427)).resize(img_size, Image.NEAREST)\n",
    "        \n",
    "        # Converts the image into np.array (RGBA)\n",
    "        step2 = np.array(step1)\n",
    "\n",
    "        # Normalizes the data \n",
    "        step3 = step2 / 255\n",
    "\n",
    "        # removes the last dimension (A -> transparency) which is useless\n",
    "        step4 = step3[:, :, :3] \n",
    "\n",
    "        array_img_list.append(step4)\n",
    "\n",
    "    X_normalized = np.array(array_img_list).reshape(len(array_img_list),img_size[0],img_size[1],3)\n",
    "    \n",
    "    return X_normalized"
   ]
  },
  {
   "cell_type": "markdown",
   "id": "caf146d2-becf-402f-9137-8871684452fc",
   "metadata": {},
   "source": [
    "Step 5: <b>encoding midi files notes </b>(preparation for y)\n",
    "\n",
    "<FONT COLOR=\"#ff0000\"><b>!!! Code from github project !!!</b></FONT>"
   ]
  },
  {
   "cell_type": "code",
   "execution_count": 8,
   "id": "12a53594",
   "metadata": {},
   "outputs": [],
   "source": [
    "#def pretty_midi_to_one_hot(pretty_midi_file, fs=100):\n",
    "#    one_hot = np.zeros((128, int(fs*pretty_midi_file.get_end_time())+1))\n",
    "#    for note in pretty_midi_file.instruments[0].notes:\n",
    "#        one_hot[note.pitch, int(note.start*fs)] = 1\n",
    "#        #print('note on',note.pitch, int(note.start*fs))\n",
    "#        one_hot[note.pitch, int(note.end*fs)] = 0\n",
    "#        #print('note off',note.pitch, int(note.end*fs))\n",
    "#    return one_hot\n",
    "\n",
    "def pretty_midi_to_one_hot(pm, fs=100):\n",
    "    \"\"\"Compute a one hot matrix of a pretty midi object\n",
    "    Parameters\n",
    "    ----------\n",
    "    pm : pretty_midi.PrettyMIDI\n",
    "        A pretty_midi.PrettyMIDI class instance describing\n",
    "        the piano roll.\n",
    "    fs : int\n",
    "        Sampling frequency of the columns, i.e. each column is spaced apart\n",
    "        by ``1./fs`` seconds.\n",
    "    Returns\n",
    "    -------\n",
    "    one_hot : np.ndarray, shape=(128,times.shape[0])\n",
    "        Piano roll of this instrument. 1 represents Note Ons,\n",
    "        -1 represents Note offs, 0 represents constant/do-nothing\n",
    "    \"\"\"\n",
    "\n",
    "    # Allocate a matrix of zeros - we will add in as we go\n",
    "    one_hots = []\n",
    "\n",
    "    if len(pm.instruments) < 1:\n",
    "        return 0\n",
    "\n",
    "    for instrument in pm.instruments:\n",
    "        one_hot = np.zeros((128, int(fs*instrument.get_end_time())+1))\n",
    "        for note in instrument.notes:\n",
    "            # note on\n",
    "            one_hot[note.pitch, int(note.start*fs)] = 1\n",
    "            # print('note on',note.pitch, int(note.start*fs))\n",
    "            # note off\n",
    "            one_hot[note.pitch, int(note.end*fs)] = 0\n",
    "            # print('note off',note.pitch, int(note.end*fs))\n",
    "        one_hots.append(one_hot)\n",
    "\n",
    "    one_hot = np.zeros((128, np.max([o.shape[1] for o in one_hots])))\n",
    "    for o in one_hots:\n",
    "        one_hot[:, :o.shape[1]] += o\n",
    "\n",
    "    one_hot = np.clip(one_hot,-1,1)\n",
    "    return one_hot\n",
    "\n",
    "def slice_to_categories(piano_roll):\n",
    "    notes_list = np.zeros(128)\n",
    "    notes = np.nonzero(piano_roll)[0]\n",
    "    notes = np.unique(notes)\n",
    "\n",
    "    for note in notes:\n",
    "        notes_list[note] = 1\n",
    "\n",
    "    return notes_list"
   ]
  },
  {
   "cell_type": "markdown",
   "id": "6a2624f8-755e-4b0b-a94b-b91e36b1eb26",
   "metadata": {},
   "source": [
    "Step 6: <b>turns midi chunks into arrays </b>(y \"one hot\" encoded)"
   ]
  },
  {
   "cell_type": "code",
   "execution_count": 18,
   "id": "779542dc-26fe-4d2e-920a-9c55c551e836",
   "metadata": {},
   "outputs": [],
   "source": [
    "def midi_to_oh_arrays (wav_name_list, input_path = chunk_directory) :\n",
    "    \n",
    "    y_list = []\n",
    "    \n",
    "    chunk_to_encode = wav_name_list\n",
    "    \n",
    "    for chunk in chunk_to_encode :\n",
    "        step0 = pm.PrettyMIDI(os.path.join(chunk_directory, chunk))\n",
    "        step1 = pretty_midi_to_one_hot(step0)\n",
    "        step2 = slice_to_categories(step1)\n",
    "        y_list.append(step2)\n",
    "\n",
    "    y_encoded = np.array(y_list)\n",
    "    \n",
    "    return y_encoded"
   ]
  },
  {
   "cell_type": "markdown",
   "id": "7b0af105-714f-4311-ae6a-4996fc38fdbe",
   "metadata": {},
   "source": [
    "<u>Create X and y</u>"
   ]
  },
  {
   "cell_type": "code",
   "execution_count": 10,
   "id": "f2da7cf6-caa4-4a41-9416-36b2debb9d09",
   "metadata": {},
   "outputs": [],
   "source": [
    "data_size = 100"
   ]
  },
  {
   "cell_type": "code",
   "execution_count": 11,
   "id": "0fb8f099-11f1-4460-87be-3097ca842b5e",
   "metadata": {},
   "outputs": [],
   "source": [
    "split_midi_into_chunks(midi_path,chunk_directory)"
   ]
  },
  {
   "cell_type": "code",
   "execution_count": 12,
   "id": "e7bdf098",
   "metadata": {},
   "outputs": [
    {
     "name": "stderr",
     "output_type": "stream",
     "text": [
      "fluidsynth: warning: End of the MIDI file reached, but not all notes have received a note off event! OFFing them now! Run with --verbose to spot pending voices.\n"
     ]
    },
    {
     "name": "stdout",
     "output_type": "stream",
     "text": [
      "FluidSynth runtime version 2.3.4\n",
      "Copyright (C) 2000-2023 Peter Hanappe and others.\n",
      "Distributed under the LGPL license.\n",
      "SoundFont(R) is a registered trademark of Creative Technology Ltd.\n",
      "\n",
      "Rendering audio to file './data/wav/Aaron, Michael, Piano Course, V8WvKK-1b2c_735.mid.wav'..\n"
     ]
    },
    {
     "name": "stderr",
     "output_type": "stream",
     "text": [
      "fluidsynth: warning: End of the MIDI file reached, but not all notes have received a note off event! OFFing them now! Run with --verbose to spot pending voices.\n"
     ]
    },
    {
     "name": "stdout",
     "output_type": "stream",
     "text": [
      "FluidSynth runtime version 2.3.4\n",
      "Copyright (C) 2000-2023 Peter Hanappe and others.\n",
      "Distributed under the LGPL license.\n",
      "SoundFont(R) is a registered trademark of Creative Technology Ltd.\n",
      "\n",
      "Rendering audio to file './data/wav/Aaron, Michael, Piano Course, V8WvKK-1b2c_721.mid.wav'..\n"
     ]
    },
    {
     "name": "stderr",
     "output_type": "stream",
     "text": [
      "fluidsynth: warning: End of the MIDI file reached, but not all notes have received a note off event! OFFing them now! Run with --verbose to spot pending voices.\n"
     ]
    },
    {
     "name": "stdout",
     "output_type": "stream",
     "text": [
      "FluidSynth runtime version 2.3.4\n",
      "Copyright (C) 2000-2023 Peter Hanappe and others.\n",
      "Distributed under the LGPL license.\n",
      "SoundFont(R) is a registered trademark of Creative Technology Ltd.\n",
      "\n",
      "Rendering audio to file './data/wav/Aaron, Michael, Piano Course, V8WvKK-1b2c_709.mid.wav'..\n"
     ]
    },
    {
     "name": "stderr",
     "output_type": "stream",
     "text": [
      "fluidsynth: warning: End of the MIDI file reached, but not all notes have received a note off event! OFFing them now! Run with --verbose to spot pending voices.\n"
     ]
    },
    {
     "name": "stdout",
     "output_type": "stream",
     "text": [
      "FluidSynth runtime version 2.3.4\n",
      "Copyright (C) 2000-2023 Peter Hanappe and others.\n",
      "Distributed under the LGPL license.\n",
      "SoundFont(R) is a registered trademark of Creative Technology Ltd.\n",
      "\n",
      "Rendering audio to file './data/wav/Aaron, Michael, Piano Course, V8WvKK-1b2c_912.mid.wav'..\n"
     ]
    },
    {
     "name": "stderr",
     "output_type": "stream",
     "text": [
      "fluidsynth: warning: End of the MIDI file reached, but not all notes have received a note off event! OFFing them now! Run with --verbose to spot pending voices.\n"
     ]
    },
    {
     "name": "stdout",
     "output_type": "stream",
     "text": [
      "FluidSynth runtime version 2.3.4\n",
      "Copyright (C) 2000-2023 Peter Hanappe and others.\n",
      "Distributed under the LGPL license.\n",
      "SoundFont(R) is a registered trademark of Creative Technology Ltd.\n",
      "\n",
      "Rendering audio to file './data/wav/Aaron, Michael, Piano Course, V8WvKK-1b2c_906.mid.wav'..\n"
     ]
    },
    {
     "name": "stderr",
     "output_type": "stream",
     "text": [
      "fluidsynth: warning: End of the MIDI file reached, but not all notes have received a note off event! OFFing them now! Run with --verbose to spot pending voices.\n"
     ]
    },
    {
     "name": "stdout",
     "output_type": "stream",
     "text": [
      "FluidSynth runtime version 2.3.4\n",
      "Copyright (C) 2000-2023 Peter Hanappe and others.\n",
      "Distributed under the LGPL license.\n",
      "SoundFont(R) is a registered trademark of Creative Technology Ltd.\n",
      "\n",
      "Rendering audio to file './data/wav/Aaron, Michael, Piano Course, V8WvKK-1b2c_10.mid.wav'..\n"
     ]
    },
    {
     "name": "stderr",
     "output_type": "stream",
     "text": [
      "fluidsynth: warning: End of the MIDI file reached, but not all notes have received a note off event! OFFing them now! Run with --verbose to spot pending voices.\n"
     ]
    },
    {
     "name": "stdout",
     "output_type": "stream",
     "text": [
      "FluidSynth runtime version 2.3.4\n",
      "Copyright (C) 2000-2023 Peter Hanappe and others.\n",
      "Distributed under the LGPL license.\n",
      "SoundFont(R) is a registered trademark of Creative Technology Ltd.\n",
      "\n",
      "Rendering audio to file './data/wav/Aaron, Michael, Piano Course, V8WvKK-1b2c_251.mid.wav'..\n"
     ]
    },
    {
     "name": "stderr",
     "output_type": "stream",
     "text": [
      "fluidsynth: warning: End of the MIDI file reached, but not all notes have received a note off event! OFFing them now! Run with --verbose to spot pending voices.\n"
     ]
    },
    {
     "name": "stdout",
     "output_type": "stream",
     "text": [
      "FluidSynth runtime version 2.3.4\n",
      "Copyright (C) 2000-2023 Peter Hanappe and others.\n",
      "Distributed under the LGPL license.\n",
      "SoundFont(R) is a registered trademark of Creative Technology Ltd.\n",
      "\n",
      "Rendering audio to file './data/wav/Aaron, Michael, Piano Course, V8WvKK-1b2c_537.mid.wav'..\n",
      "FluidSynth runtime version 2.3.4\n",
      "Copyright (C) 2000-2023 Peter Hanappe and others.\n",
      "Distributed under the LGPL license.\n",
      "SoundFont(R) is a registered trademark of Creative Technology Ltd.\n",
      "\n",
      "Rendering audio to file './data/wav/Aaron, Michael, Piano Course, V8WvKK-1b2c_523.mid.wav'..\n"
     ]
    },
    {
     "name": "stderr",
     "output_type": "stream",
     "text": [
      "fluidsynth: warning: End of the MIDI file reached, but not all notes have received a note off event! OFFing them now! Run with --verbose to spot pending voices.\n"
     ]
    },
    {
     "name": "stdout",
     "output_type": "stream",
     "text": [
      "FluidSynth runtime version 2.3.4\n",
      "Copyright (C) 2000-2023 Peter Hanappe and others.\n",
      "Distributed under the LGPL license.\n",
      "SoundFont(R) is a registered trademark of Creative Technology Ltd.\n",
      "\n",
      "Rendering audio to file './data/wav/Aaron, Michael, Piano Course, V8WvKK-1b2c_245.mid.wav'..\n",
      "FluidSynth runtime version 2.3.4\n",
      "Copyright (C) 2000-2023 Peter Hanappe and others.\n",
      "Distributed under the LGPL license.\n",
      "SoundFont(R) is a registered trademark of Creative Technology Ltd.\n",
      "\n",
      "Rendering audio to file './data/wav/Aaron, Michael, Piano Course, V8WvKK-1b2c_38.mid.wav'..\n"
     ]
    },
    {
     "name": "stderr",
     "output_type": "stream",
     "text": [
      "fluidsynth: warning: End of the MIDI file reached, but not all notes have received a note off event! OFFing them now! Run with --verbose to spot pending voices.\n"
     ]
    },
    {
     "name": "stdout",
     "output_type": "stream",
     "text": [
      "FluidSynth runtime version 2.3.4\n",
      "Copyright (C) 2000-2023 Peter Hanappe and others.\n",
      "Distributed under the LGPL license.\n",
      "SoundFont(R) is a registered trademark of Creative Technology Ltd.\n",
      "\n",
      "Rendering audio to file './data/wav/Aaron, Michael, Piano Course, V8WvKK-1b2c_279.mid.wav'..\n"
     ]
    },
    {
     "name": "stderr",
     "output_type": "stream",
     "text": [
      "fluidsynth: warning: End of the MIDI file reached, but not all notes have received a note off event! OFFing them now! Run with --verbose to spot pending voices.\n"
     ]
    },
    {
     "name": "stdout",
     "output_type": "stream",
     "text": [
      "FluidSynth runtime version 2.3.4\n",
      "Copyright (C) 2000-2023 Peter Hanappe and others.\n",
      "Distributed under the LGPL license.\n",
      "SoundFont(R) is a registered trademark of Creative Technology Ltd.\n",
      "\n",
      "Rendering audio to file './data/wav/Aaron, Michael, Piano Course, V8WvKK-1b2c_292.mid.wav'..\n"
     ]
    },
    {
     "name": "stderr",
     "output_type": "stream",
     "text": [
      "fluidsynth: warning: End of the MIDI file reached, but not all notes have received a note off event! OFFing them now! Run with --verbose to spot pending voices.\n"
     ]
    },
    {
     "name": "stdout",
     "output_type": "stream",
     "text": [
      "FluidSynth runtime version 2.3.4\n",
      "Copyright (C) 2000-2023 Peter Hanappe and others.\n",
      "Distributed under the LGPL license.\n",
      "SoundFont(R) is a registered trademark of Creative Technology Ltd.\n",
      "\n",
      "Rendering audio to file './data/wav/Aaron, Michael, Piano Course, V8WvKK-1b2c_1002.mid.wav'..\n"
     ]
    },
    {
     "name": "stderr",
     "output_type": "stream",
     "text": [
      "fluidsynth: warning: End of the MIDI file reached, but not all notes have received a note off event! OFFing them now! Run with --verbose to spot pending voices.\n"
     ]
    },
    {
     "name": "stdout",
     "output_type": "stream",
     "text": [
      "FluidSynth runtime version 2.3.4\n",
      "Copyright (C) 2000-2023 Peter Hanappe and others.\n",
      "Distributed under the LGPL license.\n",
      "SoundFont(R) is a registered trademark of Creative Technology Ltd.\n",
      "\n",
      "Rendering audio to file './data/wav/Aaron, Michael, Piano Course, V8WvKK-1b2c_1016.mid.wav'..\n"
     ]
    },
    {
     "name": "stderr",
     "output_type": "stream",
     "text": [
      "fluidsynth: warning: End of the MIDI file reached, but not all notes have received a note off event! OFFing them now! Run with --verbose to spot pending voices.\n"
     ]
    },
    {
     "name": "stdout",
     "output_type": "stream",
     "text": [
      "FluidSynth runtime version 2.3.4\n",
      "Copyright (C) 2000-2023 Peter Hanappe and others.\n",
      "Distributed under the LGPL license.\n",
      "SoundFont(R) is a registered trademark of Creative Technology Ltd.\n",
      "\n",
      "Rendering audio to file './data/wav/Aaron, Michael, Piano Course, V8WvKK-1b2c_286.mid.wav'..\n"
     ]
    },
    {
     "name": "stderr",
     "output_type": "stream",
     "text": [
      "fluidsynth: warning: End of the MIDI file reached, but not all notes have received a note off event! OFFing them now! Run with --verbose to spot pending voices.\n"
     ]
    },
    {
     "name": "stdout",
     "output_type": "stream",
     "text": [
      "FluidSynth runtime version 2.3.4\n",
      "Copyright (C) 2000-2023 Peter Hanappe and others.\n",
      "Distributed under the LGPL license.\n",
      "SoundFont(R) is a registered trademark of Creative Technology Ltd.\n",
      "\n",
      "Rendering audio to file './data/wav/Aaron, Michael, Piano Course, V8WvKK-1b2c_325.mid.wav'..\n"
     ]
    },
    {
     "name": "stderr",
     "output_type": "stream",
     "text": [
      "fluidsynth: warning: End of the MIDI file reached, but not all notes have received a note off event! OFFing them now! Run with --verbose to spot pending voices.\n"
     ]
    },
    {
     "name": "stdout",
     "output_type": "stream",
     "text": [
      "FluidSynth runtime version 2.3.4\n",
      "Copyright (C) 2000-2023 Peter Hanappe and others.\n",
      "Distributed under the LGPL license.\n",
      "SoundFont(R) is a registered trademark of Creative Technology Ltd.\n",
      "\n",
      "Rendering audio to file './data/wav/Aaron, Michael, Piano Course, V8WvKK-1b2c_443.mid.wav'..\n"
     ]
    },
    {
     "name": "stderr",
     "output_type": "stream",
     "text": [
      "fluidsynth: warning: End of the MIDI file reached, but not all notes have received a note off event! OFFing them now! Run with --verbose to spot pending voices.\n"
     ]
    },
    {
     "name": "stdout",
     "output_type": "stream",
     "text": [
      "FluidSynth runtime version 2.3.4\n",
      "Copyright (C) 2000-2023 Peter Hanappe and others.\n",
      "Distributed under the LGPL license.\n",
      "SoundFont(R) is a registered trademark of Creative Technology Ltd.\n",
      "\n",
      "Rendering audio to file './data/wav/Aaron, Michael, Piano Course, V8WvKK-1b2c_457.mid.wav'..\n"
     ]
    },
    {
     "name": "stderr",
     "output_type": "stream",
     "text": [
      "fluidsynth: warning: End of the MIDI file reached, but not all notes have received a note off event! OFFing them now! Run with --verbose to spot pending voices.\n"
     ]
    },
    {
     "name": "stdout",
     "output_type": "stream",
     "text": [
      "FluidSynth runtime version 2.3.4\n",
      "Copyright (C) 2000-2023 Peter Hanappe and others.\n",
      "Distributed under the LGPL license.\n",
      "SoundFont(R) is a registered trademark of Creative Technology Ltd.\n",
      "\n",
      "Rendering audio to file './data/wav/Aaron, Michael, Piano Course, V8WvKK-1b2c_331.mid.wav'..\n"
     ]
    },
    {
     "name": "stderr",
     "output_type": "stream",
     "text": [
      "fluidsynth: warning: End of the MIDI file reached, but not all notes have received a note off event! OFFing them now! Run with --verbose to spot pending voices.\n"
     ]
    },
    {
     "name": "stdout",
     "output_type": "stream",
     "text": [
      "FluidSynth runtime version 2.3.4\n",
      "Copyright (C) 2000-2023 Peter Hanappe and others.\n",
      "Distributed under the LGPL license.\n",
      "SoundFont(R) is a registered trademark of Creative Technology Ltd.\n",
      "\n",
      "Rendering audio to file './data/wav/Aaron, Michael, Piano Course, V8WvKK-1b2c_319.mid.wav'..\n"
     ]
    },
    {
     "name": "stderr",
     "output_type": "stream",
     "text": [
      "fluidsynth: warning: End of the MIDI file reached, but not all notes have received a note off event! OFFing them now! Run with --verbose to spot pending voices.\n"
     ]
    },
    {
     "name": "stdout",
     "output_type": "stream",
     "text": [
      "FluidSynth runtime version 2.3.4\n",
      "Copyright (C) 2000-2023 Peter Hanappe and others.\n",
      "Distributed under the LGPL license.\n",
      "SoundFont(R) is a registered trademark of Creative Technology Ltd.\n",
      "\n",
      "Rendering audio to file './data/wav/Aaron, Michael, Piano Course, V8WvKK-1b2c_480.mid.wav'..\n"
     ]
    },
    {
     "name": "stderr",
     "output_type": "stream",
     "text": [
      "fluidsynth: warning: End of the MIDI file reached, but not all notes have received a note off event! OFFing them now! Run with --verbose to spot pending voices.\n"
     ]
    },
    {
     "name": "stdout",
     "output_type": "stream",
     "text": [
      "FluidSynth runtime version 2.3.4\n",
      "Copyright (C) 2000-2023 Peter Hanappe and others.\n",
      "Distributed under the LGPL license.\n",
      "SoundFont(R) is a registered trademark of Creative Technology Ltd.\n",
      "\n",
      "Rendering audio to file './data/wav/Aaron, Michael, Piano Course, V8WvKK-1b2c_494.mid.wav'..\n"
     ]
    },
    {
     "name": "stderr",
     "output_type": "stream",
     "text": [
      "fluidsynth: warning: End of the MIDI file reached, but not all notes have received a note off event! OFFing them now! Run with --verbose to spot pending voices.\n"
     ]
    },
    {
     "name": "stdout",
     "output_type": "stream",
     "text": [
      "FluidSynth runtime version 2.3.4\n",
      "Copyright (C) 2000-2023 Peter Hanappe and others.\n",
      "Distributed under the LGPL license.\n",
      "SoundFont(R) is a registered trademark of Creative Technology Ltd.\n",
      "\n",
      "Rendering audio to file './data/wav/Aaron, Michael, Piano Course, V8WvKK-1b2c_899.mid.wav'..\n"
     ]
    },
    {
     "name": "stderr",
     "output_type": "stream",
     "text": [
      "fluidsynth: warning: End of the MIDI file reached, but not all notes have received a note off event! OFFing them now! Run with --verbose to spot pending voices.\n"
     ]
    },
    {
     "name": "stdout",
     "output_type": "stream",
     "text": [
      "FluidSynth runtime version 2.3.4\n",
      "Copyright (C) 2000-2023 Peter Hanappe and others.\n",
      "Distributed under the LGPL license.\n",
      "SoundFont(R) is a registered trademark of Creative Technology Ltd.\n",
      "\n",
      "Rendering audio to file './data/wav/Aaron, Michael, Piano Course, V8WvKK-1b2c_641.mid.wav'..\n"
     ]
    },
    {
     "name": "stderr",
     "output_type": "stream",
     "text": [
      "fluidsynth: warning: End of the MIDI file reached, but not all notes have received a note off event! OFFing them now! Run with --verbose to spot pending voices.\n"
     ]
    },
    {
     "name": "stdout",
     "output_type": "stream",
     "text": [
      "FluidSynth runtime version 2.3.4\n",
      "Copyright (C) 2000-2023 Peter Hanappe and others.\n",
      "Distributed under the LGPL license.\n",
      "SoundFont(R) is a registered trademark of Creative Technology Ltd.\n",
      "\n",
      "Rendering audio to file './data/wav/Aaron, Michael, Piano Course, V8WvKK-1b2c_127.mid.wav'..\n"
     ]
    },
    {
     "name": "stderr",
     "output_type": "stream",
     "text": [
      "fluidsynth: warning: End of the MIDI file reached, but not all notes have received a note off event! OFFing them now! Run with --verbose to spot pending voices.\n"
     ]
    },
    {
     "name": "stdout",
     "output_type": "stream",
     "text": [
      "FluidSynth runtime version 2.3.4\n",
      "Copyright (C) 2000-2023 Peter Hanappe and others.\n",
      "Distributed under the LGPL license.\n",
      "SoundFont(R) is a registered trademark of Creative Technology Ltd.\n",
      "\n",
      "Rendering audio to file './data/wav/Aaron, Michael, Piano Course, V8WvKK-1b2c_133.mid.wav'..\n"
     ]
    },
    {
     "name": "stderr",
     "output_type": "stream",
     "text": [
      "fluidsynth: warning: End of the MIDI file reached, but not all notes have received a note off event! OFFing them now! Run with --verbose to spot pending voices.\n"
     ]
    },
    {
     "name": "stdout",
     "output_type": "stream",
     "text": [
      "FluidSynth runtime version 2.3.4\n",
      "Copyright (C) 2000-2023 Peter Hanappe and others.\n",
      "Distributed under the LGPL license.\n",
      "SoundFont(R) is a registered trademark of Creative Technology Ltd.\n",
      "\n",
      "Rendering audio to file './data/wav/Aaron, Michael, Piano Course, V8WvKK-1b2c_655.mid.wav'..\n"
     ]
    },
    {
     "name": "stderr",
     "output_type": "stream",
     "text": [
      "fluidsynth: warning: End of the MIDI file reached, but not all notes have received a note off event! OFFing them now! Run with --verbose to spot pending voices.\n"
     ]
    },
    {
     "name": "stdout",
     "output_type": "stream",
     "text": [
      "FluidSynth runtime version 2.3.4\n",
      "Copyright (C) 2000-2023 Peter Hanappe and others.\n",
      "Distributed under the LGPL license.\n",
      "SoundFont(R) is a registered trademark of Creative Technology Ltd.\n",
      "\n",
      "Rendering audio to file './data/wav/Aaron, Michael, Piano Course, V8WvKK-1b2c_669.mid.wav'..\n"
     ]
    },
    {
     "name": "stderr",
     "output_type": "stream",
     "text": [
      "fluidsynth: warning: End of the MIDI file reached, but not all notes have received a note off event! OFFing them now! Run with --verbose to spot pending voices.\n"
     ]
    },
    {
     "name": "stdout",
     "output_type": "stream",
     "text": [
      "FluidSynth runtime version 2.3.4\n",
      "Copyright (C) 2000-2023 Peter Hanappe and others.\n",
      "Distributed under the LGPL license.\n",
      "SoundFont(R) is a registered trademark of Creative Technology Ltd.\n",
      "\n",
      "Rendering audio to file './data/wav/Aaron, Michael, Piano Course, V8WvKK-1b2c_682.mid.wav'..\n"
     ]
    },
    {
     "name": "stderr",
     "output_type": "stream",
     "text": [
      "fluidsynth: warning: End of the MIDI file reached, but not all notes have received a note off event! OFFing them now! Run with --verbose to spot pending voices.\n"
     ]
    },
    {
     "name": "stdout",
     "output_type": "stream",
     "text": [
      "FluidSynth runtime version 2.3.4\n",
      "Copyright (C) 2000-2023 Peter Hanappe and others.\n",
      "Distributed under the LGPL license.\n",
      "SoundFont(R) is a registered trademark of Creative Technology Ltd.\n",
      "\n",
      "Rendering audio to file './data/wav/Aaron, Michael, Piano Course, V8WvKK-1b2c_696.mid.wav'..\n",
      "FluidSynth runtime version 2.3.4\n",
      "Copyright (C) 2000-2023 Peter Hanappe and others.\n",
      "Distributed under the LGPL license.\n",
      "SoundFont(R) is a registered trademark of Creative Technology Ltd.\n",
      "\n",
      "Rendering audio to file './data/wav/Aaron, Michael, Piano Course, V8WvKK-1b2c_866.mid.wav'..\n"
     ]
    },
    {
     "name": "stderr",
     "output_type": "stream",
     "text": [
      "fluidsynth: warning: End of the MIDI file reached, but not all notes have received a note off event! OFFing them now! Run with --verbose to spot pending voices.\n"
     ]
    },
    {
     "name": "stdout",
     "output_type": "stream",
     "text": [
      "FluidSynth runtime version 2.3.4\n",
      "Copyright (C) 2000-2023 Peter Hanappe and others.\n",
      "Distributed under the LGPL license.\n",
      "SoundFont(R) is a registered trademark of Creative Technology Ltd.\n",
      "\n",
      "Rendering audio to file './data/wav/Aaron, Michael, Piano Course, V8WvKK-1b2c_872.mid.wav'..\n"
     ]
    },
    {
     "name": "stderr",
     "output_type": "stream",
     "text": [
      "fluidsynth: warning: End of the MIDI file reached, but not all notes have received a note off event! OFFing them now! Run with --verbose to spot pending voices.\n"
     ]
    },
    {
     "name": "stdout",
     "output_type": "stream",
     "text": [
      "FluidSynth runtime version 2.3.4\n",
      "Copyright (C) 2000-2023 Peter Hanappe and others.\n",
      "Distributed under the LGPL license.\n",
      "SoundFont(R) is a registered trademark of Creative Technology Ltd.\n",
      "\n",
      "Rendering audio to file './data/wav/Aaron, Michael, Piano Course, V8WvKK-1b2c_873.mid.wav'..\n"
     ]
    },
    {
     "name": "stderr",
     "output_type": "stream",
     "text": [
      "fluidsynth: warning: End of the MIDI file reached, but not all notes have received a note off event! OFFing them now! Run with --verbose to spot pending voices.\n"
     ]
    },
    {
     "name": "stdout",
     "output_type": "stream",
     "text": [
      "FluidSynth runtime version 2.3.4\n",
      "Copyright (C) 2000-2023 Peter Hanappe and others.\n",
      "Distributed under the LGPL license.\n",
      "SoundFont(R) is a registered trademark of Creative Technology Ltd.\n",
      "\n",
      "Rendering audio to file './data/wav/Aaron, Michael, Piano Course, V8WvKK-1b2c_867.mid.wav'..\n"
     ]
    },
    {
     "name": "stderr",
     "output_type": "stream",
     "text": [
      "fluidsynth: warning: End of the MIDI file reached, but not all notes have received a note off event! OFFing them now! Run with --verbose to spot pending voices.\n"
     ]
    },
    {
     "name": "stdout",
     "output_type": "stream",
     "text": [
      "FluidSynth runtime version 2.3.4\n",
      "Copyright (C) 2000-2023 Peter Hanappe and others.\n",
      "Distributed under the LGPL license.\n",
      "SoundFont(R) is a registered trademark of Creative Technology Ltd.\n",
      "\n",
      "Rendering audio to file './data/wav/Aaron, Michael, Piano Course, V8WvKK-1b2c_697.mid.wav'..\n",
      "FluidSynth runtime version 2.3.4\n",
      "Copyright (C) 2000-2023 Peter Hanappe and others.\n",
      "Distributed under the LGPL license.\n",
      "SoundFont(R) is a registered trademark of Creative Technology Ltd.\n",
      "\n",
      "Rendering audio to file './data/wav/Aaron, Michael, Piano Course, V8WvKK-1b2c_683.mid.wav'..\n"
     ]
    },
    {
     "name": "stderr",
     "output_type": "stream",
     "text": [
      "fluidsynth: warning: End of the MIDI file reached, but not all notes have received a note off event! OFFing them now! Run with --verbose to spot pending voices.\n"
     ]
    },
    {
     "name": "stdout",
     "output_type": "stream",
     "text": [
      "FluidSynth runtime version 2.3.4\n",
      "Copyright (C) 2000-2023 Peter Hanappe and others.\n",
      "Distributed under the LGPL license.\n",
      "SoundFont(R) is a registered trademark of Creative Technology Ltd.\n",
      "\n",
      "Rendering audio to file './data/wav/Aaron, Michael, Piano Course, V8WvKK-1b2c_668.mid.wav'..\n"
     ]
    },
    {
     "name": "stderr",
     "output_type": "stream",
     "text": [
      "fluidsynth: warning: End of the MIDI file reached, but not all notes have received a note off event! OFFing them now! Run with --verbose to spot pending voices.\n"
     ]
    },
    {
     "name": "stdout",
     "output_type": "stream",
     "text": [
      "FluidSynth runtime version 2.3.4\n",
      "Copyright (C) 2000-2023 Peter Hanappe and others.\n",
      "Distributed under the LGPL license.\n",
      "SoundFont(R) is a registered trademark of Creative Technology Ltd.\n",
      "\n",
      "Rendering audio to file './data/wav/Aaron, Michael, Piano Course, V8WvKK-1b2c_132.mid.wav'..\n"
     ]
    },
    {
     "name": "stderr",
     "output_type": "stream",
     "text": [
      "fluidsynth: warning: End of the MIDI file reached, but not all notes have received a note off event! OFFing them now! Run with --verbose to spot pending voices.\n"
     ]
    },
    {
     "name": "stdout",
     "output_type": "stream",
     "text": [
      "FluidSynth runtime version 2.3.4\n",
      "Copyright (C) 2000-2023 Peter Hanappe and others.\n",
      "Distributed under the LGPL license.\n",
      "SoundFont(R) is a registered trademark of Creative Technology Ltd.\n",
      "\n",
      "Rendering audio to file './data/wav/Aaron, Michael, Piano Course, V8WvKK-1b2c_654.mid.wav'..\n"
     ]
    },
    {
     "name": "stderr",
     "output_type": "stream",
     "text": [
      "fluidsynth: warning: End of the MIDI file reached, but not all notes have received a note off event! OFFing them now! Run with --verbose to spot pending voices.\n"
     ]
    },
    {
     "name": "stdout",
     "output_type": "stream",
     "text": [
      "FluidSynth runtime version 2.3.4\n",
      "Copyright (C) 2000-2023 Peter Hanappe and others.\n",
      "Distributed under the LGPL license.\n",
      "SoundFont(R) is a registered trademark of Creative Technology Ltd.\n",
      "\n",
      "Rendering audio to file './data/wav/Aaron, Michael, Piano Course, V8WvKK-1b2c_640.mid.wav'..\n"
     ]
    },
    {
     "name": "stderr",
     "output_type": "stream",
     "text": [
      "fluidsynth: warning: End of the MIDI file reached, but not all notes have received a note off event! OFFing them now! Run with --verbose to spot pending voices.\n"
     ]
    },
    {
     "name": "stdout",
     "output_type": "stream",
     "text": [
      "FluidSynth runtime version 2.3.4\n",
      "Copyright (C) 2000-2023 Peter Hanappe and others.\n",
      "Distributed under the LGPL license.\n",
      "SoundFont(R) is a registered trademark of Creative Technology Ltd.\n",
      "\n",
      "Rendering audio to file './data/wav/Aaron, Michael, Piano Course, V8WvKK-1b2c_898.mid.wav'..\n"
     ]
    },
    {
     "name": "stderr",
     "output_type": "stream",
     "text": [
      "fluidsynth: warning: End of the MIDI file reached, but not all notes have received a note off event! OFFing them now! Run with --verbose to spot pending voices.\n"
     ]
    },
    {
     "name": "stdout",
     "output_type": "stream",
     "text": [
      "FluidSynth runtime version 2.3.4\n",
      "Copyright (C) 2000-2023 Peter Hanappe and others.\n",
      "Distributed under the LGPL license.\n",
      "SoundFont(R) is a registered trademark of Creative Technology Ltd.\n",
      "\n",
      "Rendering audio to file './data/wav/Aaron, Michael, Piano Course, V8WvKK-1b2c_126.mid.wav'..\n"
     ]
    },
    {
     "name": "stderr",
     "output_type": "stream",
     "text": [
      "fluidsynth: warning: End of the MIDI file reached, but not all notes have received a note off event! OFFing them now! Run with --verbose to spot pending voices.\n"
     ]
    },
    {
     "name": "stdout",
     "output_type": "stream",
     "text": [
      "FluidSynth runtime version 2.3.4\n",
      "Copyright (C) 2000-2023 Peter Hanappe and others.\n",
      "Distributed under the LGPL license.\n",
      "SoundFont(R) is a registered trademark of Creative Technology Ltd.\n",
      "\n",
      "Rendering audio to file './data/wav/Aaron, Michael, Piano Course, V8WvKK-1b2c_495.mid.wav'..\n"
     ]
    },
    {
     "name": "stderr",
     "output_type": "stream",
     "text": [
      "fluidsynth: warning: End of the MIDI file reached, but not all notes have received a note off event! OFFing them now! Run with --verbose to spot pending voices.\n"
     ]
    },
    {
     "name": "stdout",
     "output_type": "stream",
     "text": [
      "FluidSynth runtime version 2.3.4\n",
      "Copyright (C) 2000-2023 Peter Hanappe and others.\n",
      "Distributed under the LGPL license.\n",
      "SoundFont(R) is a registered trademark of Creative Technology Ltd.\n",
      "\n",
      "Rendering audio to file './data/wav/Aaron, Michael, Piano Course, V8WvKK-1b2c_481.mid.wav'..\n"
     ]
    },
    {
     "name": "stderr",
     "output_type": "stream",
     "text": [
      "fluidsynth: warning: End of the MIDI file reached, but not all notes have received a note off event! OFFing them now! Run with --verbose to spot pending voices.\n"
     ]
    },
    {
     "name": "stdout",
     "output_type": "stream",
     "text": [
      "FluidSynth runtime version 2.3.4\n",
      "Copyright (C) 2000-2023 Peter Hanappe and others.\n",
      "Distributed under the LGPL license.\n",
      "SoundFont(R) is a registered trademark of Creative Technology Ltd.\n",
      "\n",
      "Rendering audio to file './data/wav/Aaron, Michael, Piano Course, V8WvKK-1b2c_318.mid.wav'..\n"
     ]
    },
    {
     "name": "stderr",
     "output_type": "stream",
     "text": [
      "fluidsynth: warning: End of the MIDI file reached, but not all notes have received a note off event! OFFing them now! Run with --verbose to spot pending voices.\n"
     ]
    },
    {
     "name": "stdout",
     "output_type": "stream",
     "text": [
      "FluidSynth runtime version 2.3.4\n",
      "Copyright (C) 2000-2023 Peter Hanappe and others.\n",
      "Distributed under the LGPL license.\n",
      "SoundFont(R) is a registered trademark of Creative Technology Ltd.\n",
      "\n",
      "Rendering audio to file './data/wav/Aaron, Michael, Piano Course, V8WvKK-1b2c_456.mid.wav'..\n"
     ]
    },
    {
     "name": "stderr",
     "output_type": "stream",
     "text": [
      "fluidsynth: warning: End of the MIDI file reached, but not all notes have received a note off event! OFFing them now! Run with --verbose to spot pending voices.\n"
     ]
    },
    {
     "name": "stdout",
     "output_type": "stream",
     "text": [
      "FluidSynth runtime version 2.3.4\n",
      "Copyright (C) 2000-2023 Peter Hanappe and others.\n",
      "Distributed under the LGPL license.\n",
      "SoundFont(R) is a registered trademark of Creative Technology Ltd.\n",
      "\n",
      "Rendering audio to file './data/wav/Aaron, Michael, Piano Course, V8WvKK-1b2c_330.mid.wav'..\n"
     ]
    },
    {
     "name": "stderr",
     "output_type": "stream",
     "text": [
      "fluidsynth: warning: End of the MIDI file reached, but not all notes have received a note off event! OFFing them now! Run with --verbose to spot pending voices.\n"
     ]
    },
    {
     "name": "stdout",
     "output_type": "stream",
     "text": [
      "FluidSynth runtime version 2.3.4\n",
      "Copyright (C) 2000-2023 Peter Hanappe and others.\n",
      "Distributed under the LGPL license.\n",
      "SoundFont(R) is a registered trademark of Creative Technology Ltd.\n",
      "\n",
      "Rendering audio to file './data/wav/Aaron, Michael, Piano Course, V8WvKK-1b2c_324.mid.wav'..\n"
     ]
    },
    {
     "name": "stderr",
     "output_type": "stream",
     "text": [
      "fluidsynth: warning: End of the MIDI file reached, but not all notes have received a note off event! OFFing them now! Run with --verbose to spot pending voices.\n"
     ]
    },
    {
     "name": "stdout",
     "output_type": "stream",
     "text": [
      "FluidSynth runtime version 2.3.4\n",
      "Copyright (C) 2000-2023 Peter Hanappe and others.\n",
      "Distributed under the LGPL license.\n",
      "SoundFont(R) is a registered trademark of Creative Technology Ltd.\n",
      "\n",
      "Rendering audio to file './data/wav/Aaron, Michael, Piano Course, V8WvKK-1b2c_442.mid.wav'..\n"
     ]
    },
    {
     "name": "stderr",
     "output_type": "stream",
     "text": [
      "fluidsynth: warning: End of the MIDI file reached, but not all notes have received a note off event! OFFing them now! Run with --verbose to spot pending voices.\n"
     ]
    },
    {
     "name": "stdout",
     "output_type": "stream",
     "text": [
      "FluidSynth runtime version 2.3.4\n",
      "Copyright (C) 2000-2023 Peter Hanappe and others.\n",
      "Distributed under the LGPL license.\n",
      "SoundFont(R) is a registered trademark of Creative Technology Ltd.\n",
      "\n",
      "Rendering audio to file './data/wav/Aaron, Michael, Piano Course, V8WvKK-1b2c_287.mid.wav'..\n"
     ]
    },
    {
     "name": "stderr",
     "output_type": "stream",
     "text": [
      "fluidsynth: warning: End of the MIDI file reached, but not all notes have received a note off event! OFFing them now! Run with --verbose to spot pending voices.\n"
     ]
    },
    {
     "name": "stdout",
     "output_type": "stream",
     "text": [
      "FluidSynth runtime version 2.3.4\n",
      "Copyright (C) 2000-2023 Peter Hanappe and others.\n",
      "Distributed under the LGPL license.\n",
      "SoundFont(R) is a registered trademark of Creative Technology Ltd.\n",
      "\n",
      "Rendering audio to file './data/wav/Aaron, Michael, Piano Course, V8WvKK-1b2c_1017.mid.wav'..\n",
      "FluidSynth runtime version 2.3.4\n",
      "Copyright (C) 2000-2023 Peter Hanappe and others.\n",
      "Distributed under the LGPL license.\n",
      "SoundFont(R) is a registered trademark of Creative Technology Ltd.\n",
      "\n",
      "Rendering audio to file './data/wav/Aaron, Michael, Piano Course, V8WvKK-1b2c_1003.mid.wav'..\n"
     ]
    },
    {
     "name": "stderr",
     "output_type": "stream",
     "text": [
      "fluidsynth: warning: End of the MIDI file reached, but not all notes have received a note off event! OFFing them now! Run with --verbose to spot pending voices.\n"
     ]
    },
    {
     "name": "stdout",
     "output_type": "stream",
     "text": [
      "FluidSynth runtime version 2.3.4\n",
      "Copyright (C) 2000-2023 Peter Hanappe and others.\n",
      "Distributed under the LGPL license.\n",
      "SoundFont(R) is a registered trademark of Creative Technology Ltd.\n",
      "\n",
      "Rendering audio to file './data/wav/Aaron, Michael, Piano Course, V8WvKK-1b2c_293.mid.wav'..\n"
     ]
    },
    {
     "name": "stderr",
     "output_type": "stream",
     "text": [
      "fluidsynth: warning: End of the MIDI file reached, but not all notes have received a note off event! OFFing them now! Run with --verbose to spot pending voices.\n"
     ]
    },
    {
     "name": "stdout",
     "output_type": "stream",
     "text": [
      "FluidSynth runtime version 2.3.4\n",
      "Copyright (C) 2000-2023 Peter Hanappe and others.\n",
      "Distributed under the LGPL license.\n",
      "SoundFont(R) is a registered trademark of Creative Technology Ltd.\n",
      "\n",
      "Rendering audio to file './data/wav/Aaron, Michael, Piano Course, V8WvKK-1b2c_278.mid.wav'..\n"
     ]
    },
    {
     "name": "stderr",
     "output_type": "stream",
     "text": [
      "fluidsynth: warning: End of the MIDI file reached, but not all notes have received a note off event! OFFing them now! Run with --verbose to spot pending voices.\n"
     ]
    },
    {
     "name": "stdout",
     "output_type": "stream",
     "text": [
      "FluidSynth runtime version 2.3.4\n",
      "Copyright (C) 2000-2023 Peter Hanappe and others.\n",
      "Distributed under the LGPL license.\n",
      "SoundFont(R) is a registered trademark of Creative Technology Ltd.\n",
      "\n",
      "Rendering audio to file './data/wav/Aaron, Michael, Piano Course, V8WvKK-1b2c_39.mid.wav'..\n"
     ]
    },
    {
     "name": "stderr",
     "output_type": "stream",
     "text": [
      "fluidsynth: warning: End of the MIDI file reached, but not all notes have received a note off event! OFFing them now! Run with --verbose to spot pending voices.\n"
     ]
    },
    {
     "name": "stdout",
     "output_type": "stream",
     "text": [
      "FluidSynth runtime version 2.3.4\n",
      "Copyright (C) 2000-2023 Peter Hanappe and others.\n",
      "Distributed under the LGPL license.\n",
      "SoundFont(R) is a registered trademark of Creative Technology Ltd.\n",
      "\n",
      "Rendering audio to file './data/wav/Aaron, Michael, Piano Course, V8WvKK-1b2c_522.mid.wav'..\n"
     ]
    },
    {
     "name": "stderr",
     "output_type": "stream",
     "text": [
      "fluidsynth: warning: End of the MIDI file reached, but not all notes have received a note off event! OFFing them now! Run with --verbose to spot pending voices.\n"
     ]
    },
    {
     "name": "stdout",
     "output_type": "stream",
     "text": [
      "FluidSynth runtime version 2.3.4\n",
      "Copyright (C) 2000-2023 Peter Hanappe and others.\n",
      "Distributed under the LGPL license.\n",
      "SoundFont(R) is a registered trademark of Creative Technology Ltd.\n",
      "\n",
      "Rendering audio to file './data/wav/Aaron, Michael, Piano Course, V8WvKK-1b2c_244.mid.wav'..\n"
     ]
    },
    {
     "name": "stderr",
     "output_type": "stream",
     "text": [
      "fluidsynth: warning: End of the MIDI file reached, but not all notes have received a note off event! OFFing them now! Run with --verbose to spot pending voices.\n"
     ]
    },
    {
     "name": "stdout",
     "output_type": "stream",
     "text": [
      "FluidSynth runtime version 2.3.4\n",
      "Copyright (C) 2000-2023 Peter Hanappe and others.\n",
      "Distributed under the LGPL license.\n",
      "SoundFont(R) is a registered trademark of Creative Technology Ltd.\n",
      "\n",
      "Rendering audio to file './data/wav/Aaron, Michael, Piano Course, V8WvKK-1b2c_250.mid.wav'..\n"
     ]
    },
    {
     "name": "stderr",
     "output_type": "stream",
     "text": [
      "fluidsynth: warning: End of the MIDI file reached, but not all notes have received a note off event! OFFing them now! Run with --verbose to spot pending voices.\n"
     ]
    },
    {
     "name": "stdout",
     "output_type": "stream",
     "text": [
      "FluidSynth runtime version 2.3.4\n",
      "Copyright (C) 2000-2023 Peter Hanappe and others.\n",
      "Distributed under the LGPL license.\n",
      "SoundFont(R) is a registered trademark of Creative Technology Ltd.\n",
      "\n",
      "Rendering audio to file './data/wav/Aaron, Michael, Piano Course, V8WvKK-1b2c_11.mid.wav'..\n"
     ]
    },
    {
     "name": "stderr",
     "output_type": "stream",
     "text": [
      "fluidsynth: warning: End of the MIDI file reached, but not all notes have received a note off event! OFFing them now! Run with --verbose to spot pending voices.\n"
     ]
    },
    {
     "name": "stdout",
     "output_type": "stream",
     "text": [
      "FluidSynth runtime version 2.3.4\n",
      "Copyright (C) 2000-2023 Peter Hanappe and others.\n",
      "Distributed under the LGPL license.\n",
      "SoundFont(R) is a registered trademark of Creative Technology Ltd.\n",
      "\n",
      "Rendering audio to file './data/wav/Aaron, Michael, Piano Course, V8WvKK-1b2c_536.mid.wav'..\n"
     ]
    },
    {
     "name": "stderr",
     "output_type": "stream",
     "text": [
      "fluidsynth: warning: End of the MIDI file reached, but not all notes have received a note off event! OFFing them now! Run with --verbose to spot pending voices.\n"
     ]
    },
    {
     "name": "stdout",
     "output_type": "stream",
     "text": [
      "FluidSynth runtime version 2.3.4\n",
      "Copyright (C) 2000-2023 Peter Hanappe and others.\n",
      "Distributed under the LGPL license.\n",
      "SoundFont(R) is a registered trademark of Creative Technology Ltd.\n",
      "\n",
      "Rendering audio to file './data/wav/Aaron, Michael, Piano Course, V8WvKK-1b2c_907.mid.wav'..\n"
     ]
    },
    {
     "name": "stderr",
     "output_type": "stream",
     "text": [
      "fluidsynth: warning: End of the MIDI file reached, but not all notes have received a note off event! OFFing them now! Run with --verbose to spot pending voices.\n"
     ]
    },
    {
     "name": "stdout",
     "output_type": "stream",
     "text": [
      "FluidSynth runtime version 2.3.4\n",
      "Copyright (C) 2000-2023 Peter Hanappe and others.\n",
      "Distributed under the LGPL license.\n",
      "SoundFont(R) is a registered trademark of Creative Technology Ltd.\n",
      "\n",
      "Rendering audio to file './data/wav/Aaron, Michael, Piano Course, V8WvKK-1b2c_913.mid.wav'..\n"
     ]
    },
    {
     "name": "stderr",
     "output_type": "stream",
     "text": [
      "fluidsynth: warning: End of the MIDI file reached, but not all notes have received a note off event! OFFing them now! Run with --verbose to spot pending voices.\n"
     ]
    },
    {
     "name": "stdout",
     "output_type": "stream",
     "text": [
      "FluidSynth runtime version 2.3.4\n",
      "Copyright (C) 2000-2023 Peter Hanappe and others.\n",
      "Distributed under the LGPL license.\n",
      "SoundFont(R) is a registered trademark of Creative Technology Ltd.\n",
      "\n",
      "Rendering audio to file './data/wav/Aaron, Michael, Piano Course, V8WvKK-1b2c_708.mid.wav'..\n"
     ]
    },
    {
     "name": "stderr",
     "output_type": "stream",
     "text": [
      "fluidsynth: warning: End of the MIDI file reached, but not all notes have received a note off event! OFFing them now! Run with --verbose to spot pending voices.\n"
     ]
    },
    {
     "name": "stdout",
     "output_type": "stream",
     "text": [
      "FluidSynth runtime version 2.3.4\n",
      "Copyright (C) 2000-2023 Peter Hanappe and others.\n",
      "Distributed under the LGPL license.\n",
      "SoundFont(R) is a registered trademark of Creative Technology Ltd.\n",
      "\n",
      "Rendering audio to file './data/wav/Aaron, Michael, Piano Course, V8WvKK-1b2c_720.mid.wav'..\n"
     ]
    },
    {
     "name": "stderr",
     "output_type": "stream",
     "text": [
      "fluidsynth: warning: End of the MIDI file reached, but not all notes have received a note off event! OFFing them now! Run with --verbose to spot pending voices.\n"
     ]
    },
    {
     "name": "stdout",
     "output_type": "stream",
     "text": [
      "FluidSynth runtime version 2.3.4\n",
      "Copyright (C) 2000-2023 Peter Hanappe and others.\n",
      "Distributed under the LGPL license.\n",
      "SoundFont(R) is a registered trademark of Creative Technology Ltd.\n",
      "\n",
      "Rendering audio to file './data/wav/Aaron, Michael, Piano Course, V8WvKK-1b2c_734.mid.wav'..\n"
     ]
    },
    {
     "name": "stderr",
     "output_type": "stream",
     "text": [
      "fluidsynth: warning: End of the MIDI file reached, but not all notes have received a note off event! OFFing them now! Run with --verbose to spot pending voices.\n"
     ]
    },
    {
     "name": "stdout",
     "output_type": "stream",
     "text": [
      "FluidSynth runtime version 2.3.4\n",
      "Copyright (C) 2000-2023 Peter Hanappe and others.\n",
      "Distributed under the LGPL license.\n",
      "SoundFont(R) is a registered trademark of Creative Technology Ltd.\n",
      "\n",
      "Rendering audio to file './data/wav/Aaron, Michael, Piano Course, V8WvKK-1b2c_722.mid.wav'..\n"
     ]
    },
    {
     "name": "stderr",
     "output_type": "stream",
     "text": [
      "fluidsynth: warning: End of the MIDI file reached, but not all notes have received a note off event! OFFing them now! Run with --verbose to spot pending voices.\n"
     ]
    },
    {
     "name": "stdout",
     "output_type": "stream",
     "text": [
      "FluidSynth runtime version 2.3.4\n",
      "Copyright (C) 2000-2023 Peter Hanappe and others.\n",
      "Distributed under the LGPL license.\n",
      "SoundFont(R) is a registered trademark of Creative Technology Ltd.\n",
      "\n",
      "Rendering audio to file './data/wav/Aaron, Michael, Piano Course, V8WvKK-1b2c_736.mid.wav'..\n"
     ]
    },
    {
     "name": "stderr",
     "output_type": "stream",
     "text": [
      "fluidsynth: warning: End of the MIDI file reached, but not all notes have received a note off event! OFFing them now! Run with --verbose to spot pending voices.\n"
     ]
    },
    {
     "name": "stdout",
     "output_type": "stream",
     "text": [
      "FluidSynth runtime version 2.3.4\n",
      "Copyright (C) 2000-2023 Peter Hanappe and others.\n",
      "Distributed under the LGPL license.\n",
      "SoundFont(R) is a registered trademark of Creative Technology Ltd.\n",
      "\n",
      "Rendering audio to file './data/wav/Aaron, Michael, Piano Course, V8WvKK-1b2c_939.mid.wav'..\n"
     ]
    },
    {
     "name": "stderr",
     "output_type": "stream",
     "text": [
      "fluidsynth: warning: End of the MIDI file reached, but not all notes have received a note off event! OFFing them now! Run with --verbose to spot pending voices.\n"
     ]
    },
    {
     "name": "stdout",
     "output_type": "stream",
     "text": [
      "FluidSynth runtime version 2.3.4\n",
      "Copyright (C) 2000-2023 Peter Hanappe and others.\n",
      "Distributed under the LGPL license.\n",
      "SoundFont(R) is a registered trademark of Creative Technology Ltd.\n",
      "\n",
      "Rendering audio to file './data/wav/Aaron, Michael, Piano Course, V8WvKK-1b2c_905.mid.wav'..\n"
     ]
    },
    {
     "name": "stderr",
     "output_type": "stream",
     "text": [
      "fluidsynth: warning: End of the MIDI file reached, but not all notes have received a note off event! OFFing them now! Run with --verbose to spot pending voices.\n"
     ]
    },
    {
     "name": "stdout",
     "output_type": "stream",
     "text": [
      "FluidSynth runtime version 2.3.4\n",
      "Copyright (C) 2000-2023 Peter Hanappe and others.\n",
      "Distributed under the LGPL license.\n",
      "SoundFont(R) is a registered trademark of Creative Technology Ltd.\n",
      "\n",
      "Rendering audio to file './data/wav/Aaron, Michael, Piano Course, V8WvKK-1b2c_911.mid.wav'..\n"
     ]
    },
    {
     "name": "stderr",
     "output_type": "stream",
     "text": [
      "fluidsynth: warning: End of the MIDI file reached, but not all notes have received a note off event! OFFing them now! Run with --verbose to spot pending voices.\n"
     ]
    },
    {
     "name": "stdout",
     "output_type": "stream",
     "text": [
      "FluidSynth runtime version 2.3.4\n",
      "Copyright (C) 2000-2023 Peter Hanappe and others.\n",
      "Distributed under the LGPL license.\n",
      "SoundFont(R) is a registered trademark of Creative Technology Ltd.\n",
      "\n",
      "Rendering audio to file './data/wav/Aaron, Michael, Piano Course, V8WvKK-1b2c_246.mid.wav'..\n"
     ]
    },
    {
     "name": "stderr",
     "output_type": "stream",
     "text": [
      "fluidsynth: warning: End of the MIDI file reached, but not all notes have received a note off event! OFFing them now! Run with --verbose to spot pending voices.\n"
     ]
    },
    {
     "name": "stdout",
     "output_type": "stream",
     "text": [
      "FluidSynth runtime version 2.3.4\n",
      "Copyright (C) 2000-2023 Peter Hanappe and others.\n",
      "Distributed under the LGPL license.\n",
      "SoundFont(R) is a registered trademark of Creative Technology Ltd.\n",
      "\n",
      "Rendering audio to file './data/wav/Aaron, Michael, Piano Course, V8WvKK-1b2c_520.mid.wav'..\n"
     ]
    },
    {
     "name": "stderr",
     "output_type": "stream",
     "text": [
      "fluidsynth: warning: End of the MIDI file reached, but not all notes have received a note off event! OFFing them now! Run with --verbose to spot pending voices.\n"
     ]
    },
    {
     "name": "stdout",
     "output_type": "stream",
     "text": [
      "FluidSynth runtime version 2.3.4\n",
      "Copyright (C) 2000-2023 Peter Hanappe and others.\n",
      "Distributed under the LGPL license.\n",
      "SoundFont(R) is a registered trademark of Creative Technology Ltd.\n",
      "\n",
      "Rendering audio to file './data/wav/Aaron, Michael, Piano Course, V8WvKK-1b2c_534.mid.wav'..\n"
     ]
    },
    {
     "name": "stderr",
     "output_type": "stream",
     "text": [
      "fluidsynth: warning: End of the MIDI file reached, but not all notes have received a note off event! OFFing them now! Run with --verbose to spot pending voices.\n"
     ]
    },
    {
     "name": "stdout",
     "output_type": "stream",
     "text": [
      "FluidSynth runtime version 2.3.4\n",
      "Copyright (C) 2000-2023 Peter Hanappe and others.\n",
      "Distributed under the LGPL license.\n",
      "SoundFont(R) is a registered trademark of Creative Technology Ltd.\n",
      "\n",
      "Rendering audio to file './data/wav/Aaron, Michael, Piano Course, V8WvKK-1b2c_13.mid.wav'..\n"
     ]
    },
    {
     "name": "stderr",
     "output_type": "stream",
     "text": [
      "fluidsynth: warning: End of the MIDI file reached, but not all notes have received a note off event! OFFing them now! Run with --verbose to spot pending voices.\n"
     ]
    },
    {
     "name": "stdout",
     "output_type": "stream",
     "text": [
      "FluidSynth runtime version 2.3.4\n",
      "Copyright (C) 2000-2023 Peter Hanappe and others.\n",
      "Distributed under the LGPL license.\n",
      "SoundFont(R) is a registered trademark of Creative Technology Ltd.\n",
      "\n",
      "Rendering audio to file './data/wav/Aaron, Michael, Piano Course, V8WvKK-1b2c_252.mid.wav'..\n"
     ]
    },
    {
     "name": "stderr",
     "output_type": "stream",
     "text": [
      "fluidsynth: warning: End of the MIDI file reached, but not all notes have received a note off event! OFFing them now! Run with --verbose to spot pending voices.\n"
     ]
    },
    {
     "name": "stdout",
     "output_type": "stream",
     "text": [
      "FluidSynth runtime version 2.3.4\n",
      "Copyright (C) 2000-2023 Peter Hanappe and others.\n",
      "Distributed under the LGPL license.\n",
      "SoundFont(R) is a registered trademark of Creative Technology Ltd.\n",
      "\n",
      "Rendering audio to file './data/wav/Aaron, Michael, Piano Course, V8WvKK-1b2c_508.mid.wav'..\n"
     ]
    },
    {
     "name": "stderr",
     "output_type": "stream",
     "text": [
      "fluidsynth: warning: End of the MIDI file reached, but not all notes have received a note off event! OFFing them now! Run with --verbose to spot pending voices.\n"
     ]
    },
    {
     "name": "stdout",
     "output_type": "stream",
     "text": [
      "FluidSynth runtime version 2.3.4\n",
      "Copyright (C) 2000-2023 Peter Hanappe and others.\n",
      "Distributed under the LGPL license.\n",
      "SoundFont(R) is a registered trademark of Creative Technology Ltd.\n",
      "\n",
      "Rendering audio to file './data/wav/Aaron, Michael, Piano Course, V8WvKK-1b2c_1015.mid.wav'..\n"
     ]
    },
    {
     "name": "stderr",
     "output_type": "stream",
     "text": [
      "fluidsynth: warning: End of the MIDI file reached, but not all notes have received a note off event! OFFing them now! Run with --verbose to spot pending voices.\n"
     ]
    },
    {
     "name": "stdout",
     "output_type": "stream",
     "text": [
      "FluidSynth runtime version 2.3.4\n",
      "Copyright (C) 2000-2023 Peter Hanappe and others.\n",
      "Distributed under the LGPL license.\n",
      "SoundFont(R) is a registered trademark of Creative Technology Ltd.\n",
      "\n",
      "Rendering audio to file './data/wav/Aaron, Michael, Piano Course, V8WvKK-1b2c_285.mid.wav'..\n"
     ]
    },
    {
     "name": "stderr",
     "output_type": "stream",
     "text": [
      "fluidsynth: warning: End of the MIDI file reached, but not all notes have received a note off event! OFFing them now! Run with --verbose to spot pending voices.\n"
     ]
    },
    {
     "name": "stdout",
     "output_type": "stream",
     "text": [
      "FluidSynth runtime version 2.3.4\n",
      "Copyright (C) 2000-2023 Peter Hanappe and others.\n",
      "Distributed under the LGPL license.\n",
      "SoundFont(R) is a registered trademark of Creative Technology Ltd.\n",
      "\n",
      "Rendering audio to file './data/wav/Aaron, Michael, Piano Course, V8WvKK-1b2c_291.mid.wav'..\n"
     ]
    },
    {
     "name": "stderr",
     "output_type": "stream",
     "text": [
      "fluidsynth: warning: End of the MIDI file reached, but not all notes have received a note off event! OFFing them now! Run with --verbose to spot pending voices.\n"
     ]
    },
    {
     "name": "stdout",
     "output_type": "stream",
     "text": [
      "FluidSynth runtime version 2.3.4\n",
      "Copyright (C) 2000-2023 Peter Hanappe and others.\n",
      "Distributed under the LGPL license.\n",
      "SoundFont(R) is a registered trademark of Creative Technology Ltd.\n",
      "\n",
      "Rendering audio to file './data/wav/Aaron, Michael, Piano Course, V8WvKK-1b2c_1001.mid.wav'..\n"
     ]
    },
    {
     "name": "stderr",
     "output_type": "stream",
     "text": [
      "fluidsynth: warning: End of the MIDI file reached, but not all notes have received a note off event! OFFing them now! Run with --verbose to spot pending voices.\n"
     ]
    },
    {
     "name": "stdout",
     "output_type": "stream",
     "text": [
      "FluidSynth runtime version 2.3.4\n",
      "Copyright (C) 2000-2023 Peter Hanappe and others.\n",
      "Distributed under the LGPL license.\n",
      "SoundFont(R) is a registered trademark of Creative Technology Ltd.\n",
      "\n",
      "Rendering audio to file './data/wav/Aaron, Michael, Piano Course, V8WvKK-1b2c_1029.mid.wav'..\n"
     ]
    },
    {
     "name": "stderr",
     "output_type": "stream",
     "text": [
      "fluidsynth: warning: End of the MIDI file reached, but not all notes have received a note off event! OFFing them now! Run with --verbose to spot pending voices.\n"
     ]
    },
    {
     "name": "stdout",
     "output_type": "stream",
     "text": [
      "FluidSynth runtime version 2.3.4\n",
      "Copyright (C) 2000-2023 Peter Hanappe and others.\n",
      "Distributed under the LGPL license.\n",
      "SoundFont(R) is a registered trademark of Creative Technology Ltd.\n",
      "\n",
      "Rendering audio to file './data/wav/Aaron, Michael, Piano Course, V8WvKK-1b2c_332.mid.wav'..\n"
     ]
    },
    {
     "name": "stderr",
     "output_type": "stream",
     "text": [
      "fluidsynth: warning: End of the MIDI file reached, but not all notes have received a note off event! OFFing them now! Run with --verbose to spot pending voices.\n"
     ]
    },
    {
     "name": "stdout",
     "output_type": "stream",
     "text": [
      "FluidSynth runtime version 2.3.4\n",
      "Copyright (C) 2000-2023 Peter Hanappe and others.\n",
      "Distributed under the LGPL license.\n",
      "SoundFont(R) is a registered trademark of Creative Technology Ltd.\n",
      "\n",
      "Rendering audio to file './data/wav/Aaron, Michael, Piano Course, V8WvKK-1b2c_454.mid.wav'..\n"
     ]
    },
    {
     "name": "stderr",
     "output_type": "stream",
     "text": [
      "fluidsynth: warning: End of the MIDI file reached, but not all notes have received a note off event! OFFing them now! Run with --verbose to spot pending voices.\n"
     ]
    },
    {
     "name": "stdout",
     "output_type": "stream",
     "text": [
      "FluidSynth runtime version 2.3.4\n",
      "Copyright (C) 2000-2023 Peter Hanappe and others.\n",
      "Distributed under the LGPL license.\n",
      "SoundFont(R) is a registered trademark of Creative Technology Ltd.\n",
      "\n",
      "Rendering audio to file './data/wav/Aaron, Michael, Piano Course, V8WvKK-1b2c_440.mid.wav'..\n",
      "FluidSynth runtime version 2.3.4\n",
      "Copyright (C) 2000-2023 Peter Hanappe and others.\n",
      "Distributed under the LGPL license.\n",
      "SoundFont(R) is a registered trademark of Creative Technology Ltd.\n",
      "\n",
      "Rendering audio to file './data/wav/Aaron, Michael, Piano Course, V8WvKK-1b2c_326.mid.wav'..\n"
     ]
    },
    {
     "name": "stderr",
     "output_type": "stream",
     "text": [
      "fluidsynth: warning: End of the MIDI file reached, but not all notes have received a note off event! OFFing them now! Run with --verbose to spot pending voices.\n"
     ]
    },
    {
     "name": "stdout",
     "output_type": "stream",
     "text": [
      "FluidSynth runtime version 2.3.4\n",
      "Copyright (C) 2000-2023 Peter Hanappe and others.\n",
      "Distributed under the LGPL license.\n",
      "SoundFont(R) is a registered trademark of Creative Technology Ltd.\n",
      "\n",
      "Rendering audio to file './data/wav/Aaron, Michael, Piano Course, V8WvKK-1b2c_468.mid.wav'..\n"
     ]
    },
    {
     "name": "stderr",
     "output_type": "stream",
     "text": [
      "fluidsynth: warning: End of the MIDI file reached, but not all notes have received a note off event! OFFing them now! Run with --verbose to spot pending voices.\n"
     ]
    },
    {
     "name": "stdout",
     "output_type": "stream",
     "text": [
      "FluidSynth runtime version 2.3.4\n",
      "Copyright (C) 2000-2023 Peter Hanappe and others.\n",
      "Distributed under the LGPL license.\n",
      "SoundFont(R) is a registered trademark of Creative Technology Ltd.\n",
      "\n",
      "Rendering audio to file './data/wav/Aaron, Michael, Piano Course, V8WvKK-1b2c_497.mid.wav'..\n"
     ]
    },
    {
     "name": "stderr",
     "output_type": "stream",
     "text": [
      "fluidsynth: warning: End of the MIDI file reached, but not all notes have received a note off event! OFFing them now! Run with --verbose to spot pending voices.\n"
     ]
    },
    {
     "name": "stdout",
     "output_type": "stream",
     "text": [
      "FluidSynth runtime version 2.3.4\n",
      "Copyright (C) 2000-2023 Peter Hanappe and others.\n",
      "Distributed under the LGPL license.\n",
      "SoundFont(R) is a registered trademark of Creative Technology Ltd.\n",
      "\n",
      "Rendering audio to file './data/wav/Aaron, Michael, Piano Course, V8WvKK-1b2c_483.mid.wav'..\n"
     ]
    },
    {
     "name": "stderr",
     "output_type": "stream",
     "text": [
      "fluidsynth: warning: End of the MIDI file reached, but not all notes have received a note off event! OFFing them now! Run with --verbose to spot pending voices.\n"
     ]
    },
    {
     "name": "stdout",
     "output_type": "stream",
     "text": [
      "FluidSynth runtime version 2.3.4\n",
      "Copyright (C) 2000-2023 Peter Hanappe and others.\n",
      "Distributed under the LGPL license.\n",
      "SoundFont(R) is a registered trademark of Creative Technology Ltd.\n",
      "\n",
      "Rendering audio to file './data/wav/Aaron, Michael, Piano Course, V8WvKK-1b2c_656.mid.wav'..\n"
     ]
    },
    {
     "name": "stderr",
     "output_type": "stream",
     "text": [
      "fluidsynth: warning: End of the MIDI file reached, but not all notes have received a note off event! OFFing them now! Run with --verbose to spot pending voices.\n"
     ]
    },
    {
     "name": "stdout",
     "output_type": "stream",
     "text": [
      "FluidSynth runtime version 2.3.4\n",
      "Copyright (C) 2000-2023 Peter Hanappe and others.\n",
      "Distributed under the LGPL license.\n",
      "SoundFont(R) is a registered trademark of Creative Technology Ltd.\n",
      "\n",
      "Rendering audio to file './data/wav/Aaron, Michael, Piano Course, V8WvKK-1b2c_130.mid.wav'..\n"
     ]
    },
    {
     "name": "stderr",
     "output_type": "stream",
     "text": [
      "fluidsynth: warning: End of the MIDI file reached, but not all notes have received a note off event! OFFing them now! Run with --verbose to spot pending voices.\n"
     ]
    },
    {
     "name": "stdout",
     "output_type": "stream",
     "text": [
      "FluidSynth runtime version 2.3.4\n",
      "Copyright (C) 2000-2023 Peter Hanappe and others.\n",
      "Distributed under the LGPL license.\n",
      "SoundFont(R) is a registered trademark of Creative Technology Ltd.\n",
      "\n",
      "Rendering audio to file './data/wav/Aaron, Michael, Piano Course, V8WvKK-1b2c_124.mid.wav'..\n"
     ]
    },
    {
     "name": "stderr",
     "output_type": "stream",
     "text": [
      "fluidsynth: warning: End of the MIDI file reached, but not all notes have received a note off event! OFFing them now! Run with --verbose to spot pending voices.\n"
     ]
    },
    {
     "name": "stdout",
     "output_type": "stream",
     "text": [
      "FluidSynth runtime version 2.3.4\n",
      "Copyright (C) 2000-2023 Peter Hanappe and others.\n",
      "Distributed under the LGPL license.\n",
      "SoundFont(R) is a registered trademark of Creative Technology Ltd.\n",
      "\n",
      "Rendering audio to file './data/wav/Aaron, Michael, Piano Course, V8WvKK-1b2c_642.mid.wav'..\n"
     ]
    },
    {
     "name": "stderr",
     "output_type": "stream",
     "text": [
      "fluidsynth: warning: End of the MIDI file reached, but not all notes have received a note off event! OFFing them now! Run with --verbose to spot pending voices.\n"
     ]
    },
    {
     "name": "stdout",
     "output_type": "stream",
     "text": [
      "FluidSynth runtime version 2.3.4\n",
      "Copyright (C) 2000-2023 Peter Hanappe and others.\n",
      "Distributed under the LGPL license.\n",
      "SoundFont(R) is a registered trademark of Creative Technology Ltd.\n",
      "\n",
      "Rendering audio to file './data/wav/Aaron, Michael, Piano Course, V8WvKK-1b2c_118.mid.wav'..\n"
     ]
    },
    {
     "name": "stderr",
     "output_type": "stream",
     "text": [
      "fluidsynth: warning: End of the MIDI file reached, but not all notes have received a note off event! OFFing them now! Run with --verbose to spot pending voices.\n"
     ]
    },
    {
     "name": "stdout",
     "output_type": "stream",
     "text": [
      "FluidSynth runtime version 2.3.4\n",
      "Copyright (C) 2000-2023 Peter Hanappe and others.\n",
      "Distributed under the LGPL license.\n",
      "SoundFont(R) is a registered trademark of Creative Technology Ltd.\n",
      "\n",
      "Rendering audio to file './data/wav/Aaron, Michael, Piano Course, V8WvKK-1b2c_695.mid.wav'..\n"
     ]
    },
    {
     "name": "stderr",
     "output_type": "stream",
     "text": [
      "fluidsynth: warning: End of the MIDI file reached, but not all notes have received a note off event! OFFing them now! Run with --verbose to spot pending voices.\n"
     ]
    },
    {
     "name": "stdout",
     "output_type": "stream",
     "text": [
      "FluidSynth runtime version 2.3.4\n",
      "Copyright (C) 2000-2023 Peter Hanappe and others.\n",
      "Distributed under the LGPL license.\n",
      "SoundFont(R) is a registered trademark of Creative Technology Ltd.\n",
      "\n",
      "Rendering audio to file './data/wav/Aaron, Michael, Piano Course, V8WvKK-1b2c_681.mid.wav'..\n"
     ]
    },
    {
     "name": "stderr",
     "output_type": "stream",
     "text": [
      "fluidsynth: warning: End of the MIDI file reached, but not all notes have received a note off event! OFFing them now! Run with --verbose to spot pending voices.\n"
     ]
    },
    {
     "name": "stdout",
     "output_type": "stream",
     "text": [
      "FluidSynth runtime version 2.3.4\n",
      "Copyright (C) 2000-2023 Peter Hanappe and others.\n",
      "Distributed under the LGPL license.\n",
      "SoundFont(R) is a registered trademark of Creative Technology Ltd.\n",
      "\n",
      "Rendering audio to file './data/wav/Aaron, Michael, Piano Course, V8WvKK-1b2c_859.mid.wav'..\n"
     ]
    },
    {
     "name": "stderr",
     "output_type": "stream",
     "text": [
      "fluidsynth: warning: End of the MIDI file reached, but not all notes have received a note off event! OFFing them now! Run with --verbose to spot pending voices.\n"
     ]
    },
    {
     "name": "stdout",
     "output_type": "stream",
     "text": [
      "FluidSynth runtime version 2.3.4\n",
      "Copyright (C) 2000-2023 Peter Hanappe and others.\n",
      "Distributed under the LGPL license.\n",
      "SoundFont(R) is a registered trademark of Creative Technology Ltd.\n",
      "\n",
      "Rendering audio to file './data/wav/Aaron, Michael, Piano Course, V8WvKK-1b2c_871.mid.wav'..\n"
     ]
    },
    {
     "name": "stderr",
     "output_type": "stream",
     "text": [
      "fluidsynth: warning: End of the MIDI file reached, but not all notes have received a note off event! OFFing them now! Run with --verbose to spot pending voices.\n"
     ]
    },
    {
     "name": "stdout",
     "output_type": "stream",
     "text": [
      "FluidSynth runtime version 2.3.4\n",
      "Copyright (C) 2000-2023 Peter Hanappe and others.\n",
      "Distributed under the LGPL license.\n",
      "SoundFont(R) is a registered trademark of Creative Technology Ltd.\n",
      "\n",
      "Rendering audio to file './data/wav/Aaron, Michael, Piano Course, V8WvKK-1b2c_865.mid.wav'..\n",
      "FluidSynth runtime version 2.3.4\n",
      "Copyright (C) 2000-2023 Peter Hanappe and others.\n",
      "Distributed under the LGPL license.\n",
      "SoundFont(R) is a registered trademark of Creative Technology Ltd.\n",
      "\n",
      "Rendering audio to file './data/wav/Aaron, Michael, Piano Course, V8WvKK-1b2c_864.mid.wav'..\n"
     ]
    },
    {
     "name": "stderr",
     "output_type": "stream",
     "text": [
      "fluidsynth: warning: End of the MIDI file reached, but not all notes have received a note off event! OFFing them now! Run with --verbose to spot pending voices.\n"
     ]
    }
   ],
   "source": [
    "wav_name_list=convert_midi_to_wav(data_size=data_size)"
   ]
  },
  {
   "cell_type": "code",
   "execution_count": 13,
   "id": "eff6c72a-d19d-4d3d-9885-f6fbf4427785",
   "metadata": {},
   "outputs": [],
   "source": [
    "spect_name_list = from_audio_to_spectograms()"
   ]
  },
  {
   "cell_type": "code",
   "execution_count": 61,
   "id": "6ebde776-749c-486f-842e-d4915fe609a0",
   "metadata": {},
   "outputs": [],
   "source": [
    "img_size=(49,154)"
   ]
  },
  {
   "cell_type": "code",
   "execution_count": 62,
   "id": "0ec794d8",
   "metadata": {},
   "outputs": [
    {
     "data": {
      "text/plain": [
       "(100, 100, 300, 3)"
      ]
     },
     "execution_count": 62,
     "metadata": {},
     "output_type": "execute_result"
    }
   ],
   "source": [
    "X_normalized = from_img_to_array(img_size=img_size)\n",
    "X_normalized.shape"
   ]
  },
  {
   "cell_type": "code",
   "execution_count": 63,
   "id": "f0c13e34",
   "metadata": {},
   "outputs": [
    {
     "data": {
      "text/plain": [
       "(100, 128)"
      ]
     },
     "execution_count": 63,
     "metadata": {},
     "output_type": "execute_result"
    }
   ],
   "source": [
    "y_encoded = midi_to_oh_arrays(wav_name_list)\n",
    "y_encoded.shape"
   ]
  },
  {
   "cell_type": "code",
   "execution_count": 64,
   "id": "99774ba8-f592-46e5-bc2b-03b3a1bc6598",
   "metadata": {},
   "outputs": [],
   "source": [
    "X_train, X_test, y_train, y_test = train_test_split(X_normalized, y_encoded, test_size=0.2, random_state=42)"
   ]
  },
  {
   "cell_type": "markdown",
   "id": "e2277695-2b0c-49bd-8068-f20193f7216d",
   "metadata": {},
   "source": [
    "<u>Model creation and training</u>"
   ]
  },
  {
   "cell_type": "code",
   "execution_count": 25,
   "id": "07c21245-2d4a-46f6-964e-3da9820a8a86",
   "metadata": {},
   "outputs": [],
   "source": [
    "epochs = 100\n",
    "batch_size = 32\n",
    "learning_rate = .0001"
   ]
  },
  {
   "cell_type": "code",
   "execution_count": 65,
   "id": "a44aef13",
   "metadata": {},
   "outputs": [],
   "source": [
    "model = Sequential()\n",
    "model.add(Conv2D(64, kernel_size=(5,5), strides=(1,1),activation='tanh',input_shape=(img_size[0], img_size[1], 3)))\n",
    "model.add(MaxPooling2D(pool_size=(2,2), strides=(2,2)))\n",
    "model.add(Conv2D(32, (3,3), activation='tanh'))\n",
    "model.add(MaxPooling2D(pool_size=(2,2)))\n",
    "model.add(Flatten())\n",
    "model.add(Dense(128, activation='softmax'))"
   ]
  },
  {
   "cell_type": "code",
   "execution_count": 66,
   "id": "9dc75e31",
   "metadata": {},
   "outputs": [],
   "source": [
    "model.compile(loss=keras.losses.binary_crossentropy,optimizer=keras.optimizers.Adam(learning_rate=learning_rate),metrics=['accuracy'])"
   ]
  },
  {
   "cell_type": "code",
   "execution_count": 67,
   "id": "b2ea52bc",
   "metadata": {},
   "outputs": [
    {
     "name": "stdout",
     "output_type": "stream",
     "text": [
      "Epoch 1/100\n",
      "3/3 [==============================] - 6s 1s/step - loss: 0.6323 - accuracy: 0.0000e+00\n",
      "Epoch 2/100\n",
      "3/3 [==============================] - 4s 1s/step - loss: 0.4011 - accuracy: 0.0125\n",
      "Epoch 3/100\n",
      "3/3 [==============================] - 4s 1s/step - loss: 0.2301 - accuracy: 0.0250\n",
      "Epoch 4/100\n",
      "3/3 [==============================] - 3s 1s/step - loss: 0.1399 - accuracy: 0.0625\n",
      "Epoch 5/100\n",
      "3/3 [==============================] - 4s 1s/step - loss: 0.1067 - accuracy: 0.0750\n",
      "Epoch 6/100\n",
      "3/3 [==============================] - 4s 1s/step - loss: 0.0945 - accuracy: 0.1250\n",
      "Epoch 7/100\n",
      "3/3 [==============================] - 4s 1s/step - loss: 0.0877 - accuracy: 0.1500\n",
      "Epoch 8/100\n",
      "3/3 [==============================] - 4s 1s/step - loss: 0.0810 - accuracy: 0.1500\n",
      "Epoch 9/100\n",
      "3/3 [==============================] - 4s 1s/step - loss: 0.0764 - accuracy: 0.1250\n",
      "Epoch 10/100\n",
      "3/3 [==============================] - 4s 1s/step - loss: 0.0720 - accuracy: 0.1375\n",
      "Epoch 11/100\n",
      "3/3 [==============================] - 4s 1s/step - loss: 0.0686 - accuracy: 0.1250\n",
      "Epoch 12/100\n",
      "3/3 [==============================] - 4s 1s/step - loss: 0.0664 - accuracy: 0.1625\n",
      "Epoch 13/100\n",
      "3/3 [==============================] - 4s 1s/step - loss: 0.0648 - accuracy: 0.2000\n",
      "Epoch 14/100\n",
      "3/3 [==============================] - 4s 1s/step - loss: 0.0631 - accuracy: 0.2000\n",
      "Epoch 15/100\n",
      "3/3 [==============================] - 6s 2s/step - loss: 0.0613 - accuracy: 0.1625\n",
      "Epoch 16/100\n",
      "3/3 [==============================] - 6s 2s/step - loss: 0.0597 - accuracy: 0.1500\n",
      "Epoch 17/100\n",
      "3/3 [==============================] - 5s 2s/step - loss: 0.0585 - accuracy: 0.1500\n",
      "Epoch 18/100\n",
      "3/3 [==============================] - 6s 1s/step - loss: 0.0576 - accuracy: 0.1625\n",
      "Epoch 19/100\n",
      "3/3 [==============================] - 4s 1s/step - loss: 0.0564 - accuracy: 0.2125\n",
      "Epoch 20/100\n",
      "3/3 [==============================] - 4s 1s/step - loss: 0.0556 - accuracy: 0.2250\n",
      "Epoch 21/100\n",
      "3/3 [==============================] - 4s 1s/step - loss: 0.0547 - accuracy: 0.1875\n",
      "Epoch 22/100\n",
      "3/3 [==============================] - 5s 2s/step - loss: 0.0537 - accuracy: 0.2250\n",
      "Epoch 23/100\n",
      "3/3 [==============================] - 4s 1s/step - loss: 0.0529 - accuracy: 0.1875\n",
      "Epoch 24/100\n",
      "3/3 [==============================] - 4s 1s/step - loss: 0.0520 - accuracy: 0.2250\n",
      "Epoch 25/100\n",
      "3/3 [==============================] - 4s 1s/step - loss: 0.0513 - accuracy: 0.2250\n",
      "Epoch 26/100\n",
      "3/3 [==============================] - 4s 1s/step - loss: 0.0507 - accuracy: 0.2125\n",
      "Epoch 27/100\n",
      "3/3 [==============================] - 4s 1s/step - loss: 0.0499 - accuracy: 0.2000\n",
      "Epoch 28/100\n",
      "3/3 [==============================] - 5s 1s/step - loss: 0.0494 - accuracy: 0.2375\n",
      "Epoch 29/100\n",
      "3/3 [==============================] - 4s 1s/step - loss: 0.0489 - accuracy: 0.2375\n",
      "Epoch 30/100\n",
      "3/3 [==============================] - 4s 1s/step - loss: 0.0481 - accuracy: 0.2625\n",
      "Epoch 31/100\n",
      "3/3 [==============================] - 4s 1s/step - loss: 0.0476 - accuracy: 0.2750\n",
      "Epoch 32/100\n",
      "3/3 [==============================] - 4s 1s/step - loss: 0.0468 - accuracy: 0.2750\n",
      "Epoch 33/100\n",
      "3/3 [==============================] - 4s 1s/step - loss: 0.0462 - accuracy: 0.2500\n",
      "Epoch 34/100\n",
      "3/3 [==============================] - 4s 1s/step - loss: 0.0458 - accuracy: 0.2625\n",
      "Epoch 35/100\n",
      "3/3 [==============================] - 4s 1s/step - loss: 0.0451 - accuracy: 0.2500\n",
      "Epoch 36/100\n",
      "3/3 [==============================] - 4s 1s/step - loss: 0.0446 - accuracy: 0.2625\n",
      "Epoch 37/100\n",
      "3/3 [==============================] - 4s 1s/step - loss: 0.0446 - accuracy: 0.2625\n",
      "Epoch 38/100\n",
      "3/3 [==============================] - 4s 1s/step - loss: 0.0434 - accuracy: 0.2750\n",
      "Epoch 39/100\n",
      "3/3 [==============================] - 4s 1s/step - loss: 0.0430 - accuracy: 0.3000\n",
      "Epoch 40/100\n",
      "3/3 [==============================] - 4s 1s/step - loss: 0.0428 - accuracy: 0.3000\n",
      "Epoch 41/100\n",
      "3/3 [==============================] - 4s 1s/step - loss: 0.0419 - accuracy: 0.2625\n",
      "Epoch 42/100\n",
      "3/3 [==============================] - 4s 1s/step - loss: 0.0415 - accuracy: 0.3000\n",
      "Epoch 43/100\n",
      "3/3 [==============================] - 4s 1s/step - loss: 0.0410 - accuracy: 0.3000\n",
      "Epoch 44/100\n",
      "3/3 [==============================] - 4s 1s/step - loss: 0.0408 - accuracy: 0.2375\n",
      "Epoch 45/100\n",
      "3/3 [==============================] - 4s 1s/step - loss: 0.0404 - accuracy: 0.2625\n",
      "Epoch 46/100\n",
      "3/3 [==============================] - 4s 1s/step - loss: 0.0396 - accuracy: 0.2875\n",
      "Epoch 47/100\n",
      "3/3 [==============================] - 4s 1s/step - loss: 0.0394 - accuracy: 0.3250\n",
      "Epoch 48/100\n",
      "3/3 [==============================] - 4s 1s/step - loss: 0.0389 - accuracy: 0.3250\n",
      "Epoch 49/100\n",
      "3/3 [==============================] - 4s 1s/step - loss: 0.0383 - accuracy: 0.2750\n",
      "Epoch 50/100\n",
      "3/3 [==============================] - 4s 1s/step - loss: 0.0379 - accuracy: 0.2750\n",
      "Epoch 51/100\n",
      "3/3 [==============================] - 4s 1s/step - loss: 0.0374 - accuracy: 0.3000\n",
      "Epoch 52/100\n",
      "3/3 [==============================] - 4s 1s/step - loss: 0.0370 - accuracy: 0.3250\n",
      "Epoch 53/100\n",
      "3/3 [==============================] - 3s 1s/step - loss: 0.0363 - accuracy: 0.3750\n",
      "Epoch 54/100\n",
      "3/3 [==============================] - 3s 1s/step - loss: 0.0360 - accuracy: 0.3500\n",
      "Epoch 55/100\n",
      "3/3 [==============================] - 4s 1s/step - loss: 0.0356 - accuracy: 0.3375\n",
      "Epoch 56/100\n",
      "3/3 [==============================] - 3s 1s/step - loss: 0.0350 - accuracy: 0.3750\n",
      "Epoch 57/100\n",
      "3/3 [==============================] - 4s 1s/step - loss: 0.0347 - accuracy: 0.3625\n",
      "Epoch 58/100\n",
      "3/3 [==============================] - 3s 1s/step - loss: 0.0345 - accuracy: 0.3250\n",
      "Epoch 59/100\n",
      "3/3 [==============================] - 3s 1s/step - loss: 0.0342 - accuracy: 0.3125\n",
      "Epoch 60/100\n",
      "3/3 [==============================] - 4s 1s/step - loss: 0.0334 - accuracy: 0.4000\n",
      "Epoch 61/100\n",
      "3/3 [==============================] - 3s 1s/step - loss: 0.0334 - accuracy: 0.3750\n",
      "Epoch 62/100\n",
      "3/3 [==============================] - 4s 1s/step - loss: 0.0329 - accuracy: 0.3875\n",
      "Epoch 63/100\n",
      "3/3 [==============================] - 4s 1s/step - loss: 0.0322 - accuracy: 0.3375\n",
      "Epoch 64/100\n",
      "3/3 [==============================] - 3s 1s/step - loss: 0.0321 - accuracy: 0.3500\n",
      "Epoch 65/100\n",
      "3/3 [==============================] - 3s 1s/step - loss: 0.0316 - accuracy: 0.3500\n",
      "Epoch 66/100\n",
      "3/3 [==============================] - 3s 1s/step - loss: 0.0311 - accuracy: 0.3875\n",
      "Epoch 67/100\n",
      "3/3 [==============================] - 4s 1s/step - loss: 0.0310 - accuracy: 0.4000\n",
      "Epoch 68/100\n",
      "3/3 [==============================] - 3s 1s/step - loss: 0.0304 - accuracy: 0.4000\n",
      "Epoch 69/100\n",
      "3/3 [==============================] - 3s 1s/step - loss: 0.0302 - accuracy: 0.3875\n",
      "Epoch 70/100\n",
      "3/3 [==============================] - 4s 1s/step - loss: 0.0300 - accuracy: 0.4000\n",
      "Epoch 71/100\n",
      "3/3 [==============================] - 4s 1s/step - loss: 0.0294 - accuracy: 0.4125\n",
      "Epoch 72/100\n",
      "3/3 [==============================] - 3s 1s/step - loss: 0.0289 - accuracy: 0.4000\n",
      "Epoch 73/100\n",
      "3/3 [==============================] - 4s 1s/step - loss: 0.0288 - accuracy: 0.4125\n",
      "Epoch 74/100\n",
      "3/3 [==============================] - 3s 1s/step - loss: 0.0281 - accuracy: 0.4500\n",
      "Epoch 75/100\n",
      "3/3 [==============================] - 3s 1s/step - loss: 0.0281 - accuracy: 0.4250\n",
      "Epoch 76/100\n",
      "3/3 [==============================] - 4s 1s/step - loss: 0.0275 - accuracy: 0.4500\n",
      "Epoch 77/100\n",
      "3/3 [==============================] - 3s 1s/step - loss: 0.0271 - accuracy: 0.4125\n",
      "Epoch 78/100\n",
      "3/3 [==============================] - 4s 1s/step - loss: 0.0269 - accuracy: 0.4375\n",
      "Epoch 79/100\n",
      "3/3 [==============================] - 4s 1s/step - loss: 0.0265 - accuracy: 0.4875\n",
      "Epoch 80/100\n",
      "3/3 [==============================] - 4s 1s/step - loss: 0.0261 - accuracy: 0.4375\n",
      "Epoch 81/100\n",
      "3/3 [==============================] - 3s 1s/step - loss: 0.0258 - accuracy: 0.4875\n",
      "Epoch 82/100\n",
      "3/3 [==============================] - 3s 1s/step - loss: 0.0258 - accuracy: 0.4750\n",
      "Epoch 83/100\n",
      "3/3 [==============================] - 4s 1s/step - loss: 0.0256 - accuracy: 0.4375\n",
      "Epoch 84/100\n",
      "3/3 [==============================] - 4s 1s/step - loss: 0.0252 - accuracy: 0.4625\n",
      "Epoch 85/100\n",
      "3/3 [==============================] - 4s 1s/step - loss: 0.0247 - accuracy: 0.4625\n",
      "Epoch 86/100\n",
      "3/3 [==============================] - 3s 1s/step - loss: 0.0244 - accuracy: 0.4500\n",
      "Epoch 87/100\n",
      "3/3 [==============================] - 4s 1s/step - loss: 0.0240 - accuracy: 0.4375\n",
      "Epoch 88/100\n",
      "3/3 [==============================] - 3s 1s/step - loss: 0.0241 - accuracy: 0.4125\n",
      "Epoch 89/100\n",
      "3/3 [==============================] - 3s 1s/step - loss: 0.0230 - accuracy: 0.4500\n",
      "Epoch 90/100\n",
      "3/3 [==============================] - 4s 1s/step - loss: 0.0231 - accuracy: 0.4625\n",
      "Epoch 91/100\n",
      "3/3 [==============================] - 3s 1s/step - loss: 0.0230 - accuracy: 0.4500\n",
      "Epoch 92/100\n",
      "3/3 [==============================] - 3s 1s/step - loss: 0.0223 - accuracy: 0.4375\n",
      "Epoch 93/100\n",
      "3/3 [==============================] - 4s 1s/step - loss: 0.0222 - accuracy: 0.4500\n",
      "Epoch 94/100\n",
      "3/3 [==============================] - 4s 1s/step - loss: 0.0217 - accuracy: 0.4250\n",
      "Epoch 95/100\n",
      "3/3 [==============================] - 3s 1s/step - loss: 0.0214 - accuracy: 0.5000\n",
      "Epoch 96/100\n",
      "3/3 [==============================] - 3s 1s/step - loss: 0.0212 - accuracy: 0.4875\n",
      "Epoch 97/100\n",
      "3/3 [==============================] - 3s 1s/step - loss: 0.0208 - accuracy: 0.4875\n",
      "Epoch 98/100\n",
      "3/3 [==============================] - 3s 1s/step - loss: 0.0207 - accuracy: 0.4625\n",
      "Epoch 99/100\n",
      "3/3 [==============================] - 3s 1s/step - loss: 0.0204 - accuracy: 0.4625\n",
      "Epoch 100/100\n",
      "3/3 [==============================] - 3s 1s/step - loss: 0.0199 - accuracy: 0.4750\n"
     ]
    },
    {
     "data": {
      "text/plain": [
       "<keras.src.callbacks.History at 0x137b03190>"
      ]
     },
     "execution_count": 67,
     "metadata": {},
     "output_type": "execute_result"
    }
   ],
   "source": [
    "model.fit(X_train,y_train,epochs=epochs,batch_size=batch_size,verbose=1)"
   ]
  },
  {
   "cell_type": "code",
   "execution_count": 28,
   "id": "6be1ef0a-4cc5-47ef-b9d0-a74c3976ad47",
   "metadata": {},
   "outputs": [
    {
     "data": {
      "text/plain": [
       "[<matplotlib.lines.Line2D at 0x13729ce50>]"
      ]
     },
     "execution_count": 28,
     "metadata": {},
     "output_type": "execute_result"
    },
    {
     "data": {
      "image/png": "[encoded data removed]",
      "text/plain": [
       "<Figure size 640x480 with 1 Axes>"
      ]
     },
     "metadata": {},
     "output_type": "display_data"
    }
   ],
   "source": [
    "plt.plot(model.history.history[\"accuracy\"])"
   ]
  },
  {
   "cell_type": "markdown",
   "id": "ed042960-1925-4d89-ad76-b3a2aedb4694",
   "metadata": {},
   "source": [
    "<u>Prediction</u>"
   ]
  },
  {
   "cell_type": "code",
   "execution_count": 38,
   "id": "7ad4789d-5b92-4411-aab6-fa9782303796",
   "metadata": {},
   "outputs": [
    {
     "name": "stdout",
     "output_type": "stream",
     "text": [
      "1/1 [==============================] - 0s 80ms/step\n"
     ]
    }
   ],
   "source": [
    "y_predict = (model.predict(X_test) > 0.5).astype(int)"
   ]
  },
  {
   "cell_type": "code",
   "execution_count": 54,
   "id": "44b5d2bc-9062-4ebf-a4fc-fc595f383d45",
   "metadata": {},
   "outputs": [
    {
     "data": {
      "text/plain": [
       "array([0, 0, 0, 0, 0, 0, 0, 0, 0, 0, 0, 0, 0, 0, 0, 0, 0, 0, 0, 0, 0, 0,\n",
       "       0, 0, 0, 0, 0, 0, 0, 0, 0, 0, 0, 0, 0, 0, 0, 0, 0, 0, 0, 0, 0, 0,\n",
       "       0, 0, 0, 0, 0, 0, 0, 0, 0, 0, 0, 0, 0, 0, 0, 0, 1, 0, 0, 0, 0, 0,\n",
       "       0, 0, 0, 0, 0, 0, 0, 0, 0, 0, 0, 0, 0, 0, 0, 0, 0, 0, 0, 0, 0, 0,\n",
       "       0, 0, 0, 0, 0, 0, 0, 0, 0, 0, 0, 0, 0, 0, 0, 0, 0, 0, 0, 0, 0, 0,\n",
       "       0, 0, 0, 0, 0, 0, 0, 0, 0, 0, 0, 0, 0, 0, 0, 0, 0, 0])"
      ]
     },
     "execution_count": 54,
     "metadata": {},
     "output_type": "execute_result"
    }
   ],
   "source": [
    "y_predict[0]"
   ]
  },
  {
   "cell_type": "code",
   "execution_count": 55,
   "id": "a9f3f386-3eb8-4bb3-861b-a74d755f33fd",
   "metadata": {},
   "outputs": [
    {
     "data": {
      "text/plain": [
       "array([0., 0., 0., 0., 0., 0., 0., 0., 0., 0., 0., 0., 0., 0., 0., 0., 0.,\n",
       "       0., 0., 0., 0., 0., 0., 0., 0., 0., 0., 0., 0., 0., 0., 0., 0., 0.,\n",
       "       0., 0., 0., 0., 0., 0., 0., 0., 0., 0., 0., 0., 0., 0., 0., 0., 0.,\n",
       "       0., 1., 0., 0., 0., 0., 0., 0., 0., 1., 0., 0., 0., 0., 0., 0., 1.,\n",
       "       0., 0., 0., 0., 0., 0., 0., 0., 1., 0., 0., 1., 0., 0., 0., 0., 0.,\n",
       "       0., 0., 0., 0., 0., 0., 0., 0., 0., 0., 0., 0., 0., 0., 0., 0., 0.,\n",
       "       0., 0., 0., 0., 0., 0., 0., 0., 0., 0., 0., 0., 0., 0., 0., 0., 0.,\n",
       "       0., 0., 0., 0., 0., 0., 0., 0., 0.])"
      ]
     },
     "execution_count": 55,
     "metadata": {},
     "output_type": "execute_result"
    }
   ],
   "source": [
    "y_test[0]"
   ]
  },
  {
   "cell_type": "code",
   "execution_count": 56,
   "id": "3d180d40-353c-4356-8881-c3b73e54a105",
   "metadata": {},
   "outputs": [
    {
     "data": {
      "text/plain": [
       "array([0, 0, 0, 0, 0, 0, 0, 0, 0, 0, 0, 0, 0, 0, 0, 0, 0, 0, 0, 0, 0, 0,\n",
       "       0, 0, 0, 0, 0, 0, 0, 0, 0, 0, 0, 0, 0, 0, 0, 0, 0, 0, 0, 0, 0, 0,\n",
       "       0, 0, 0, 0, 0, 0, 0, 0, 0, 0, 0, 0, 0, 0, 0, 0, 0, 0, 0, 0, 0, 0,\n",
       "       0, 0, 0, 0, 0, 0, 0, 0, 0, 0, 0, 0, 0, 0, 0, 0, 0, 0, 0, 0, 0, 0,\n",
       "       0, 0, 0, 0, 0, 0, 0, 0, 0, 0, 0, 0, 0, 0, 0, 0, 0, 0, 0, 0, 0, 0,\n",
       "       0, 0, 0, 0, 0, 0, 0, 0, 0, 0, 0, 0, 0, 0, 0, 0, 0, 0])"
      ]
     },
     "execution_count": 56,
     "metadata": {},
     "output_type": "execute_result"
    }
   ],
   "source": [
    "y_predict[1]"
   ]
  },
  {
   "cell_type": "code",
   "execution_count": 57,
   "id": "5cbd9202-7dc4-4b67-bdb8-3dcfcdab379a",
   "metadata": {},
   "outputs": [
    {
     "data": {
      "text/plain": [
       "array([0., 0., 0., 0., 0., 0., 0., 0., 0., 0., 0., 0., 0., 0., 0., 0., 0.,\n",
       "       0., 0., 0., 0., 0., 0., 0., 0., 0., 0., 0., 0., 0., 0., 0., 0., 0.,\n",
       "       0., 0., 0., 0., 0., 0., 0., 0., 0., 0., 0., 0., 0., 1., 0., 0., 0.,\n",
       "       0., 0., 0., 0., 1., 0., 0., 0., 1., 0., 0., 1., 0., 0., 0., 0., 0.,\n",
       "       0., 0., 0., 0., 0., 0., 0., 0., 0., 0., 0., 0., 0., 0., 0., 0., 0.,\n",
       "       0., 0., 0., 0., 0., 0., 0., 0., 0., 0., 0., 0., 0., 0., 0., 0., 0.,\n",
       "       0., 0., 0., 0., 0., 0., 0., 0., 0., 0., 0., 0., 0., 0., 0., 0., 0.,\n",
       "       0., 0., 0., 0., 0., 0., 0., 0., 0.])"
      ]
     },
     "execution_count": 57,
     "metadata": {},
     "output_type": "execute_result"
    }
   ],
   "source": [
    "y_test[1]"
   ]
  },
  {
   "cell_type": "code",
   "execution_count": 58,
   "id": "bcc210c3-2696-4ff6-a5d0-3b48cab949b2",
   "metadata": {},
   "outputs": [
    {
     "data": {
      "text/plain": [
       "0.2"
      ]
     },
     "execution_count": 58,
     "metadata": {},
     "output_type": "execute_result"
    }
   ],
   "source": [
    "from sklearn.metrics import accuracy_score\n",
    "accuracy_score(y_predict,y_test)"
   ]
  }
 ],
 "metadata": {
  "kernelspec": {
   "display_name": "Python 3 (ipykernel)",
   "language": "python",
   "name": "python3"
  },
  "language_info": {
   "codemirror_mode": {
    "name": "ipython",
    "version": 3
   },
   "file_extension": ".py",
   "mimetype": "text/x-python",
   "name": "python",
   "nbconvert_exporter": "python",
   "pygments_lexer": "ipython3",
   "version": "3.10.6"
  },
  "toc": {
   "base_numbering": 1,
   "nav_menu": {},
   "number_sections": true,
   "sideBar": true,
   "skip_h1_title": false,
   "title_cell": "Table of Contents",
   "title_sidebar": "Contents",
   "toc_cell": false,
   "toc_position": {},
   "toc_section_display": true,
   "toc_window_display": false
  }
 },
 "nbformat": 4,
 "nbformat_minor": 5
}
