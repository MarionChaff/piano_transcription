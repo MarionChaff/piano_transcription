{
 "cells": [
  {
   "cell_type": "markdown",
   "id": "d45822a4-f2c9-42cf-86d0-5d98e37f9a45",
   "metadata": {},
   "source": [
    "# Data Processing"
   ]
  },
  {
   "cell_type": "markdown",
   "id": "afca41ed-1a92-48b8-8928-cc0dd34fc469",
   "metadata": {},
   "source": [
    "### Download MIDI files, and split into 2 second chunks "
   ]
  },
  {
   "cell_type": "markdown",
   "id": "5dfc0c87-e817-414c-9752-93d9d21db513",
   "metadata": {},
   "source": [
    "### X_train: "
   ]
  },
  {
   "cell_type": "markdown",
   "id": "ad34fc62-bfbb-489c-9c0e-872d14327162",
   "metadata": {},
   "source": [
    "### Y_train "
   ]
  },
  {
   "cell_type": "code",
   "execution_count": null,
<<<<<<< HEAD
   "id": "c41508e8-a996-4c1a-b79d-787ff3c777f9",
=======
   "id": "17a98a69-e989-41e4-ae7d-aa84fc2629bb",
>>>>>>> gru-model
   "metadata": {},
   "outputs": [],
   "source": []
  }
 ],
 "metadata": {
  "kernelspec": {
   "display_name": "Python 3 (ipykernel)",
   "language": "python",
   "name": "python3"
  },
  "language_info": {
   "codemirror_mode": {
    "name": "ipython",
    "version": 3
   },
   "file_extension": ".py",
   "mimetype": "text/x-python",
   "name": "python",
   "nbconvert_exporter": "python",
   "pygments_lexer": "ipython3",
   "version": "3.10.6"
  }
 },
 "nbformat": 4,
 "nbformat_minor": 5
}
