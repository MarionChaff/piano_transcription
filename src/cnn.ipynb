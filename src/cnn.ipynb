{
 "cells": [
  {
   "cell_type": "markdown",
   "id": "140c536e-ff37-49f8-b143-f974f1012b9b",
   "metadata": {},
   "source": [
    "<u>Reload modules</u>"
   ]
  },
  {
   "cell_type": "code",
   "execution_count": 1,
   "id": "eb8cdc07",
   "metadata": {},
   "outputs": [],
   "source": [
    "%load_ext autoreload\n",
    "%autoreload 2"
   ]
  },
  {
   "cell_type": "markdown",
   "id": "af9372ca-5082-4663-8bc5-d4270d6b17c8",
   "metadata": {},
   "source": [
    "<u>Imports</u>"
   ]
  },
  {
   "cell_type": "code",
   "execution_count": 2,
   "id": "f05deaf2",
   "metadata": {},
   "outputs": [
    {
     "name": "stderr",
     "output_type": "stream",
     "text": [
      "2024-03-11 12:24:26.566815: I tensorflow/core/platform/cpu_feature_guard.cc:182] This TensorFlow binary is optimized to use available CPU instructions in performance-critical operations.\n",
      "To enable the following instructions: AVX2 FMA, in other operations, rebuild TensorFlow with the appropriate compiler flags.\n"
     ]
    }
   ],
   "source": [
    "# imports\n",
    "\n",
    "import os\n",
    "from os import listdir\n",
    "from os.path import isfile, split, join\n",
    "\n",
    "# Calculus\n",
    "\n",
    "import numpy as np\n",
    "import pandas as pd\n",
    "\n",
    "# Audio processing\n",
    "\n",
    "from midi2audio import FluidSynth\n",
    "import pretty_midi\n",
    "import librosa\n",
    "import mido\n",
    "from mido import MidiFile, MidiTrack, Message, MetaMessage\n",
    "\n",
    "# Image processing\n",
    "\n",
    "from PIL import Image\n",
    "\n",
    "# Display\n",
    "\n",
    "import matplotlib.pyplot as plt\n",
    "\n",
    "# Model\n",
    "\n",
    "from sklearn.model_selection import train_test_split\n",
    "from tensorflow.keras.models import Sequential\n",
    "from tensorflow.keras.layers import Conv2D, MaxPooling2D, Flatten, Dense, Reshape, Dropout\n",
    "import keras"
   ]
  },
  {
   "cell_type": "markdown",
   "id": "1ec544ef-c306-4805-91c8-0b0849986e24",
   "metadata": {},
   "source": [
    "<u>Paths</u>"
   ]
  },
  {
   "cell_type": "code",
   "execution_count": 3,
   "id": "85bb0f3d",
   "metadata": {},
   "outputs": [],
   "source": [
    "midi_path = \"./data/midis/Adams, Ernest Harry, Evening Invocation, vsq8voyBe0I.mid\"\n",
    "midi_path2 = \"./data/midis/Beach, Amy Marcy, 2 Piano Pieces, Op.102, kTBbDsx5l64.mid\"\n",
    "chunk_directory = \"./data/chunks\"\n",
    "wav_directory = \"./data/wav\"\n",
    "spect_directory = \"./data/spect\""
   ]
  },
  {
   "cell_type": "markdown",
   "id": "5d9150bc-1e1a-40c0-adea-f2abb5861403",
   "metadata": {},
   "source": [
    "\n",
    "\n",
    "<u>Useful functions</u>"
   ]
  },
  {
   "cell_type": "markdown",
   "id": "d03ecd81-1ffa-4bf2-8af0-ceab9aba5952",
   "metadata": {},
   "source": [
    "function 1: <b>create chunks</b>\n",
    "\n",
    "<FONT COLOR=\"#ff0000\"><b>!!! Code from github project !!!</b></FONT>"
   ]
  },
  {
   "cell_type": "code",
   "execution_count": 4,
   "id": "15dfd1ee-b257-4713-a5d6-3928ca5395b0",
   "metadata": {},
   "outputs": [],
   "source": [
    "def split_midi_into_chunks(mid_file, target_directory, default_tempo=500000, target_segment_len=1):\n",
    "\n",
    "# Split the \"mid_file\" into many chunks and store them in the \"target_dir\"\n",
    "\n",
    "  song_name = split(mid_file)[-1][:-4]\n",
    "  mid = MidiFile(mid_file)\n",
    "\n",
    "# identify the meta messages\n",
    "\n",
    "  metas = []\n",
    "  tempo = default_tempo\n",
    "  for msg in mid:\n",
    "    if msg.type == 'set_tempo':\n",
    "      tempo = msg.tempo\n",
    "    if msg.is_meta:\n",
    "      metas.append(msg)\n",
    "  for meta in metas:\n",
    "    meta.time = int(mido.second2tick(meta.time, mid.ticks_per_beat, tempo))\n",
    "\n",
    "  target = MidiFile()\n",
    "  track = MidiTrack()\n",
    "  track.extend(metas)\n",
    "  target.tracks.append(track)\n",
    "  prefix = 0\n",
    "  time_elapsed = 0\n",
    "  for msg in mid:\n",
    "    # Skip non-note related messages\n",
    "    if msg.is_meta:\n",
    "      continue\n",
    "    time_elapsed += msg.time\n",
    "    if msg.type != 'end_of_track':\n",
    "      msg.time = int(mido.second2tick(msg.time, mid.ticks_per_beat, tempo))\n",
    "      track.append(msg)\n",
    "    if msg.type == 'end_of_track' or time_elapsed >= target_segment_len:\n",
    "      track.append(MetaMessage('end_of_track'))\n",
    "      target.save(join(target_directory, song_name + '_{}.mid'.format(prefix)))\n",
    "      target = MidiFile()\n",
    "      track = MidiTrack()\n",
    "      track.extend(metas)\n",
    "      target.tracks.append(track)\n",
    "      time_elapsed = 0\n",
    "      prefix += 1"
   ]
  },
  {
   "cell_type": "markdown",
   "id": "9ed54a7f-f212-4113-aa63-b0ee147e6026",
   "metadata": {},
   "source": [
    "function 2: <b>convert midi to audio .wav and save them </b>"
   ]
  },
  {
   "cell_type": "code",
   "execution_count": 5,
   "id": "afe3995f-c539-47a6-84f4-9264addb2818",
   "metadata": {},
   "outputs": [],
   "source": [
    "def convert_midi_to_wav(input_path=chunk_directory,output_path=wav_directory,soundfont=\"./soundfont/FluidR3_GM.sf2\",data_size=100):\n",
    "\n",
    "    # Converts the midi files in \"input_path\" into .wav audio files and store them in \"output_path\"\n",
    "\n",
    "    wav_name_list = []\n",
    "    \n",
    "    files = list(os.scandir(input_path))\n",
    "\n",
    "    indexing = 1\n",
    "    \n",
    "    for file in files[0:data_size]:\n",
    "        fs = FluidSynth(soundfont)\n",
    "        input = os.path.join(input_path, file.name)\n",
    "        output = os.path.join(output_path, f\"{file.name}.wav\")\n",
    "        fs.midi_to_audio(input,output)\n",
    "        wav_name_list.append(f\"{file.name}\")\n",
    "        print(f\".wav #{indexing} saved!\")\n",
    "        indexing = indexing + 1\n",
    "\n",
    "    return wav_name_list"
   ]
  },
  {
   "cell_type": "markdown",
   "id": "0e5f2ff4-9257-4144-ab7d-141e1e9edd8b",
   "metadata": {},
   "source": [
    "function 3: <b>convert .wav into spectograms and save them </b>(X preprocessing step)"
   ]
  },
  {
   "cell_type": "code",
   "execution_count": 6,
   "id": "e8303d0e-6956-4d8d-a5bb-78199409af08",
   "metadata": {},
   "outputs": [],
   "source": [
    "def from_audio_to_spectograms(input_path=wav_directory,output_path=spect_directory):\n",
    "    \n",
    "    indexing_value = 0\n",
    "    spect_name_list = []\n",
    "    files = [file for file in os.scandir(wav_directory) if file.name[-4:]==\".wav\"]\n",
    "\n",
    "    for file in files :\n",
    "        plt.figure(figsize=(7.5, 3.75))\n",
    "        y, sr = librosa.load(file, sr=None)\n",
    "        C = librosa.cqt(y, sr=sr)\n",
    "        #fig, ax = plt.subplots()\n",
    "        librosa.display.specshow(librosa.amplitude_to_db(np.abs(C), ref=np.max),sr=sr)\n",
    "        plt.axis('off')\n",
    "        output_name = f'spectrogram{indexing_value}.png'\n",
    "        plt.savefig(os.path.join(output_path, output_name),bbox_inches=\"tight\")\n",
    "        plt.close('all')\n",
    "        spect_name_list.append(output_name[:-4])\n",
    "        (f\"{output_name} saved!\")\n",
    "        indexing_value = indexing_value + 1\n",
    "    \n",
    "    return spect_name_list"
   ]
  },
  {
   "cell_type": "code",
   "execution_count": 7,
   "id": "ce0bc470-4bc7-47eb-b263-6720e2a09d89",
   "metadata": {},
   "outputs": [],
   "source": [
    "def plot_cqt(song, path):\n",
    "  plt.figure(figsize=(7.5, 3.75))\n",
    "  y, sr = librosa.load(song)\n",
    "  C = librosa.cqt(y, sr=sr)\n",
    "  librosa.display.specshow(librosa.amplitude_to_db(C, ref=np.max),\n",
    "                            sr=sr)\n",
    "  plt.axis('off')\n",
    "  plt.savefig(path, bbox_inches=\"tight\")\n",
    "  #plt.close('all')"
   ]
  },
  {
   "cell_type": "markdown",
   "id": "8b7c1cb6-b068-4ac7-86f9-7306c4fc026b",
   "metadata": {},
   "source": [
    "function 4: <b>returns clean & normalized X_normalized from a list of spectogram image </b>(X)"
   ]
  },
  {
   "cell_type": "code",
   "execution_count": 8,
   "id": "6e98c2b7-afb3-4efb-a936-da93e96ae8f1",
   "metadata": {},
   "outputs": [],
   "source": [
    "def from_img_to_array (input_path=spect_directory,img_size=(49,154)):\n",
    "    \n",
    "    array_img_list = []\n",
    "\n",
    "    name_list = [file.name for file in os.scandir(input_path) if file.name[-4:]==\".png\"]\n",
    "    \n",
    "    for name in name_list :\n",
    "        \n",
    "        # Removes the white frame and resizes the image\n",
    "        step1 = Image.open(os.path.join(input_path, name)).crop((10,9,506,379)).resize(img_size, Image.NEAREST)\n",
    "        \n",
    "        # Converts the image into np.array (RGBA)\n",
    "        step2 = np.array(step1)\n",
    "\n",
    "        # Normalizes the data \n",
    "        step3 = step2 / 255\n",
    "\n",
    "        # removes the last dimension which is useless\n",
    "        step4 = step3[:, :, :3] \n",
    "\n",
    "        array_img_list.append(step4)\n",
    "\n",
    "    X_normalized = np.array(array_img_list).reshape(len(array_img_list),img_size[0],img_size[1],3)\n",
    "    \n",
    "    return X_normalized"
   ]
  },
  {
   "cell_type": "code",
   "execution_count": 9,
   "id": "d117740a-1433-4ed0-95a9-0ce2a0f47578",
   "metadata": {},
   "outputs": [],
   "source": [
    "def plot_cqt(song, path):\n",
    "    plt.figure(figsize=(7.5, 3.75))\n",
    "    y, sr = librosa.load(song)\n",
    "    C = librosa.cqt(y, sr=sr)\n",
    "    librosa.display.specshow(librosa.amplitude_to_db(np.abs(C), ref=np.max),sr=sr)\n",
    "    plt.axis('off')\n",
    "    plt.savefig(path, bbox_inches=\"tight\")\n",
    "    #plt.close('all')"
   ]
  },
  {
   "cell_type": "markdown",
   "id": "caf146d2-becf-402f-9137-8871684452fc",
   "metadata": {},
   "source": [
    "Step 5: <b>encoding midi files notes </b>(preparation for y)\n",
    "\n",
    "<FONT COLOR=\"#ff0000\"><b>!!! Code from github project !!!</b></FONT>"
   ]
  },
  {
   "cell_type": "code",
   "execution_count": 10,
   "id": "12a53594",
   "metadata": {},
   "outputs": [],
   "source": [
    "#def pretty_midi_to_one_hot(pretty_midi_file, fs=100):\n",
    "#    one_hot = np.zeros((128, int(fs*pretty_midi_file.get_end_time())+1))\n",
    "#    for note in pretty_midi_file.instruments[0].notes:\n",
    "#        one_hot[note.pitch, int(note.start*fs)] = 1\n",
    "#        #print('note on',note.pitch, int(note.start*fs))\n",
    "#        one_hot[note.pitch, int(note.end*fs)] = 0\n",
    "#        #print('note off',note.pitch, int(note.end*fs))\n",
    "#    return one_hot\n",
    "\n",
    "def pretty_midi_to_one_hot(pm, fs=100):\n",
    "    \"\"\"Compute a one hot matrix of a pretty midi object\n",
    "    Parameters\n",
    "    ----------\n",
    "    pm : pretty_midi.PrettyMIDI\n",
    "        A pretty_midi.PrettyMIDI class instance describing\n",
    "        the piano roll.\n",
    "    fs : int\n",
    "        Sampling frequency of the columns, i.e. each column is spaced apart\n",
    "        by ``1./fs`` seconds.\n",
    "    Returns\n",
    "    -------\n",
    "    one_hot : np.ndarray, shape=(128,times.shape[0])\n",
    "        Piano roll of this instrument. 1 represents Note Ons,\n",
    "        -1 represents Note offs, 0 represents constant/do-nothing\n",
    "    \"\"\"\n",
    "\n",
    "    # Allocate a matrix of zeros - we will add in as we go\n",
    "    one_hots = []\n",
    "\n",
    "    if len(pm.instruments) < 1:\n",
    "        return 0\n",
    "\n",
    "    for instrument in pm.instruments:\n",
    "        one_hot = np.zeros((128, int(fs*instrument.get_end_time())+1))\n",
    "        for note in instrument.notes:\n",
    "            # note on\n",
    "            one_hot[note.pitch, int(note.start*fs)] = 1\n",
    "            # print('note on',note.pitch, int(note.start*fs))\n",
    "            # note off\n",
    "            one_hot[note.pitch, int(note.end*fs)] = 0\n",
    "            # print('note off',note.pitch, int(note.end*fs))\n",
    "        one_hots.append(one_hot)\n",
    "\n",
    "    one_hot = np.zeros((128, np.max([o.shape[1] for o in one_hots])))\n",
    "    for o in one_hots:\n",
    "        one_hot[:, :o.shape[1]] += o\n",
    "\n",
    "    one_hot = np.clip(one_hot,-1,1)\n",
    "    return one_hot\n",
    "\n",
    "def slice_to_categories(piano_roll):\n",
    "    notes_list = np.zeros(128)\n",
    "    notes = np.nonzero(piano_roll)[0]\n",
    "    notes = np.unique(notes)\n",
    "\n",
    "    for note in notes:\n",
    "        notes_list[note] = 1\n",
    "\n",
    "    return notes_list"
   ]
  },
  {
   "cell_type": "markdown",
   "id": "6a2624f8-755e-4b0b-a94b-b91e36b1eb26",
   "metadata": {},
   "source": [
    "Step 6: <b>turns midi chunks into arrays </b>(y \"one hot\" encoded)"
   ]
  },
  {
   "cell_type": "code",
   "execution_count": 11,
   "id": "779542dc-26fe-4d2e-920a-9c55c551e836",
   "metadata": {},
   "outputs": [],
   "source": [
    "def midi_to_oh_arrays (wav_name_list, input_path = chunk_directory) :\n",
    "    \n",
    "    y_list = []\n",
    "    \n",
    "    chunk_to_encode = wav_name_list\n",
    "    \n",
    "    for chunk in chunk_to_encode :\n",
    "        step0 = pretty_midi.PrettyMIDI(os.path.join(chunk_directory, chunk))\n",
    "        step1 = pretty_midi_to_one_hot(step0)\n",
    "        step2 = slice_to_categories(step1)\n",
    "        y_list.append(step2)\n",
    "\n",
    "    y_encoded = np.array(y_list)\n",
    "    \n",
    "    return y_encoded"
   ]
  },
  {
   "cell_type": "markdown",
   "id": "7b0af105-714f-4311-ae6a-4996fc38fdbe",
   "metadata": {},
   "source": [
    "<u>Create X and y</u>"
   ]
  },
  {
   "cell_type": "code",
   "execution_count": 12,
   "id": "f2da7cf6-caa4-4a41-9416-36b2debb9d09",
   "metadata": {},
   "outputs": [],
   "source": [
    "data_size = 100"
   ]
  },
  {
   "cell_type": "code",
   "execution_count": 13,
   "id": "0fb8f099-11f1-4460-87be-3097ca842b5e",
   "metadata": {},
   "outputs": [],
   "source": [
    "split_midi_into_chunks(midi_path,chunk_directory)"
   ]
  },
  {
   "cell_type": "code",
   "execution_count": 14,
   "id": "9b36553f-db5b-44dc-bde0-37490fae7ca7",
   "metadata": {},
   "outputs": [],
   "source": [
    "#split_midi_into_chunks(midi_path2,chunk_directory)"
   ]
  },
  {
   "cell_type": "code",
   "execution_count": 15,
   "id": "e7bdf098",
   "metadata": {},
   "outputs": [
    {
     "name": "stderr",
     "output_type": "stream",
     "text": [
      "fluidsynth: warning: End of the MIDI file reached, but not all notes have received a note off event! OFFing them now! Run with --verbose to spot pending voices.\n"
     ]
    },
    {
     "name": "stdout",
     "output_type": "stream",
     "text": [
      "FluidSynth runtime version 2.3.4\n",
      "Copyright (C) 2000-2023 Peter Hanappe and others.\n",
      "Distributed under the LGPL license.\n",
      "SoundFont(R) is a registered trademark of Creative Technology Ltd.\n",
      "\n",
      "Rendering audio to file './data/wav/Adams, Ernest Harry, Evening Invocation, vsq8voyBe0I_23.mid.wav'..\n",
      ".wav #1 saved!\n"
     ]
    },
    {
     "name": "stderr",
     "output_type": "stream",
     "text": [
      "fluidsynth: warning: End of the MIDI file reached, but not all notes have received a note off event! OFFing them now! Run with --verbose to spot pending voices.\n"
     ]
    },
    {
     "name": "stdout",
     "output_type": "stream",
     "text": [
      "FluidSynth runtime version 2.3.4\n",
      "Copyright (C) 2000-2023 Peter Hanappe and others.\n",
      "Distributed under the LGPL license.\n",
      "SoundFont(R) is a registered trademark of Creative Technology Ltd.\n",
      "\n",
      "Rendering audio to file './data/wav/Adams, Ernest Harry, Evening Invocation, vsq8voyBe0I_37.mid.wav'..\n",
      ".wav #2 saved!\n"
     ]
    },
    {
     "name": "stderr",
     "output_type": "stream",
     "text": [
      "fluidsynth: warning: End of the MIDI file reached, but not all notes have received a note off event! OFFing them now! Run with --verbose to spot pending voices.\n"
     ]
    },
    {
     "name": "stdout",
     "output_type": "stream",
     "text": [
      "FluidSynth runtime version 2.3.4\n",
      "Copyright (C) 2000-2023 Peter Hanappe and others.\n",
      "Distributed under the LGPL license.\n",
      "SoundFont(R) is a registered trademark of Creative Technology Ltd.\n",
      "\n",
      "Rendering audio to file './data/wav/Adams, Ernest Harry, Evening Invocation, vsq8voyBe0I_36.mid.wav'..\n",
      ".wav #3 saved!\n"
     ]
    },
    {
     "name": "stderr",
     "output_type": "stream",
     "text": [
      "fluidsynth: warning: End of the MIDI file reached, but not all notes have received a note off event! OFFing them now! Run with --verbose to spot pending voices.\n"
     ]
    },
    {
     "name": "stdout",
     "output_type": "stream",
     "text": [
      "FluidSynth runtime version 2.3.4\n",
      "Copyright (C) 2000-2023 Peter Hanappe and others.\n",
      "Distributed under the LGPL license.\n",
      "SoundFont(R) is a registered trademark of Creative Technology Ltd.\n",
      "\n",
      "Rendering audio to file './data/wav/Adams, Ernest Harry, Evening Invocation, vsq8voyBe0I_22.mid.wav'..\n",
      ".wav #4 saved!\n"
     ]
    },
    {
     "name": "stderr",
     "output_type": "stream",
     "text": [
      "fluidsynth: warning: End of the MIDI file reached, but not all notes have received a note off event! OFFing them now! Run with --verbose to spot pending voices.\n"
     ]
    },
    {
     "name": "stdout",
     "output_type": "stream",
     "text": [
      "FluidSynth runtime version 2.3.4\n",
      "Copyright (C) 2000-2023 Peter Hanappe and others.\n",
      "Distributed under the LGPL license.\n",
      "SoundFont(R) is a registered trademark of Creative Technology Ltd.\n",
      "\n",
      "Rendering audio to file './data/wav/Adams, Ernest Harry, Evening Invocation, vsq8voyBe0I_119.mid.wav'..\n",
      ".wav #5 saved!\n"
     ]
    },
    {
     "name": "stderr",
     "output_type": "stream",
     "text": [
      "fluidsynth: warning: End of the MIDI file reached, but not all notes have received a note off event! OFFing them now! Run with --verbose to spot pending voices.\n"
     ]
    },
    {
     "name": "stdout",
     "output_type": "stream",
     "text": [
      "FluidSynth runtime version 2.3.4\n",
      "Copyright (C) 2000-2023 Peter Hanappe and others.\n",
      "Distributed under the LGPL license.\n",
      "SoundFont(R) is a registered trademark of Creative Technology Ltd.\n",
      "\n",
      "Rendering audio to file './data/wav/Adams, Ernest Harry, Evening Invocation, vsq8voyBe0I_34.mid.wav'..\n",
      ".wav #6 saved!\n"
     ]
    },
    {
     "name": "stderr",
     "output_type": "stream",
     "text": [
      "fluidsynth: warning: End of the MIDI file reached, but not all notes have received a note off event! OFFing them now! Run with --verbose to spot pending voices.\n"
     ]
    },
    {
     "name": "stdout",
     "output_type": "stream",
     "text": [
      "FluidSynth runtime version 2.3.4\n",
      "Copyright (C) 2000-2023 Peter Hanappe and others.\n",
      "Distributed under the LGPL license.\n",
      "SoundFont(R) is a registered trademark of Creative Technology Ltd.\n",
      "\n",
      "Rendering audio to file './data/wav/Adams, Ernest Harry, Evening Invocation, vsq8voyBe0I_20.mid.wav'..\n",
      ".wav #7 saved!\n"
     ]
    },
    {
     "name": "stderr",
     "output_type": "stream",
     "text": [
      "fluidsynth: warning: End of the MIDI file reached, but not all notes have received a note off event! OFFing them now! Run with --verbose to spot pending voices.\n"
     ]
    },
    {
     "name": "stdout",
     "output_type": "stream",
     "text": [
      "FluidSynth runtime version 2.3.4\n",
      "Copyright (C) 2000-2023 Peter Hanappe and others.\n",
      "Distributed under the LGPL license.\n",
      "SoundFont(R) is a registered trademark of Creative Technology Ltd.\n",
      "\n",
      "Rendering audio to file './data/wav/Adams, Ernest Harry, Evening Invocation, vsq8voyBe0I_21.mid.wav'..\n",
      ".wav #8 saved!\n",
      "FluidSynth runtime version 2.3.4\n",
      "Copyright (C) 2000-2023 Peter Hanappe and others.\n",
      "Distributed under the LGPL license.\n",
      "SoundFont(R) is a registered trademark of Creative Technology Ltd.\n",
      "\n",
      "Rendering audio to file './data/wav/Adams, Ernest Harry, Evening Invocation, vsq8voyBe0I_35.mid.wav'..\n",
      ".wav #9 saved!\n"
     ]
    },
    {
     "name": "stderr",
     "output_type": "stream",
     "text": [
      "fluidsynth: warning: End of the MIDI file reached, but not all notes have received a note off event! OFFing them now! Run with --verbose to spot pending voices.\n"
     ]
    },
    {
     "name": "stdout",
     "output_type": "stream",
     "text": [
      "FluidSynth runtime version 2.3.4\n",
      "Copyright (C) 2000-2023 Peter Hanappe and others.\n",
      "Distributed under the LGPL license.\n",
      "SoundFont(R) is a registered trademark of Creative Technology Ltd.\n",
      "\n",
      "Rendering audio to file './data/wav/Adams, Ernest Harry, Evening Invocation, vsq8voyBe0I_118.mid.wav'..\n",
      ".wav #10 saved!\n"
     ]
    },
    {
     "name": "stderr",
     "output_type": "stream",
     "text": [
      "fluidsynth: warning: End of the MIDI file reached, but not all notes have received a note off event! OFFing them now! Run with --verbose to spot pending voices.\n"
     ]
    },
    {
     "name": "stdout",
     "output_type": "stream",
     "text": [
      "FluidSynth runtime version 2.3.4\n",
      "Copyright (C) 2000-2023 Peter Hanappe and others.\n",
      "Distributed under the LGPL license.\n",
      "SoundFont(R) is a registered trademark of Creative Technology Ltd.\n",
      "\n",
      "Rendering audio to file './data/wav/Adams, Ernest Harry, Evening Invocation, vsq8voyBe0I_120.mid.wav'..\n",
      ".wav #11 saved!\n"
     ]
    },
    {
     "name": "stderr",
     "output_type": "stream",
     "text": [
      "fluidsynth: warning: End of the MIDI file reached, but not all notes have received a note off event! OFFing them now! Run with --verbose to spot pending voices.\n"
     ]
    },
    {
     "name": "stdout",
     "output_type": "stream",
     "text": [
      "FluidSynth runtime version 2.3.4\n",
      "Copyright (C) 2000-2023 Peter Hanappe and others.\n",
      "Distributed under the LGPL license.\n",
      "SoundFont(R) is a registered trademark of Creative Technology Ltd.\n",
      "\n",
      "Rendering audio to file './data/wav/Adams, Ernest Harry, Evening Invocation, vsq8voyBe0I_108.mid.wav'..\n",
      ".wav #12 saved!\n"
     ]
    },
    {
     "name": "stderr",
     "output_type": "stream",
     "text": [
      "fluidsynth: warning: End of the MIDI file reached, but not all notes have received a note off event! OFFing them now! Run with --verbose to spot pending voices.\n"
     ]
    },
    {
     "name": "stdout",
     "output_type": "stream",
     "text": [
      "FluidSynth runtime version 2.3.4\n",
      "Copyright (C) 2000-2023 Peter Hanappe and others.\n",
      "Distributed under the LGPL license.\n",
      "SoundFont(R) is a registered trademark of Creative Technology Ltd.\n",
      "\n",
      "Rendering audio to file './data/wav/Adams, Ernest Harry, Evening Invocation, vsq8voyBe0I_31.mid.wav'..\n",
      ".wav #13 saved!\n"
     ]
    },
    {
     "name": "stderr",
     "output_type": "stream",
     "text": [
      "fluidsynth: error: fluid_is_soundfont(): expected RIFF chunk id '0x46464952' but got '0x1000000'.\n",
      "Parameter './data/chunks/.DS_Store' not a SoundFont or MIDI file or error occurred identifying it.\n",
      "No midi file specified!\n"
     ]
    },
    {
     "name": "stdout",
     "output_type": "stream",
     "text": [
      "FluidSynth runtime version 2.3.4\n",
      "Copyright (C) 2000-2023 Peter Hanappe and others.\n",
      "Distributed under the LGPL license.\n",
      "SoundFont(R) is a registered trademark of Creative Technology Ltd.\n",
      "\n",
      ".wav #14 saved!\n"
     ]
    },
    {
     "name": "stderr",
     "output_type": "stream",
     "text": [
      "fluidsynth: warning: End of the MIDI file reached, but not all notes have received a note off event! OFFing them now! Run with --verbose to spot pending voices.\n"
     ]
    },
    {
     "name": "stdout",
     "output_type": "stream",
     "text": [
      "FluidSynth runtime version 2.3.4\n",
      "Copyright (C) 2000-2023 Peter Hanappe and others.\n",
      "Distributed under the LGPL license.\n",
      "SoundFont(R) is a registered trademark of Creative Technology Ltd.\n",
      "\n",
      "Rendering audio to file './data/wav/Adams, Ernest Harry, Evening Invocation, vsq8voyBe0I_25.mid.wav'..\n",
      ".wav #15 saved!\n"
     ]
    },
    {
     "name": "stderr",
     "output_type": "stream",
     "text": [
      "fluidsynth: warning: End of the MIDI file reached, but not all notes have received a note off event! OFFing them now! Run with --verbose to spot pending voices.\n"
     ]
    },
    {
     "name": "stdout",
     "output_type": "stream",
     "text": [
      "FluidSynth runtime version 2.3.4\n",
      "Copyright (C) 2000-2023 Peter Hanappe and others.\n",
      "Distributed under the LGPL license.\n",
      "SoundFont(R) is a registered trademark of Creative Technology Ltd.\n",
      "\n",
      "Rendering audio to file './data/wav/Adams, Ernest Harry, Evening Invocation, vsq8voyBe0I_19.mid.wav'..\n",
      ".wav #16 saved!\n"
     ]
    },
    {
     "name": "stderr",
     "output_type": "stream",
     "text": [
      "fluidsynth: warning: End of the MIDI file reached, but not all notes have received a note off event! OFFing them now! Run with --verbose to spot pending voices.\n"
     ]
    },
    {
     "name": "stdout",
     "output_type": "stream",
     "text": [
      "FluidSynth runtime version 2.3.4\n",
      "Copyright (C) 2000-2023 Peter Hanappe and others.\n",
      "Distributed under the LGPL license.\n",
      "SoundFont(R) is a registered trademark of Creative Technology Ltd.\n",
      "\n",
      "Rendering audio to file './data/wav/Adams, Ernest Harry, Evening Invocation, vsq8voyBe0I_18.mid.wav'..\n",
      ".wav #17 saved!\n"
     ]
    },
    {
     "name": "stderr",
     "output_type": "stream",
     "text": [
      "fluidsynth: warning: End of the MIDI file reached, but not all notes have received a note off event! OFFing them now! Run with --verbose to spot pending voices.\n"
     ]
    },
    {
     "name": "stdout",
     "output_type": "stream",
     "text": [
      "FluidSynth runtime version 2.3.4\n",
      "Copyright (C) 2000-2023 Peter Hanappe and others.\n",
      "Distributed under the LGPL license.\n",
      "SoundFont(R) is a registered trademark of Creative Technology Ltd.\n",
      "\n",
      "Rendering audio to file './data/wav/Adams, Ernest Harry, Evening Invocation, vsq8voyBe0I_24.mid.wav'..\n",
      ".wav #18 saved!\n"
     ]
    },
    {
     "name": "stderr",
     "output_type": "stream",
     "text": [
      "fluidsynth: warning: End of the MIDI file reached, but not all notes have received a note off event! OFFing them now! Run with --verbose to spot pending voices.\n"
     ]
    },
    {
     "name": "stdout",
     "output_type": "stream",
     "text": [
      "FluidSynth runtime version 2.3.4\n",
      "Copyright (C) 2000-2023 Peter Hanappe and others.\n",
      "Distributed under the LGPL license.\n",
      "SoundFont(R) is a registered trademark of Creative Technology Ltd.\n",
      "\n",
      "Rendering audio to file './data/wav/Adams, Ernest Harry, Evening Invocation, vsq8voyBe0I_30.mid.wav'..\n",
      ".wav #19 saved!\n"
     ]
    },
    {
     "name": "stderr",
     "output_type": "stream",
     "text": [
      "fluidsynth: warning: End of the MIDI file reached, but not all notes have received a note off event! OFFing them now! Run with --verbose to spot pending voices.\n"
     ]
    },
    {
     "name": "stdout",
     "output_type": "stream",
     "text": [
      "FluidSynth runtime version 2.3.4\n",
      "Copyright (C) 2000-2023 Peter Hanappe and others.\n",
      "Distributed under the LGPL license.\n",
      "SoundFont(R) is a registered trademark of Creative Technology Ltd.\n",
      "\n",
      "Rendering audio to file './data/wav/Adams, Ernest Harry, Evening Invocation, vsq8voyBe0I_109.mid.wav'..\n",
      ".wav #20 saved!\n"
     ]
    },
    {
     "name": "stderr",
     "output_type": "stream",
     "text": [
      "fluidsynth: warning: End of the MIDI file reached, but not all notes have received a note off event! OFFing them now! Run with --verbose to spot pending voices.\n"
     ]
    },
    {
     "name": "stdout",
     "output_type": "stream",
     "text": [
      "FluidSynth runtime version 2.3.4\n",
      "Copyright (C) 2000-2023 Peter Hanappe and others.\n",
      "Distributed under the LGPL license.\n",
      "SoundFont(R) is a registered trademark of Creative Technology Ltd.\n",
      "\n",
      "Rendering audio to file './data/wav/Adams, Ernest Harry, Evening Invocation, vsq8voyBe0I_121.mid.wav'..\n",
      ".wav #21 saved!\n",
      "FluidSynth runtime version 2.3.4\n",
      "Copyright (C) 2000-2023 Peter Hanappe and others.\n",
      "Distributed under the LGPL license.\n",
      "SoundFont(R) is a registered trademark of Creative Technology Ltd.\n",
      "\n",
      "Rendering audio to file './data/wav/Adams, Ernest Harry, Evening Invocation, vsq8voyBe0I_123.mid.wav'..\n",
      ".wav #22 saved!\n"
     ]
    },
    {
     "name": "stderr",
     "output_type": "stream",
     "text": [
      "fluidsynth: warning: End of the MIDI file reached, but not all notes have received a note off event! OFFing them now! Run with --verbose to spot pending voices.\n"
     ]
    },
    {
     "name": "stdout",
     "output_type": "stream",
     "text": [
      "FluidSynth runtime version 2.3.4\n",
      "Copyright (C) 2000-2023 Peter Hanappe and others.\n",
      "Distributed under the LGPL license.\n",
      "SoundFont(R) is a registered trademark of Creative Technology Ltd.\n",
      "\n",
      "Rendering audio to file './data/wav/Adams, Ernest Harry, Evening Invocation, vsq8voyBe0I_26.mid.wav'..\n",
      ".wav #23 saved!\n"
     ]
    },
    {
     "name": "stderr",
     "output_type": "stream",
     "text": [
      "fluidsynth: warning: End of the MIDI file reached, but not all notes have received a note off event! OFFing them now! Run with --verbose to spot pending voices.\n"
     ]
    },
    {
     "name": "stdout",
     "output_type": "stream",
     "text": [
      "FluidSynth runtime version 2.3.4\n",
      "Copyright (C) 2000-2023 Peter Hanappe and others.\n",
      "Distributed under the LGPL license.\n",
      "SoundFont(R) is a registered trademark of Creative Technology Ltd.\n",
      "\n",
      "Rendering audio to file './data/wav/Adams, Ernest Harry, Evening Invocation, vsq8voyBe0I_32.mid.wav'..\n",
      ".wav #24 saved!\n"
     ]
    },
    {
     "name": "stderr",
     "output_type": "stream",
     "text": [
      "fluidsynth: warning: End of the MIDI file reached, but not all notes have received a note off event! OFFing them now! Run with --verbose to spot pending voices.\n"
     ]
    },
    {
     "name": "stdout",
     "output_type": "stream",
     "text": [
      "FluidSynth runtime version 2.3.4\n",
      "Copyright (C) 2000-2023 Peter Hanappe and others.\n",
      "Distributed under the LGPL license.\n",
      "SoundFont(R) is a registered trademark of Creative Technology Ltd.\n",
      "\n",
      "Rendering audio to file './data/wav/Adams, Ernest Harry, Evening Invocation, vsq8voyBe0I_33.mid.wav'..\n",
      ".wav #25 saved!\n"
     ]
    },
    {
     "name": "stderr",
     "output_type": "stream",
     "text": [
      "fluidsynth: warning: End of the MIDI file reached, but not all notes have received a note off event! OFFing them now! Run with --verbose to spot pending voices.\n"
     ]
    },
    {
     "name": "stdout",
     "output_type": "stream",
     "text": [
      "FluidSynth runtime version 2.3.4\n",
      "Copyright (C) 2000-2023 Peter Hanappe and others.\n",
      "Distributed under the LGPL license.\n",
      "SoundFont(R) is a registered trademark of Creative Technology Ltd.\n",
      "\n",
      "Rendering audio to file './data/wav/Adams, Ernest Harry, Evening Invocation, vsq8voyBe0I_27.mid.wav'..\n",
      ".wav #26 saved!\n",
      "FluidSynth runtime version 2.3.4\n",
      "Copyright (C) 2000-2023 Peter Hanappe and others.\n",
      "Distributed under the LGPL license.\n",
      "SoundFont(R) is a registered trademark of Creative Technology Ltd.\n",
      "\n",
      "Rendering audio to file './data/wav/Adams, Ernest Harry, Evening Invocation, vsq8voyBe0I_122.mid.wav'..\n",
      ".wav #27 saved!\n"
     ]
    },
    {
     "name": "stderr",
     "output_type": "stream",
     "text": [
      "fluidsynth: warning: End of the MIDI file reached, but not all notes have received a note off event! OFFing them now! Run with --verbose to spot pending voices.\n"
     ]
    },
    {
     "name": "stdout",
     "output_type": "stream",
     "text": [
      "FluidSynth runtime version 2.3.4\n",
      "Copyright (C) 2000-2023 Peter Hanappe and others.\n",
      "Distributed under the LGPL license.\n",
      "SoundFont(R) is a registered trademark of Creative Technology Ltd.\n",
      "\n",
      "Rendering audio to file './data/wav/Adams, Ernest Harry, Evening Invocation, vsq8voyBe0I_68.mid.wav'..\n",
      ".wav #28 saved!\n"
     ]
    },
    {
     "name": "stderr",
     "output_type": "stream",
     "text": [
      "fluidsynth: warning: End of the MIDI file reached, but not all notes have received a note off event! OFFing them now! Run with --verbose to spot pending voices.\n"
     ]
    },
    {
     "name": "stdout",
     "output_type": "stream",
     "text": [
      "FluidSynth runtime version 2.3.4\n",
      "Copyright (C) 2000-2023 Peter Hanappe and others.\n",
      "Distributed under the LGPL license.\n",
      "SoundFont(R) is a registered trademark of Creative Technology Ltd.\n",
      "\n",
      "Rendering audio to file './data/wav/Adams, Ernest Harry, Evening Invocation, vsq8voyBe0I_40.mid.wav'..\n",
      ".wav #29 saved!\n"
     ]
    },
    {
     "name": "stderr",
     "output_type": "stream",
     "text": [
      "fluidsynth: warning: End of the MIDI file reached, but not all notes have received a note off event! OFFing them now! Run with --verbose to spot pending voices.\n"
     ]
    },
    {
     "name": "stdout",
     "output_type": "stream",
     "text": [
      "FluidSynth runtime version 2.3.4\n",
      "Copyright (C) 2000-2023 Peter Hanappe and others.\n",
      "Distributed under the LGPL license.\n",
      "SoundFont(R) is a registered trademark of Creative Technology Ltd.\n",
      "\n",
      "Rendering audio to file './data/wav/Adams, Ernest Harry, Evening Invocation, vsq8voyBe0I_54.mid.wav'..\n",
      ".wav #30 saved!\n"
     ]
    },
    {
     "name": "stderr",
     "output_type": "stream",
     "text": [
      "fluidsynth: warning: End of the MIDI file reached, but not all notes have received a note off event! OFFing them now! Run with --verbose to spot pending voices.\n"
     ]
    },
    {
     "name": "stdout",
     "output_type": "stream",
     "text": [
      "FluidSynth runtime version 2.3.4\n",
      "Copyright (C) 2000-2023 Peter Hanappe and others.\n",
      "Distributed under the LGPL license.\n",
      "SoundFont(R) is a registered trademark of Creative Technology Ltd.\n",
      "\n",
      "Rendering audio to file './data/wav/Adams, Ernest Harry, Evening Invocation, vsq8voyBe0I_83.mid.wav'..\n",
      ".wav #31 saved!\n"
     ]
    },
    {
     "name": "stderr",
     "output_type": "stream",
     "text": [
      "fluidsynth: warning: End of the MIDI file reached, but not all notes have received a note off event! OFFing them now! Run with --verbose to spot pending voices.\n"
     ]
    },
    {
     "name": "stdout",
     "output_type": "stream",
     "text": [
      "FluidSynth runtime version 2.3.4\n",
      "Copyright (C) 2000-2023 Peter Hanappe and others.\n",
      "Distributed under the LGPL license.\n",
      "SoundFont(R) is a registered trademark of Creative Technology Ltd.\n",
      "\n",
      "Rendering audio to file './data/wav/Adams, Ernest Harry, Evening Invocation, vsq8voyBe0I_97.mid.wav'..\n",
      ".wav #32 saved!\n"
     ]
    },
    {
     "name": "stderr",
     "output_type": "stream",
     "text": [
      "fluidsynth: warning: End of the MIDI file reached, but not all notes have received a note off event! OFFing them now! Run with --verbose to spot pending voices.\n"
     ]
    },
    {
     "name": "stdout",
     "output_type": "stream",
     "text": [
      "FluidSynth runtime version 2.3.4\n",
      "Copyright (C) 2000-2023 Peter Hanappe and others.\n",
      "Distributed under the LGPL license.\n",
      "SoundFont(R) is a registered trademark of Creative Technology Ltd.\n",
      "\n",
      "Rendering audio to file './data/wav/Adams, Ernest Harry, Evening Invocation, vsq8voyBe0I_96.mid.wav'..\n",
      ".wav #33 saved!\n"
     ]
    },
    {
     "name": "stderr",
     "output_type": "stream",
     "text": [
      "fluidsynth: warning: End of the MIDI file reached, but not all notes have received a note off event! OFFing them now! Run with --verbose to spot pending voices.\n"
     ]
    },
    {
     "name": "stdout",
     "output_type": "stream",
     "text": [
      "FluidSynth runtime version 2.3.4\n",
      "Copyright (C) 2000-2023 Peter Hanappe and others.\n",
      "Distributed under the LGPL license.\n",
      "SoundFont(R) is a registered trademark of Creative Technology Ltd.\n",
      "\n",
      "Rendering audio to file './data/wav/Adams, Ernest Harry, Evening Invocation, vsq8voyBe0I_82.mid.wav'..\n",
      ".wav #34 saved!\n"
     ]
    },
    {
     "name": "stderr",
     "output_type": "stream",
     "text": [
      "fluidsynth: warning: End of the MIDI file reached, but not all notes have received a note off event! OFFing them now! Run with --verbose to spot pending voices.\n"
     ]
    },
    {
     "name": "stdout",
     "output_type": "stream",
     "text": [
      "FluidSynth runtime version 2.3.4\n",
      "Copyright (C) 2000-2023 Peter Hanappe and others.\n",
      "Distributed under the LGPL license.\n",
      "SoundFont(R) is a registered trademark of Creative Technology Ltd.\n",
      "\n",
      "Rendering audio to file './data/wav/Adams, Ernest Harry, Evening Invocation, vsq8voyBe0I_55.mid.wav'..\n",
      ".wav #35 saved!\n"
     ]
    },
    {
     "name": "stderr",
     "output_type": "stream",
     "text": [
      "fluidsynth: warning: End of the MIDI file reached, but not all notes have received a note off event! OFFing them now! Run with --verbose to spot pending voices.\n"
     ]
    },
    {
     "name": "stdout",
     "output_type": "stream",
     "text": [
      "FluidSynth runtime version 2.3.4\n",
      "Copyright (C) 2000-2023 Peter Hanappe and others.\n",
      "Distributed under the LGPL license.\n",
      "SoundFont(R) is a registered trademark of Creative Technology Ltd.\n",
      "\n",
      "Rendering audio to file './data/wav/Adams, Ernest Harry, Evening Invocation, vsq8voyBe0I_41.mid.wav'..\n",
      ".wav #36 saved!\n"
     ]
    },
    {
     "name": "stderr",
     "output_type": "stream",
     "text": [
      "fluidsynth: warning: End of the MIDI file reached, but not all notes have received a note off event! OFFing them now! Run with --verbose to spot pending voices.\n"
     ]
    },
    {
     "name": "stdout",
     "output_type": "stream",
     "text": [
      "FluidSynth runtime version 2.3.4\n",
      "Copyright (C) 2000-2023 Peter Hanappe and others.\n",
      "Distributed under the LGPL license.\n",
      "SoundFont(R) is a registered trademark of Creative Technology Ltd.\n",
      "\n",
      "Rendering audio to file './data/wav/Adams, Ernest Harry, Evening Invocation, vsq8voyBe0I_69.mid.wav'..\n",
      ".wav #37 saved!\n"
     ]
    },
    {
     "name": "stderr",
     "output_type": "stream",
     "text": [
      "fluidsynth: warning: End of the MIDI file reached, but not all notes have received a note off event! OFFing them now! Run with --verbose to spot pending voices.\n"
     ]
    },
    {
     "name": "stdout",
     "output_type": "stream",
     "text": [
      "FluidSynth runtime version 2.3.4\n",
      "Copyright (C) 2000-2023 Peter Hanappe and others.\n",
      "Distributed under the LGPL license.\n",
      "SoundFont(R) is a registered trademark of Creative Technology Ltd.\n",
      "\n",
      "Rendering audio to file './data/wav/Adams, Ernest Harry, Evening Invocation, vsq8voyBe0I_57.mid.wav'..\n",
      ".wav #38 saved!\n"
     ]
    },
    {
     "name": "stderr",
     "output_type": "stream",
     "text": [
      "fluidsynth: warning: End of the MIDI file reached, but not all notes have received a note off event! OFFing them now! Run with --verbose to spot pending voices.\n"
     ]
    },
    {
     "name": "stdout",
     "output_type": "stream",
     "text": [
      "FluidSynth runtime version 2.3.4\n",
      "Copyright (C) 2000-2023 Peter Hanappe and others.\n",
      "Distributed under the LGPL license.\n",
      "SoundFont(R) is a registered trademark of Creative Technology Ltd.\n",
      "\n",
      "Rendering audio to file './data/wav/Adams, Ernest Harry, Evening Invocation, vsq8voyBe0I_43.mid.wav'..\n",
      ".wav #39 saved!\n"
     ]
    },
    {
     "name": "stderr",
     "output_type": "stream",
     "text": [
      "fluidsynth: warning: End of the MIDI file reached, but not all notes have received a note off event! OFFing them now! Run with --verbose to spot pending voices.\n"
     ]
    },
    {
     "name": "stdout",
     "output_type": "stream",
     "text": [
      "FluidSynth runtime version 2.3.4\n",
      "Copyright (C) 2000-2023 Peter Hanappe and others.\n",
      "Distributed under the LGPL license.\n",
      "SoundFont(R) is a registered trademark of Creative Technology Ltd.\n",
      "\n",
      "Rendering audio to file './data/wav/Adams, Ernest Harry, Evening Invocation, vsq8voyBe0I_94.mid.wav'..\n",
      ".wav #40 saved!\n"
     ]
    },
    {
     "name": "stderr",
     "output_type": "stream",
     "text": [
      "fluidsynth: warning: End of the MIDI file reached, but not all notes have received a note off event! OFFing them now! Run with --verbose to spot pending voices.\n"
     ]
    },
    {
     "name": "stdout",
     "output_type": "stream",
     "text": [
      "FluidSynth runtime version 2.3.4\n",
      "Copyright (C) 2000-2023 Peter Hanappe and others.\n",
      "Distributed under the LGPL license.\n",
      "SoundFont(R) is a registered trademark of Creative Technology Ltd.\n",
      "\n",
      "Rendering audio to file './data/wav/Adams, Ernest Harry, Evening Invocation, vsq8voyBe0I_80.mid.wav'..\n",
      ".wav #41 saved!\n"
     ]
    },
    {
     "name": "stderr",
     "output_type": "stream",
     "text": [
      "fluidsynth: warning: End of the MIDI file reached, but not all notes have received a note off event! OFFing them now! Run with --verbose to spot pending voices.\n"
     ]
    },
    {
     "name": "stdout",
     "output_type": "stream",
     "text": [
      "FluidSynth runtime version 2.3.4\n",
      "Copyright (C) 2000-2023 Peter Hanappe and others.\n",
      "Distributed under the LGPL license.\n",
      "SoundFont(R) is a registered trademark of Creative Technology Ltd.\n",
      "\n",
      "Rendering audio to file './data/wav/Adams, Ernest Harry, Evening Invocation, vsq8voyBe0I_81.mid.wav'..\n",
      ".wav #42 saved!\n"
     ]
    },
    {
     "name": "stderr",
     "output_type": "stream",
     "text": [
      "fluidsynth: warning: End of the MIDI file reached, but not all notes have received a note off event! OFFing them now! Run with --verbose to spot pending voices.\n"
     ]
    },
    {
     "name": "stdout",
     "output_type": "stream",
     "text": [
      "FluidSynth runtime version 2.3.4\n",
      "Copyright (C) 2000-2023 Peter Hanappe and others.\n",
      "Distributed under the LGPL license.\n",
      "SoundFont(R) is a registered trademark of Creative Technology Ltd.\n",
      "\n",
      "Rendering audio to file './data/wav/Adams, Ernest Harry, Evening Invocation, vsq8voyBe0I_95.mid.wav'..\n",
      ".wav #43 saved!\n"
     ]
    },
    {
     "name": "stderr",
     "output_type": "stream",
     "text": [
      "fluidsynth: warning: End of the MIDI file reached, but not all notes have received a note off event! OFFing them now! Run with --verbose to spot pending voices.\n"
     ]
    },
    {
     "name": "stdout",
     "output_type": "stream",
     "text": [
      "FluidSynth runtime version 2.3.4\n",
      "Copyright (C) 2000-2023 Peter Hanappe and others.\n",
      "Distributed under the LGPL license.\n",
      "SoundFont(R) is a registered trademark of Creative Technology Ltd.\n",
      "\n",
      "Rendering audio to file './data/wav/Adams, Ernest Harry, Evening Invocation, vsq8voyBe0I_42.mid.wav'..\n",
      ".wav #44 saved!\n"
     ]
    },
    {
     "name": "stderr",
     "output_type": "stream",
     "text": [
      "fluidsynth: warning: End of the MIDI file reached, but not all notes have received a note off event! OFFing them now! Run with --verbose to spot pending voices.\n"
     ]
    },
    {
     "name": "stdout",
     "output_type": "stream",
     "text": [
      "FluidSynth runtime version 2.3.4\n",
      "Copyright (C) 2000-2023 Peter Hanappe and others.\n",
      "Distributed under the LGPL license.\n",
      "SoundFont(R) is a registered trademark of Creative Technology Ltd.\n",
      "\n",
      "Rendering audio to file './data/wav/Adams, Ernest Harry, Evening Invocation, vsq8voyBe0I_56.mid.wav'..\n",
      ".wav #45 saved!\n"
     ]
    },
    {
     "name": "stderr",
     "output_type": "stream",
     "text": [
      "fluidsynth: warning: End of the MIDI file reached, but not all notes have received a note off event! OFFing them now! Run with --verbose to spot pending voices.\n"
     ]
    },
    {
     "name": "stdout",
     "output_type": "stream",
     "text": [
      "FluidSynth runtime version 2.3.4\n",
      "Copyright (C) 2000-2023 Peter Hanappe and others.\n",
      "Distributed under the LGPL license.\n",
      "SoundFont(R) is a registered trademark of Creative Technology Ltd.\n",
      "\n",
      "Rendering audio to file './data/wav/Adams, Ernest Harry, Evening Invocation, vsq8voyBe0I_52.mid.wav'..\n",
      ".wav #46 saved!\n"
     ]
    },
    {
     "name": "stderr",
     "output_type": "stream",
     "text": [
      "fluidsynth: warning: End of the MIDI file reached, but not all notes have received a note off event! OFFing them now! Run with --verbose to spot pending voices.\n"
     ]
    },
    {
     "name": "stdout",
     "output_type": "stream",
     "text": [
      "FluidSynth runtime version 2.3.4\n",
      "Copyright (C) 2000-2023 Peter Hanappe and others.\n",
      "Distributed under the LGPL license.\n",
      "SoundFont(R) is a registered trademark of Creative Technology Ltd.\n",
      "\n",
      "Rendering audio to file './data/wav/Adams, Ernest Harry, Evening Invocation, vsq8voyBe0I_46.mid.wav'..\n",
      ".wav #47 saved!\n"
     ]
    },
    {
     "name": "stderr",
     "output_type": "stream",
     "text": [
      "fluidsynth: warning: End of the MIDI file reached, but not all notes have received a note off event! OFFing them now! Run with --verbose to spot pending voices.\n"
     ]
    },
    {
     "name": "stdout",
     "output_type": "stream",
     "text": [
      "FluidSynth runtime version 2.3.4\n",
      "Copyright (C) 2000-2023 Peter Hanappe and others.\n",
      "Distributed under the LGPL license.\n",
      "SoundFont(R) is a registered trademark of Creative Technology Ltd.\n",
      "\n",
      "Rendering audio to file './data/wav/Adams, Ernest Harry, Evening Invocation, vsq8voyBe0I_91.mid.wav'..\n",
      ".wav #48 saved!\n"
     ]
    },
    {
     "name": "stderr",
     "output_type": "stream",
     "text": [
      "fluidsynth: warning: End of the MIDI file reached, but not all notes have received a note off event! OFFing them now! Run with --verbose to spot pending voices.\n"
     ]
    },
    {
     "name": "stdout",
     "output_type": "stream",
     "text": [
      "FluidSynth runtime version 2.3.4\n",
      "Copyright (C) 2000-2023 Peter Hanappe and others.\n",
      "Distributed under the LGPL license.\n",
      "SoundFont(R) is a registered trademark of Creative Technology Ltd.\n",
      "\n",
      "Rendering audio to file './data/wav/Adams, Ernest Harry, Evening Invocation, vsq8voyBe0I_85.mid.wav'..\n",
      ".wav #49 saved!\n"
     ]
    },
    {
     "name": "stderr",
     "output_type": "stream",
     "text": [
      "fluidsynth: warning: End of the MIDI file reached, but not all notes have received a note off event! OFFing them now! Run with --verbose to spot pending voices.\n"
     ]
    },
    {
     "name": "stdout",
     "output_type": "stream",
     "text": [
      "FluidSynth runtime version 2.3.4\n",
      "Copyright (C) 2000-2023 Peter Hanappe and others.\n",
      "Distributed under the LGPL license.\n",
      "SoundFont(R) is a registered trademark of Creative Technology Ltd.\n",
      "\n",
      "Rendering audio to file './data/wav/Adams, Ernest Harry, Evening Invocation, vsq8voyBe0I_84.mid.wav'..\n",
      ".wav #50 saved!\n"
     ]
    },
    {
     "name": "stderr",
     "output_type": "stream",
     "text": [
      "fluidsynth: warning: End of the MIDI file reached, but not all notes have received a note off event! OFFing them now! Run with --verbose to spot pending voices.\n"
     ]
    },
    {
     "name": "stdout",
     "output_type": "stream",
     "text": [
      "FluidSynth runtime version 2.3.4\n",
      "Copyright (C) 2000-2023 Peter Hanappe and others.\n",
      "Distributed under the LGPL license.\n",
      "SoundFont(R) is a registered trademark of Creative Technology Ltd.\n",
      "\n",
      "Rendering audio to file './data/wav/Adams, Ernest Harry, Evening Invocation, vsq8voyBe0I_90.mid.wav'..\n",
      ".wav #51 saved!\n"
     ]
    },
    {
     "name": "stderr",
     "output_type": "stream",
     "text": [
      "fluidsynth: warning: End of the MIDI file reached, but not all notes have received a note off event! OFFing them now! Run with --verbose to spot pending voices.\n"
     ]
    },
    {
     "name": "stdout",
     "output_type": "stream",
     "text": [
      "FluidSynth runtime version 2.3.4\n",
      "Copyright (C) 2000-2023 Peter Hanappe and others.\n",
      "Distributed under the LGPL license.\n",
      "SoundFont(R) is a registered trademark of Creative Technology Ltd.\n",
      "\n",
      "Rendering audio to file './data/wav/Adams, Ernest Harry, Evening Invocation, vsq8voyBe0I_47.mid.wav'..\n",
      ".wav #52 saved!\n"
     ]
    },
    {
     "name": "stderr",
     "output_type": "stream",
     "text": [
      "fluidsynth: warning: End of the MIDI file reached, but not all notes have received a note off event! OFFing them now! Run with --verbose to spot pending voices.\n"
     ]
    },
    {
     "name": "stdout",
     "output_type": "stream",
     "text": [
      "FluidSynth runtime version 2.3.4\n",
      "Copyright (C) 2000-2023 Peter Hanappe and others.\n",
      "Distributed under the LGPL license.\n",
      "SoundFont(R) is a registered trademark of Creative Technology Ltd.\n",
      "\n",
      "Rendering audio to file './data/wav/Adams, Ernest Harry, Evening Invocation, vsq8voyBe0I_53.mid.wav'..\n",
      ".wav #53 saved!\n"
     ]
    },
    {
     "name": "stderr",
     "output_type": "stream",
     "text": [
      "fluidsynth: warning: End of the MIDI file reached, but not all notes have received a note off event! OFFing them now! Run with --verbose to spot pending voices.\n"
     ]
    },
    {
     "name": "stdout",
     "output_type": "stream",
     "text": [
      "FluidSynth runtime version 2.3.4\n",
      "Copyright (C) 2000-2023 Peter Hanappe and others.\n",
      "Distributed under the LGPL license.\n",
      "SoundFont(R) is a registered trademark of Creative Technology Ltd.\n",
      "\n",
      "Rendering audio to file './data/wav/Adams, Ernest Harry, Evening Invocation, vsq8voyBe0I_8.mid.wav'..\n",
      ".wav #54 saved!\n"
     ]
    },
    {
     "name": "stderr",
     "output_type": "stream",
     "text": [
      "fluidsynth: warning: End of the MIDI file reached, but not all notes have received a note off event! OFFing them now! Run with --verbose to spot pending voices.\n"
     ]
    },
    {
     "name": "stdout",
     "output_type": "stream",
     "text": [
      "FluidSynth runtime version 2.3.4\n",
      "Copyright (C) 2000-2023 Peter Hanappe and others.\n",
      "Distributed under the LGPL license.\n",
      "SoundFont(R) is a registered trademark of Creative Technology Ltd.\n",
      "\n",
      "Rendering audio to file './data/wav/Adams, Ernest Harry, Evening Invocation, vsq8voyBe0I_45.mid.wav'..\n",
      ".wav #55 saved!\n"
     ]
    },
    {
     "name": "stderr",
     "output_type": "stream",
     "text": [
      "fluidsynth: warning: End of the MIDI file reached, but not all notes have received a note off event! OFFing them now! Run with --verbose to spot pending voices.\n"
     ]
    },
    {
     "name": "stdout",
     "output_type": "stream",
     "text": [
      "FluidSynth runtime version 2.3.4\n",
      "Copyright (C) 2000-2023 Peter Hanappe and others.\n",
      "Distributed under the LGPL license.\n",
      "SoundFont(R) is a registered trademark of Creative Technology Ltd.\n",
      "\n",
      "Rendering audio to file './data/wav/Adams, Ernest Harry, Evening Invocation, vsq8voyBe0I_51.mid.wav'..\n",
      ".wav #56 saved!\n"
     ]
    },
    {
     "name": "stderr",
     "output_type": "stream",
     "text": [
      "fluidsynth: warning: End of the MIDI file reached, but not all notes have received a note off event! OFFing them now! Run with --verbose to spot pending voices.\n"
     ]
    },
    {
     "name": "stdout",
     "output_type": "stream",
     "text": [
      "FluidSynth runtime version 2.3.4\n",
      "Copyright (C) 2000-2023 Peter Hanappe and others.\n",
      "Distributed under the LGPL license.\n",
      "SoundFont(R) is a registered trademark of Creative Technology Ltd.\n",
      "\n",
      "Rendering audio to file './data/wav/Adams, Ernest Harry, Evening Invocation, vsq8voyBe0I_79.mid.wav'..\n",
      ".wav #57 saved!\n"
     ]
    },
    {
     "name": "stderr",
     "output_type": "stream",
     "text": [
      "fluidsynth: warning: End of the MIDI file reached, but not all notes have received a note off event! OFFing them now! Run with --verbose to spot pending voices.\n"
     ]
    },
    {
     "name": "stdout",
     "output_type": "stream",
     "text": [
      "FluidSynth runtime version 2.3.4\n",
      "Copyright (C) 2000-2023 Peter Hanappe and others.\n",
      "Distributed under the LGPL license.\n",
      "SoundFont(R) is a registered trademark of Creative Technology Ltd.\n",
      "\n",
      "Rendering audio to file './data/wav/Adams, Ernest Harry, Evening Invocation, vsq8voyBe0I_86.mid.wav'..\n",
      ".wav #58 saved!\n"
     ]
    },
    {
     "name": "stderr",
     "output_type": "stream",
     "text": [
      "fluidsynth: warning: End of the MIDI file reached, but not all notes have received a note off event! OFFing them now! Run with --verbose to spot pending voices.\n"
     ]
    },
    {
     "name": "stdout",
     "output_type": "stream",
     "text": [
      "FluidSynth runtime version 2.3.4\n",
      "Copyright (C) 2000-2023 Peter Hanappe and others.\n",
      "Distributed under the LGPL license.\n",
      "SoundFont(R) is a registered trademark of Creative Technology Ltd.\n",
      "\n",
      "Rendering audio to file './data/wav/Adams, Ernest Harry, Evening Invocation, vsq8voyBe0I_92.mid.wav'..\n",
      ".wav #59 saved!\n"
     ]
    },
    {
     "name": "stderr",
     "output_type": "stream",
     "text": [
      "fluidsynth: warning: End of the MIDI file reached, but not all notes have received a note off event! OFFing them now! Run with --verbose to spot pending voices.\n"
     ]
    },
    {
     "name": "stdout",
     "output_type": "stream",
     "text": [
      "FluidSynth runtime version 2.3.4\n",
      "Copyright (C) 2000-2023 Peter Hanappe and others.\n",
      "Distributed under the LGPL license.\n",
      "SoundFont(R) is a registered trademark of Creative Technology Ltd.\n",
      "\n",
      "Rendering audio to file './data/wav/Adams, Ernest Harry, Evening Invocation, vsq8voyBe0I_93.mid.wav'..\n",
      ".wav #60 saved!\n"
     ]
    },
    {
     "name": "stderr",
     "output_type": "stream",
     "text": [
      "fluidsynth: warning: End of the MIDI file reached, but not all notes have received a note off event! OFFing them now! Run with --verbose to spot pending voices.\n"
     ]
    },
    {
     "name": "stdout",
     "output_type": "stream",
     "text": [
      "FluidSynth runtime version 2.3.4\n",
      "Copyright (C) 2000-2023 Peter Hanappe and others.\n",
      "Distributed under the LGPL license.\n",
      "SoundFont(R) is a registered trademark of Creative Technology Ltd.\n",
      "\n",
      "Rendering audio to file './data/wav/Adams, Ernest Harry, Evening Invocation, vsq8voyBe0I_87.mid.wav'..\n",
      ".wav #61 saved!\n"
     ]
    },
    {
     "name": "stderr",
     "output_type": "stream",
     "text": [
      "fluidsynth: warning: End of the MIDI file reached, but not all notes have received a note off event! OFFing them now! Run with --verbose to spot pending voices.\n"
     ]
    },
    {
     "name": "stdout",
     "output_type": "stream",
     "text": [
      "FluidSynth runtime version 2.3.4\n",
      "Copyright (C) 2000-2023 Peter Hanappe and others.\n",
      "Distributed under the LGPL license.\n",
      "SoundFont(R) is a registered trademark of Creative Technology Ltd.\n",
      "\n",
      "Rendering audio to file './data/wav/Adams, Ernest Harry, Evening Invocation, vsq8voyBe0I_78.mid.wav'..\n",
      ".wav #62 saved!\n"
     ]
    },
    {
     "name": "stderr",
     "output_type": "stream",
     "text": [
      "fluidsynth: warning: End of the MIDI file reached, but not all notes have received a note off event! OFFing them now! Run with --verbose to spot pending voices.\n"
     ]
    },
    {
     "name": "stdout",
     "output_type": "stream",
     "text": [
      "FluidSynth runtime version 2.3.4\n",
      "Copyright (C) 2000-2023 Peter Hanappe and others.\n",
      "Distributed under the LGPL license.\n",
      "SoundFont(R) is a registered trademark of Creative Technology Ltd.\n",
      "\n",
      "Rendering audio to file './data/wav/Adams, Ernest Harry, Evening Invocation, vsq8voyBe0I_50.mid.wav'..\n",
      ".wav #63 saved!\n"
     ]
    },
    {
     "name": "stderr",
     "output_type": "stream",
     "text": [
      "fluidsynth: warning: End of the MIDI file reached, but not all notes have received a note off event! OFFing them now! Run with --verbose to spot pending voices.\n"
     ]
    },
    {
     "name": "stdout",
     "output_type": "stream",
     "text": [
      "FluidSynth runtime version 2.3.4\n",
      "Copyright (C) 2000-2023 Peter Hanappe and others.\n",
      "Distributed under the LGPL license.\n",
      "SoundFont(R) is a registered trademark of Creative Technology Ltd.\n",
      "\n",
      "Rendering audio to file './data/wav/Adams, Ernest Harry, Evening Invocation, vsq8voyBe0I_44.mid.wav'..\n",
      ".wav #64 saved!\n"
     ]
    },
    {
     "name": "stderr",
     "output_type": "stream",
     "text": [
      "fluidsynth: warning: End of the MIDI file reached, but not all notes have received a note off event! OFFing them now! Run with --verbose to spot pending voices.\n"
     ]
    },
    {
     "name": "stdout",
     "output_type": "stream",
     "text": [
      "FluidSynth runtime version 2.3.4\n",
      "Copyright (C) 2000-2023 Peter Hanappe and others.\n",
      "Distributed under the LGPL license.\n",
      "SoundFont(R) is a registered trademark of Creative Technology Ltd.\n",
      "\n",
      "Rendering audio to file './data/wav/Adams, Ernest Harry, Evening Invocation, vsq8voyBe0I_9.mid.wav'..\n",
      ".wav #65 saved!\n"
     ]
    },
    {
     "name": "stderr",
     "output_type": "stream",
     "text": [
      "fluidsynth: warning: End of the MIDI file reached, but not all notes have received a note off event! OFFing them now! Run with --verbose to spot pending voices.\n"
     ]
    },
    {
     "name": "stdout",
     "output_type": "stream",
     "text": [
      "FluidSynth runtime version 2.3.4\n",
      "Copyright (C) 2000-2023 Peter Hanappe and others.\n",
      "Distributed under the LGPL license.\n",
      "SoundFont(R) is a registered trademark of Creative Technology Ltd.\n",
      "\n",
      "Rendering audio to file './data/wav/Adams, Ernest Harry, Evening Invocation, vsq8voyBe0I_4.mid.wav'..\n",
      ".wav #66 saved!\n"
     ]
    },
    {
     "name": "stderr",
     "output_type": "stream",
     "text": [
      "fluidsynth: warning: End of the MIDI file reached, but not all notes have received a note off event! OFFing them now! Run with --verbose to spot pending voices.\n"
     ]
    },
    {
     "name": "stdout",
     "output_type": "stream",
     "text": [
      "FluidSynth runtime version 2.3.4\n",
      "Copyright (C) 2000-2023 Peter Hanappe and others.\n",
      "Distributed under the LGPL license.\n",
      "SoundFont(R) is a registered trademark of Creative Technology Ltd.\n",
      "\n",
      "Rendering audio to file './data/wav/Adams, Ernest Harry, Evening Invocation, vsq8voyBe0I_49.mid.wav'..\n",
      ".wav #67 saved!\n"
     ]
    },
    {
     "name": "stderr",
     "output_type": "stream",
     "text": [
      "fluidsynth: warning: End of the MIDI file reached, but not all notes have received a note off event! OFFing them now! Run with --verbose to spot pending voices.\n"
     ]
    },
    {
     "name": "stdout",
     "output_type": "stream",
     "text": [
      "FluidSynth runtime version 2.3.4\n",
      "Copyright (C) 2000-2023 Peter Hanappe and others.\n",
      "Distributed under the LGPL license.\n",
      "SoundFont(R) is a registered trademark of Creative Technology Ltd.\n",
      "\n",
      "Rendering audio to file './data/wav/Adams, Ernest Harry, Evening Invocation, vsq8voyBe0I_61.mid.wav'..\n",
      ".wav #68 saved!\n"
     ]
    },
    {
     "name": "stderr",
     "output_type": "stream",
     "text": [
      "fluidsynth: warning: End of the MIDI file reached, but not all notes have received a note off event! OFFing them now! Run with --verbose to spot pending voices.\n"
     ]
    },
    {
     "name": "stdout",
     "output_type": "stream",
     "text": [
      "FluidSynth runtime version 2.3.4\n",
      "Copyright (C) 2000-2023 Peter Hanappe and others.\n",
      "Distributed under the LGPL license.\n",
      "SoundFont(R) is a registered trademark of Creative Technology Ltd.\n",
      "\n",
      "Rendering audio to file './data/wav/Adams, Ernest Harry, Evening Invocation, vsq8voyBe0I_75.mid.wav'..\n",
      ".wav #69 saved!\n"
     ]
    },
    {
     "name": "stderr",
     "output_type": "stream",
     "text": [
      "fluidsynth: warning: End of the MIDI file reached, but not all notes have received a note off event! OFFing them now! Run with --verbose to spot pending voices.\n"
     ]
    },
    {
     "name": "stdout",
     "output_type": "stream",
     "text": [
      "FluidSynth runtime version 2.3.4\n",
      "Copyright (C) 2000-2023 Peter Hanappe and others.\n",
      "Distributed under the LGPL license.\n",
      "SoundFont(R) is a registered trademark of Creative Technology Ltd.\n",
      "\n",
      "Rendering audio to file './data/wav/Adams, Ernest Harry, Evening Invocation, vsq8voyBe0I_74.mid.wav'..\n",
      ".wav #70 saved!\n"
     ]
    },
    {
     "name": "stderr",
     "output_type": "stream",
     "text": [
      "fluidsynth: warning: End of the MIDI file reached, but not all notes have received a note off event! OFFing them now! Run with --verbose to spot pending voices.\n"
     ]
    },
    {
     "name": "stdout",
     "output_type": "stream",
     "text": [
      "FluidSynth runtime version 2.3.4\n",
      "Copyright (C) 2000-2023 Peter Hanappe and others.\n",
      "Distributed under the LGPL license.\n",
      "SoundFont(R) is a registered trademark of Creative Technology Ltd.\n",
      "\n",
      "Rendering audio to file './data/wav/Adams, Ernest Harry, Evening Invocation, vsq8voyBe0I_60.mid.wav'..\n",
      ".wav #71 saved!\n"
     ]
    },
    {
     "name": "stderr",
     "output_type": "stream",
     "text": [
      "fluidsynth: warning: End of the MIDI file reached, but not all notes have received a note off event! OFFing them now! Run with --verbose to spot pending voices.\n"
     ]
    },
    {
     "name": "stdout",
     "output_type": "stream",
     "text": [
      "FluidSynth runtime version 2.3.4\n",
      "Copyright (C) 2000-2023 Peter Hanappe and others.\n",
      "Distributed under the LGPL license.\n",
      "SoundFont(R) is a registered trademark of Creative Technology Ltd.\n",
      "\n",
      "Rendering audio to file './data/wav/Adams, Ernest Harry, Evening Invocation, vsq8voyBe0I_48.mid.wav'..\n",
      ".wav #72 saved!\n"
     ]
    },
    {
     "name": "stderr",
     "output_type": "stream",
     "text": [
      "fluidsynth: warning: End of the MIDI file reached, but not all notes have received a note off event! OFFing them now! Run with --verbose to spot pending voices.\n"
     ]
    },
    {
     "name": "stdout",
     "output_type": "stream",
     "text": [
      "FluidSynth runtime version 2.3.4\n",
      "Copyright (C) 2000-2023 Peter Hanappe and others.\n",
      "Distributed under the LGPL license.\n",
      "SoundFont(R) is a registered trademark of Creative Technology Ltd.\n",
      "\n",
      "Rendering audio to file './data/wav/Adams, Ernest Harry, Evening Invocation, vsq8voyBe0I_5.mid.wav'..\n",
      ".wav #73 saved!\n"
     ]
    },
    {
     "name": "stderr",
     "output_type": "stream",
     "text": [
      "fluidsynth: warning: End of the MIDI file reached, but not all notes have received a note off event! OFFing them now! Run with --verbose to spot pending voices.\n"
     ]
    },
    {
     "name": "stdout",
     "output_type": "stream",
     "text": [
      "FluidSynth runtime version 2.3.4\n",
      "Copyright (C) 2000-2023 Peter Hanappe and others.\n",
      "Distributed under the LGPL license.\n",
      "SoundFont(R) is a registered trademark of Creative Technology Ltd.\n",
      "\n",
      "Rendering audio to file './data/wav/Adams, Ernest Harry, Evening Invocation, vsq8voyBe0I_7.mid.wav'..\n",
      ".wav #74 saved!\n"
     ]
    },
    {
     "name": "stderr",
     "output_type": "stream",
     "text": [
      "fluidsynth: warning: End of the MIDI file reached, but not all notes have received a note off event! OFFing them now! Run with --verbose to spot pending voices.\n"
     ]
    },
    {
     "name": "stdout",
     "output_type": "stream",
     "text": [
      "FluidSynth runtime version 2.3.4\n",
      "Copyright (C) 2000-2023 Peter Hanappe and others.\n",
      "Distributed under the LGPL license.\n",
      "SoundFont(R) is a registered trademark of Creative Technology Ltd.\n",
      "\n",
      "Rendering audio to file './data/wav/Adams, Ernest Harry, Evening Invocation, vsq8voyBe0I_76.mid.wav'..\n",
      ".wav #75 saved!\n"
     ]
    },
    {
     "name": "stderr",
     "output_type": "stream",
     "text": [
      "fluidsynth: warning: End of the MIDI file reached, but not all notes have received a note off event! OFFing them now! Run with --verbose to spot pending voices.\n"
     ]
    },
    {
     "name": "stdout",
     "output_type": "stream",
     "text": [
      "FluidSynth runtime version 2.3.4\n",
      "Copyright (C) 2000-2023 Peter Hanappe and others.\n",
      "Distributed under the LGPL license.\n",
      "SoundFont(R) is a registered trademark of Creative Technology Ltd.\n",
      "\n",
      "Rendering audio to file './data/wav/Adams, Ernest Harry, Evening Invocation, vsq8voyBe0I_62.mid.wav'..\n",
      ".wav #76 saved!\n"
     ]
    },
    {
     "name": "stderr",
     "output_type": "stream",
     "text": [
      "fluidsynth: warning: End of the MIDI file reached, but not all notes have received a note off event! OFFing them now! Run with --verbose to spot pending voices.\n"
     ]
    },
    {
     "name": "stdout",
     "output_type": "stream",
     "text": [
      "FluidSynth runtime version 2.3.4\n",
      "Copyright (C) 2000-2023 Peter Hanappe and others.\n",
      "Distributed under the LGPL license.\n",
      "SoundFont(R) is a registered trademark of Creative Technology Ltd.\n",
      "\n",
      "Rendering audio to file './data/wav/Adams, Ernest Harry, Evening Invocation, vsq8voyBe0I_89.mid.wav'..\n",
      ".wav #77 saved!\n"
     ]
    },
    {
     "name": "stderr",
     "output_type": "stream",
     "text": [
      "fluidsynth: warning: End of the MIDI file reached, but not all notes have received a note off event! OFFing them now! Run with --verbose to spot pending voices.\n"
     ]
    },
    {
     "name": "stdout",
     "output_type": "stream",
     "text": [
      "FluidSynth runtime version 2.3.4\n",
      "Copyright (C) 2000-2023 Peter Hanappe and others.\n",
      "Distributed under the LGPL license.\n",
      "SoundFont(R) is a registered trademark of Creative Technology Ltd.\n",
      "\n",
      "Rendering audio to file './data/wav/Adams, Ernest Harry, Evening Invocation, vsq8voyBe0I_88.mid.wav'..\n",
      ".wav #78 saved!\n"
     ]
    },
    {
     "name": "stderr",
     "output_type": "stream",
     "text": [
      "fluidsynth: warning: End of the MIDI file reached, but not all notes have received a note off event! OFFing them now! Run with --verbose to spot pending voices.\n"
     ]
    },
    {
     "name": "stdout",
     "output_type": "stream",
     "text": [
      "FluidSynth runtime version 2.3.4\n",
      "Copyright (C) 2000-2023 Peter Hanappe and others.\n",
      "Distributed under the LGPL license.\n",
      "SoundFont(R) is a registered trademark of Creative Technology Ltd.\n",
      "\n",
      "Rendering audio to file './data/wav/Adams, Ernest Harry, Evening Invocation, vsq8voyBe0I_63.mid.wav'..\n",
      ".wav #79 saved!\n"
     ]
    },
    {
     "name": "stderr",
     "output_type": "stream",
     "text": [
      "fluidsynth: warning: End of the MIDI file reached, but not all notes have received a note off event! OFFing them now! Run with --verbose to spot pending voices.\n"
     ]
    },
    {
     "name": "stdout",
     "output_type": "stream",
     "text": [
      "FluidSynth runtime version 2.3.4\n",
      "Copyright (C) 2000-2023 Peter Hanappe and others.\n",
      "Distributed under the LGPL license.\n",
      "SoundFont(R) is a registered trademark of Creative Technology Ltd.\n",
      "\n",
      "Rendering audio to file './data/wav/Adams, Ernest Harry, Evening Invocation, vsq8voyBe0I_77.mid.wav'..\n",
      ".wav #80 saved!\n"
     ]
    },
    {
     "name": "stderr",
     "output_type": "stream",
     "text": [
      "fluidsynth: warning: End of the MIDI file reached, but not all notes have received a note off event! OFFing them now! Run with --verbose to spot pending voices.\n"
     ]
    },
    {
     "name": "stdout",
     "output_type": "stream",
     "text": [
      "FluidSynth runtime version 2.3.4\n",
      "Copyright (C) 2000-2023 Peter Hanappe and others.\n",
      "Distributed under the LGPL license.\n",
      "SoundFont(R) is a registered trademark of Creative Technology Ltd.\n",
      "\n",
      "Rendering audio to file './data/wav/Adams, Ernest Harry, Evening Invocation, vsq8voyBe0I_6.mid.wav'..\n",
      ".wav #81 saved!\n"
     ]
    },
    {
     "name": "stderr",
     "output_type": "stream",
     "text": [
      "fluidsynth: warning: End of the MIDI file reached, but not all notes have received a note off event! OFFing them now! Run with --verbose to spot pending voices.\n"
     ]
    },
    {
     "name": "stdout",
     "output_type": "stream",
     "text": [
      "FluidSynth runtime version 2.3.4\n",
      "Copyright (C) 2000-2023 Peter Hanappe and others.\n",
      "Distributed under the LGPL license.\n",
      "SoundFont(R) is a registered trademark of Creative Technology Ltd.\n",
      "\n",
      "Rendering audio to file './data/wav/Adams, Ernest Harry, Evening Invocation, vsq8voyBe0I_2.mid.wav'..\n",
      ".wav #82 saved!\n"
     ]
    },
    {
     "name": "stderr",
     "output_type": "stream",
     "text": [
      "fluidsynth: warning: End of the MIDI file reached, but not all notes have received a note off event! OFFing them now! Run with --verbose to spot pending voices.\n"
     ]
    },
    {
     "name": "stdout",
     "output_type": "stream",
     "text": [
      "FluidSynth runtime version 2.3.4\n",
      "Copyright (C) 2000-2023 Peter Hanappe and others.\n",
      "Distributed under the LGPL license.\n",
      "SoundFont(R) is a registered trademark of Creative Technology Ltd.\n",
      "\n",
      "Rendering audio to file './data/wav/Adams, Ernest Harry, Evening Invocation, vsq8voyBe0I_73.mid.wav'..\n",
      ".wav #83 saved!\n"
     ]
    },
    {
     "name": "stderr",
     "output_type": "stream",
     "text": [
      "fluidsynth: warning: End of the MIDI file reached, but not all notes have received a note off event! OFFing them now! Run with --verbose to spot pending voices.\n"
     ]
    },
    {
     "name": "stdout",
     "output_type": "stream",
     "text": [
      "FluidSynth runtime version 2.3.4\n",
      "Copyright (C) 2000-2023 Peter Hanappe and others.\n",
      "Distributed under the LGPL license.\n",
      "SoundFont(R) is a registered trademark of Creative Technology Ltd.\n",
      "\n",
      "Rendering audio to file './data/wav/Adams, Ernest Harry, Evening Invocation, vsq8voyBe0I_67.mid.wav'..\n",
      ".wav #84 saved!\n"
     ]
    },
    {
     "name": "stderr",
     "output_type": "stream",
     "text": [
      "fluidsynth: warning: End of the MIDI file reached, but not all notes have received a note off event! OFFing them now! Run with --verbose to spot pending voices.\n"
     ]
    },
    {
     "name": "stdout",
     "output_type": "stream",
     "text": [
      "FluidSynth runtime version 2.3.4\n",
      "Copyright (C) 2000-2023 Peter Hanappe and others.\n",
      "Distributed under the LGPL license.\n",
      "SoundFont(R) is a registered trademark of Creative Technology Ltd.\n",
      "\n",
      "Rendering audio to file './data/wav/Adams, Ernest Harry, Evening Invocation, vsq8voyBe0I_98.mid.wav'..\n",
      ".wav #85 saved!\n"
     ]
    },
    {
     "name": "stderr",
     "output_type": "stream",
     "text": [
      "fluidsynth: warning: End of the MIDI file reached, but not all notes have received a note off event! OFFing them now! Run with --verbose to spot pending voices.\n"
     ]
    },
    {
     "name": "stdout",
     "output_type": "stream",
     "text": [
      "FluidSynth runtime version 2.3.4\n",
      "Copyright (C) 2000-2023 Peter Hanappe and others.\n",
      "Distributed under the LGPL license.\n",
      "SoundFont(R) is a registered trademark of Creative Technology Ltd.\n",
      "\n",
      "Rendering audio to file './data/wav/Adams, Ernest Harry, Evening Invocation, vsq8voyBe0I_99.mid.wav'..\n",
      ".wav #86 saved!\n"
     ]
    },
    {
     "name": "stderr",
     "output_type": "stream",
     "text": [
      "fluidsynth: warning: End of the MIDI file reached, but not all notes have received a note off event! OFFing them now! Run with --verbose to spot pending voices.\n"
     ]
    },
    {
     "name": "stdout",
     "output_type": "stream",
     "text": [
      "FluidSynth runtime version 2.3.4\n",
      "Copyright (C) 2000-2023 Peter Hanappe and others.\n",
      "Distributed under the LGPL license.\n",
      "SoundFont(R) is a registered trademark of Creative Technology Ltd.\n",
      "\n",
      "Rendering audio to file './data/wav/Adams, Ernest Harry, Evening Invocation, vsq8voyBe0I_66.mid.wav'..\n",
      ".wav #87 saved!\n"
     ]
    },
    {
     "name": "stderr",
     "output_type": "stream",
     "text": [
      "fluidsynth: warning: End of the MIDI file reached, but not all notes have received a note off event! OFFing them now! Run with --verbose to spot pending voices.\n"
     ]
    },
    {
     "name": "stdout",
     "output_type": "stream",
     "text": [
      "FluidSynth runtime version 2.3.4\n",
      "Copyright (C) 2000-2023 Peter Hanappe and others.\n",
      "Distributed under the LGPL license.\n",
      "SoundFont(R) is a registered trademark of Creative Technology Ltd.\n",
      "\n",
      "Rendering audio to file './data/wav/Adams, Ernest Harry, Evening Invocation, vsq8voyBe0I_72.mid.wav'..\n",
      ".wav #88 saved!\n"
     ]
    },
    {
     "name": "stderr",
     "output_type": "stream",
     "text": [
      "fluidsynth: warning: End of the MIDI file reached, but not all notes have received a note off event! OFFing them now! Run with --verbose to spot pending voices.\n"
     ]
    },
    {
     "name": "stdout",
     "output_type": "stream",
     "text": [
      "FluidSynth runtime version 2.3.4\n",
      "Copyright (C) 2000-2023 Peter Hanappe and others.\n",
      "Distributed under the LGPL license.\n",
      "SoundFont(R) is a registered trademark of Creative Technology Ltd.\n",
      "\n",
      "Rendering audio to file './data/wav/Adams, Ernest Harry, Evening Invocation, vsq8voyBe0I_3.mid.wav'..\n",
      ".wav #89 saved!\n",
      "FluidSynth runtime version 2.3.4\n",
      "Copyright (C) 2000-2023 Peter Hanappe and others.\n",
      "Distributed under the LGPL license.\n",
      "SoundFont(R) is a registered trademark of Creative Technology Ltd.\n",
      "\n",
      "Rendering audio to file './data/wav/Adams, Ernest Harry, Evening Invocation, vsq8voyBe0I_1.mid.wav'..\n",
      ".wav #90 saved!\n"
     ]
    },
    {
     "name": "stderr",
     "output_type": "stream",
     "text": [
      "fluidsynth: warning: End of the MIDI file reached, but not all notes have received a note off event! OFFing them now! Run with --verbose to spot pending voices.\n"
     ]
    },
    {
     "name": "stdout",
     "output_type": "stream",
     "text": [
      "FluidSynth runtime version 2.3.4\n",
      "Copyright (C) 2000-2023 Peter Hanappe and others.\n",
      "Distributed under the LGPL license.\n",
      "SoundFont(R) is a registered trademark of Creative Technology Ltd.\n",
      "\n",
      "Rendering audio to file './data/wav/Adams, Ernest Harry, Evening Invocation, vsq8voyBe0I_64.mid.wav'..\n",
      ".wav #91 saved!\n"
     ]
    },
    {
     "name": "stderr",
     "output_type": "stream",
     "text": [
      "fluidsynth: warning: End of the MIDI file reached, but not all notes have received a note off event! OFFing them now! Run with --verbose to spot pending voices.\n"
     ]
    },
    {
     "name": "stdout",
     "output_type": "stream",
     "text": [
      "FluidSynth runtime version 2.3.4\n",
      "Copyright (C) 2000-2023 Peter Hanappe and others.\n",
      "Distributed under the LGPL license.\n",
      "SoundFont(R) is a registered trademark of Creative Technology Ltd.\n",
      "\n",
      "Rendering audio to file './data/wav/Adams, Ernest Harry, Evening Invocation, vsq8voyBe0I_70.mid.wav'..\n",
      ".wav #92 saved!\n"
     ]
    },
    {
     "name": "stderr",
     "output_type": "stream",
     "text": [
      "fluidsynth: warning: End of the MIDI file reached, but not all notes have received a note off event! OFFing them now! Run with --verbose to spot pending voices.\n"
     ]
    },
    {
     "name": "stdout",
     "output_type": "stream",
     "text": [
      "FluidSynth runtime version 2.3.4\n",
      "Copyright (C) 2000-2023 Peter Hanappe and others.\n",
      "Distributed under the LGPL license.\n",
      "SoundFont(R) is a registered trademark of Creative Technology Ltd.\n",
      "\n",
      "Rendering audio to file './data/wav/Adams, Ernest Harry, Evening Invocation, vsq8voyBe0I_58.mid.wav'..\n",
      ".wav #93 saved!\n"
     ]
    },
    {
     "name": "stderr",
     "output_type": "stream",
     "text": [
      "fluidsynth: warning: End of the MIDI file reached, but not all notes have received a note off event! OFFing them now! Run with --verbose to spot pending voices.\n"
     ]
    },
    {
     "name": "stdout",
     "output_type": "stream",
     "text": [
      "FluidSynth runtime version 2.3.4\n",
      "Copyright (C) 2000-2023 Peter Hanappe and others.\n",
      "Distributed under the LGPL license.\n",
      "SoundFont(R) is a registered trademark of Creative Technology Ltd.\n",
      "\n",
      "Rendering audio to file './data/wav/Adams, Ernest Harry, Evening Invocation, vsq8voyBe0I_59.mid.wav'..\n",
      ".wav #94 saved!\n"
     ]
    },
    {
     "name": "stderr",
     "output_type": "stream",
     "text": [
      "fluidsynth: warning: End of the MIDI file reached, but not all notes have received a note off event! OFFing them now! Run with --verbose to spot pending voices.\n"
     ]
    },
    {
     "name": "stdout",
     "output_type": "stream",
     "text": [
      "FluidSynth runtime version 2.3.4\n",
      "Copyright (C) 2000-2023 Peter Hanappe and others.\n",
      "Distributed under the LGPL license.\n",
      "SoundFont(R) is a registered trademark of Creative Technology Ltd.\n",
      "\n",
      "Rendering audio to file './data/wav/Adams, Ernest Harry, Evening Invocation, vsq8voyBe0I_71.mid.wav'..\n",
      ".wav #95 saved!\n"
     ]
    },
    {
     "name": "stderr",
     "output_type": "stream",
     "text": [
      "fluidsynth: warning: End of the MIDI file reached, but not all notes have received a note off event! OFFing them now! Run with --verbose to spot pending voices.\n"
     ]
    },
    {
     "name": "stdout",
     "output_type": "stream",
     "text": [
      "FluidSynth runtime version 2.3.4\n",
      "Copyright (C) 2000-2023 Peter Hanappe and others.\n",
      "Distributed under the LGPL license.\n",
      "SoundFont(R) is a registered trademark of Creative Technology Ltd.\n",
      "\n",
      "Rendering audio to file './data/wav/Adams, Ernest Harry, Evening Invocation, vsq8voyBe0I_65.mid.wav'..\n",
      ".wav #96 saved!\n",
      "FluidSynth runtime version 2.3.4\n",
      "Copyright (C) 2000-2023 Peter Hanappe and others.\n",
      "Distributed under the LGPL license.\n",
      "SoundFont(R) is a registered trademark of Creative Technology Ltd.\n",
      "\n",
      "Rendering audio to file './data/wav/Adams, Ernest Harry, Evening Invocation, vsq8voyBe0I_0.mid.wav'..\n",
      ".wav #97 saved!\n"
     ]
    },
    {
     "name": "stderr",
     "output_type": "stream",
     "text": [
      "fluidsynth: warning: End of the MIDI file reached, but not all notes have received a note off event! OFFing them now! Run with --verbose to spot pending voices.\n"
     ]
    },
    {
     "name": "stdout",
     "output_type": "stream",
     "text": [
      "FluidSynth runtime version 2.3.4\n",
      "Copyright (C) 2000-2023 Peter Hanappe and others.\n",
      "Distributed under the LGPL license.\n",
      "SoundFont(R) is a registered trademark of Creative Technology Ltd.\n",
      "\n",
      "Rendering audio to file './data/wav/Adams, Ernest Harry, Evening Invocation, vsq8voyBe0I_113.mid.wav'..\n",
      ".wav #98 saved!\n"
     ]
    },
    {
     "name": "stderr",
     "output_type": "stream",
     "text": [
      "fluidsynth: warning: End of the MIDI file reached, but not all notes have received a note off event! OFFing them now! Run with --verbose to spot pending voices.\n"
     ]
    },
    {
     "name": "stdout",
     "output_type": "stream",
     "text": [
      "FluidSynth runtime version 2.3.4\n",
      "Copyright (C) 2000-2023 Peter Hanappe and others.\n",
      "Distributed under the LGPL license.\n",
      "SoundFont(R) is a registered trademark of Creative Technology Ltd.\n",
      "\n",
      "Rendering audio to file './data/wav/Adams, Ernest Harry, Evening Invocation, vsq8voyBe0I_107.mid.wav'..\n",
      ".wav #99 saved!\n",
      "FluidSynth runtime version 2.3.4\n",
      "Copyright (C) 2000-2023 Peter Hanappe and others.\n",
      "Distributed under the LGPL license.\n",
      "SoundFont(R) is a registered trademark of Creative Technology Ltd.\n",
      "\n",
      "Rendering audio to file './data/wav/Adams, Ernest Harry, Evening Invocation, vsq8voyBe0I_16.mid.wav'..\n",
      ".wav #100 saved!\n"
     ]
    },
    {
     "name": "stderr",
     "output_type": "stream",
     "text": [
      "fluidsynth: warning: End of the MIDI file reached, but not all notes have received a note off event! OFFing them now! Run with --verbose to spot pending voices.\n"
     ]
    }
   ],
   "source": [
    "wav_name_list=convert_midi_to_wav(data_size=data_size)"
   ]
  },
  {
   "cell_type": "code",
   "execution_count": 16,
   "id": "eff6c72a-d19d-4d3d-9885-f6fbf4427785",
   "metadata": {},
   "outputs": [],
   "source": [
    "spect_name_list = from_audio_to_spectograms()"
   ]
  },
  {
   "cell_type": "code",
   "execution_count": 17,
   "id": "6ebde776-749c-486f-842e-d4915fe609a0",
   "metadata": {},
   "outputs": [],
   "source": [
    "img_size=(49*3,145*3)"
   ]
  },
  {
   "cell_type": "code",
   "execution_count": 18,
   "id": "0ec794d8",
   "metadata": {},
   "outputs": [
    {
     "data": {
      "text/plain": [
       "(99, 147, 435, 3)"
      ]
     },
     "execution_count": 18,
     "metadata": {},
     "output_type": "execute_result"
    }
   ],
   "source": [
    "X_normalized = from_img_to_array(img_size=img_size)\n",
    "X_normalized.shape"
   ]
  },
  {
   "cell_type": "code",
   "execution_count": 19,
   "id": "c4749afb-a0c0-4972-8299-49cc48b890d7",
   "metadata": {},
   "outputs": [],
   "source": [
    "wav_name_list2 = [name for name in wav_name_list if name[-4:]==\".mid\"]"
   ]
  },
  {
   "cell_type": "code",
   "execution_count": 20,
   "id": "f0c13e34",
   "metadata": {},
   "outputs": [
    {
     "data": {
      "text/plain": [
       "(99, 128)"
      ]
     },
     "execution_count": 20,
     "metadata": {},
     "output_type": "execute_result"
    }
   ],
   "source": [
    "y_encoded = midi_to_oh_arrays(wav_name_list2)\n",
    "y_encoded.shape"
   ]
  },
  {
   "cell_type": "code",
   "execution_count": 21,
   "id": "99774ba8-f592-46e5-bc2b-03b3a1bc6598",
   "metadata": {},
   "outputs": [],
   "source": [
    "X_train, X_test, y_train, y_test = train_test_split(X_normalized, y_encoded, test_size=0.2, random_state=42)"
   ]
  },
  {
   "cell_type": "markdown",
   "id": "e2277695-2b0c-49bd-8068-f20193f7216d",
   "metadata": {},
   "source": [
    "<u>Model creation and training</u>"
   ]
  },
  {
   "cell_type": "code",
   "execution_count": 22,
   "id": "07c21245-2d4a-46f6-964e-3da9820a8a86",
   "metadata": {},
   "outputs": [],
   "source": [
    "epochs = 100\n",
    "batch_size = 64\n",
    "learning_rate = .000001"
   ]
  },
  {
   "cell_type": "code",
   "execution_count": 23,
   "id": "a44aef13",
   "metadata": {},
   "outputs": [],
   "source": [
    "# Previous model\n",
    "\n",
    "#model = Sequential()\n",
    "#model.add(Conv2D(64, kernel_size=(5,5), strides=(1,1),activation='tanh',input_shape=(img_size[0], img_size[1], 3)))\n",
    "#model.add(MaxPooling2D(pool_size=(2,2), strides=(2,2)))\n",
    "#model.add(Conv2D(32, (3,3), activation='tanh'))\n",
    "#model.add(MaxPooling2D(pool_size=(2,2)))\n",
    "#model.add(Flatten())\n",
    "#model.add(Dense(128, activation='softmax'))\n",
    "\n",
    "# New model\n",
    "\n",
    "model = Sequential()\n",
    "model.add(Conv2D(32, kernel_size=(5,5), strides=(1,1),activation='tanh',input_shape=(img_size[0], img_size[1], 3)))\n",
    "#model.add(Dropout(0.5))@\n",
    "model.add(MaxPooling2D(pool_size=(2,2), strides=(2,2)))\n",
    "model.add(Conv2D(64, (3,3), activation='tanh'))\n",
    "#model.add(Dropout(0.5))\n",
    "model.add(MaxPooling2D(pool_size=(2,2)))\n",
    "model.add(Flatten())\n",
    "model.add(Dense(128, activation='sigmoid'))"
   ]
  },
  {
   "cell_type": "code",
   "execution_count": 29,
   "id": "c5907d93-7d91-47a8-9852-d10c08bed95e",
   "metadata": {},
   "outputs": [],
   "source": [
    "import tensorflow as tf"
   ]
  },
  {
   "cell_type": "code",
   "execution_count": 31,
   "id": "f79a8273-21ab-4c77-b61b-d22ea92143d4",
   "metadata": {},
   "outputs": [],
   "source": [
    "initial_learning_rate = 0.001\n",
    "lr_schedule = tf.keras.optimizers.schedules.ExponentialDecay(initial_learning_rate,decay_steps=10000,decay_rate=0.96,staircase=True)\n",
    "optimizer = tf.keras.optimizers.Adam(learning_rate=lr_schedule)"
   ]
  },
  {
   "cell_type": "code",
   "execution_count": 32,
   "id": "9dc75e31",
   "metadata": {},
   "outputs": [],
   "source": [
    "#model.compile(loss=keras.losses.binary_crossentropy,optimizer=keras.optimizers.Adam(learning_rate=learning_rate),metrics=['accuracy'])\n",
    "model.compile(loss=keras.losses.binary_crossentropy,optimizer=optimizer,metrics=['accuracy'])"
   ]
  },
  {
   "cell_type": "code",
   "execution_count": 33,
   "id": "b2ea52bc",
   "metadata": {},
   "outputs": [
    {
     "name": "stdout",
     "output_type": "stream",
     "text": [
      "Epoch 1/100\n",
      "2/2 [==============================] - 18s 2s/step - loss: 0.4906 - accuracy: 0.0127\n",
      "Epoch 2/100\n",
      "2/2 [==============================] - 9s 2s/step - loss: 0.5204 - accuracy: 0.0633\n",
      "Epoch 3/100\n",
      "2/2 [==============================] - 6s 1s/step - loss: 0.3150 - accuracy: 0.0886\n",
      "Epoch 4/100\n",
      "2/2 [==============================] - 7s 2s/step - loss: 0.1669 - accuracy: 0.0253\n",
      "Epoch 5/100\n",
      "2/2 [==============================] - 7s 1s/step - loss: 0.1469 - accuracy: 0.0633\n",
      "Epoch 6/100\n",
      "2/2 [==============================] - 7s 1s/step - loss: 0.1011 - accuracy: 0.1266\n",
      "Epoch 7/100\n",
      "2/2 [==============================] - 7s 1s/step - loss: 0.0988 - accuracy: 0.1013\n",
      "Epoch 8/100\n",
      "2/2 [==============================] - 7s 1s/step - loss: 0.0858 - accuracy: 0.1772\n",
      "Epoch 9/100\n",
      "2/2 [==============================] - 6s 1s/step - loss: 0.0754 - accuracy: 0.1266\n",
      "Epoch 10/100\n",
      "2/2 [==============================] - 7s 1s/step - loss: 0.0621 - accuracy: 0.2152\n",
      "Epoch 11/100\n",
      "2/2 [==============================] - 7s 1s/step - loss: 0.0589 - accuracy: 0.1646\n",
      "Epoch 12/100\n",
      "2/2 [==============================] - 7s 1s/step - loss: 0.0561 - accuracy: 0.1519\n",
      "Epoch 13/100\n",
      "2/2 [==============================] - 7s 1s/step - loss: 0.0498 - accuracy: 0.2278\n",
      "Epoch 14/100\n",
      "2/2 [==============================] - 6s 987ms/step - loss: 0.0442 - accuracy: 0.3544\n",
      "Epoch 15/100\n",
      "2/2 [==============================] - 12s 2s/step - loss: 0.0403 - accuracy: 0.3797\n",
      "Epoch 16/100\n",
      "2/2 [==============================] - 10s 2s/step - loss: 0.0364 - accuracy: 0.4304\n",
      "Epoch 17/100\n",
      "2/2 [==============================] - 9s 2s/step - loss: 0.0328 - accuracy: 0.3671\n",
      "Epoch 18/100\n",
      "2/2 [==============================] - 9s 2s/step - loss: 0.0313 - accuracy: 0.4051\n",
      "Epoch 19/100\n",
      "2/2 [==============================] - 8s 1s/step - loss: 0.0283 - accuracy: 0.4684\n",
      "Epoch 20/100\n",
      "2/2 [==============================] - 7s 1s/step - loss: 0.0257 - accuracy: 0.4304\n",
      "Epoch 21/100\n",
      "2/2 [==============================] - 7s 1s/step - loss: 0.0235 - accuracy: 0.4557\n",
      "Epoch 22/100\n",
      "2/2 [==============================] - 7s 1s/step - loss: 0.0227 - accuracy: 0.4177\n",
      "Epoch 23/100\n",
      "2/2 [==============================] - 7s 1s/step - loss: 0.0220 - accuracy: 0.4810\n",
      "Epoch 24/100\n",
      "2/2 [==============================] - 9s 2s/step - loss: 0.0187 - accuracy: 0.4304\n",
      "Epoch 25/100\n",
      "2/2 [==============================] - 8s 2s/step - loss: 0.0172 - accuracy: 0.4430\n",
      "Epoch 26/100\n",
      "2/2 [==============================] - 7s 1s/step - loss: 0.0171 - accuracy: 0.4937\n",
      "Epoch 27/100\n",
      "2/2 [==============================] - 8s 2s/step - loss: 0.0148 - accuracy: 0.4177\n",
      "Epoch 28/100\n",
      "2/2 [==============================] - 8s 2s/step - loss: 0.0134 - accuracy: 0.4430\n",
      "Epoch 29/100\n",
      "2/2 [==============================] - 7s 1s/step - loss: 0.0130 - accuracy: 0.4684\n",
      "Epoch 30/100\n",
      "2/2 [==============================] - 7s 1s/step - loss: 0.0114 - accuracy: 0.4557\n",
      "Epoch 31/100\n",
      "2/2 [==============================] - 7s 1s/step - loss: 0.0108 - accuracy: 0.4177\n",
      "Epoch 32/100\n",
      "2/2 [==============================] - 7s 1s/step - loss: 0.0098 - accuracy: 0.4684\n",
      "Epoch 33/100\n",
      "2/2 [==============================] - 6s 1s/step - loss: 0.0096 - accuracy: 0.4684\n",
      "Epoch 34/100\n",
      "2/2 [==============================] - 7s 1s/step - loss: 0.0088 - accuracy: 0.4177\n",
      "Epoch 35/100\n",
      "2/2 [==============================] - 6s 1s/step - loss: 0.0083 - accuracy: 0.4430\n",
      "Epoch 36/100\n",
      "2/2 [==============================] - 7s 1s/step - loss: 0.0078 - accuracy: 0.4430\n",
      "Epoch 37/100\n",
      "2/2 [==============================] - 6s 1s/step - loss: 0.0075 - accuracy: 0.4304\n",
      "Epoch 38/100\n",
      "2/2 [==============================] - 6s 1s/step - loss: 0.0071 - accuracy: 0.4177\n",
      "Epoch 39/100\n",
      "2/2 [==============================] - 6s 1s/step - loss: 0.0066 - accuracy: 0.4051\n",
      "Epoch 40/100\n",
      "2/2 [==============================] - 6s 1s/step - loss: 0.0061 - accuracy: 0.4177\n",
      "Epoch 41/100\n",
      "2/2 [==============================] - 6s 1s/step - loss: 0.0059 - accuracy: 0.4557\n",
      "Epoch 42/100\n",
      "2/2 [==============================] - 7s 2s/step - loss: 0.0058 - accuracy: 0.4937\n",
      "Epoch 43/100\n",
      "2/2 [==============================] - 8s 1s/step - loss: 0.0054 - accuracy: 0.5063\n",
      "Epoch 44/100\n",
      "2/2 [==============================] - 6s 1s/step - loss: 0.0053 - accuracy: 0.4557\n",
      "Epoch 45/100\n",
      "2/2 [==============================] - 7s 1s/step - loss: 0.0050 - accuracy: 0.4557\n",
      "Epoch 46/100\n",
      "2/2 [==============================] - 6s 1s/step - loss: 0.0047 - accuracy: 0.4177\n",
      "Epoch 47/100\n",
      "2/2 [==============================] - 7s 1s/step - loss: 0.0046 - accuracy: 0.4304\n",
      "Epoch 48/100\n",
      "2/2 [==============================] - 7s 1s/step - loss: 0.0044 - accuracy: 0.4557\n",
      "Epoch 49/100\n",
      "2/2 [==============================] - 7s 1s/step - loss: 0.0042 - accuracy: 0.5316\n",
      "Epoch 50/100\n",
      "2/2 [==============================] - 7s 1s/step - loss: 0.0039 - accuracy: 0.5063\n",
      "Epoch 51/100\n",
      "2/2 [==============================] - 7s 1s/step - loss: 0.0038 - accuracy: 0.4430\n",
      "Epoch 52/100\n",
      "2/2 [==============================] - 6s 1s/step - loss: 0.0037 - accuracy: 0.4177\n",
      "Epoch 53/100\n",
      "2/2 [==============================] - 8s 2s/step - loss: 0.0035 - accuracy: 0.4304\n",
      "Epoch 54/100\n",
      "2/2 [==============================] - 9s 1s/step - loss: 0.0034 - accuracy: 0.4430\n",
      "Epoch 55/100\n",
      "2/2 [==============================] - 7s 1s/step - loss: 0.0034 - accuracy: 0.4430\n",
      "Epoch 56/100\n",
      "2/2 [==============================] - 7s 1s/step - loss: 0.0032 - accuracy: 0.4684\n",
      "Epoch 57/100\n",
      "2/2 [==============================] - 8s 2s/step - loss: 0.0031 - accuracy: 0.4557\n",
      "Epoch 58/100\n",
      "2/2 [==============================] - 7s 1s/step - loss: 0.0030 - accuracy: 0.4937\n",
      "Epoch 59/100\n",
      "2/2 [==============================] - 8s 2s/step - loss: 0.0029 - accuracy: 0.4810\n",
      "Epoch 60/100\n",
      "2/2 [==============================] - 7s 1s/step - loss: 0.0028 - accuracy: 0.4430\n",
      "Epoch 61/100\n",
      "2/2 [==============================] - 6s 1s/step - loss: 0.0028 - accuracy: 0.4430\n",
      "Epoch 62/100\n",
      "2/2 [==============================] - 7s 1s/step - loss: 0.0027 - accuracy: 0.4430\n",
      "Epoch 63/100\n",
      "2/2 [==============================] - 7s 1s/step - loss: 0.0026 - accuracy: 0.4430\n",
      "Epoch 64/100\n",
      "2/2 [==============================] - 7s 1s/step - loss: 0.0025 - accuracy: 0.4430\n",
      "Epoch 65/100\n",
      "2/2 [==============================] - 7s 1s/step - loss: 0.0025 - accuracy: 0.4557\n",
      "Epoch 66/100\n",
      "2/2 [==============================] - 7s 1s/step - loss: 0.0024 - accuracy: 0.4430\n",
      "Epoch 67/100\n",
      "2/2 [==============================] - 7s 1s/step - loss: 0.0024 - accuracy: 0.4684\n",
      "Epoch 68/100\n",
      "2/2 [==============================] - 8s 1s/step - loss: 0.0023 - accuracy: 0.4557\n",
      "Epoch 69/100\n",
      "2/2 [==============================] - 6s 1s/step - loss: 0.0023 - accuracy: 0.4430\n",
      "Epoch 70/100\n",
      "2/2 [==============================] - 6s 1s/step - loss: 0.0022 - accuracy: 0.4304\n",
      "Epoch 71/100\n",
      "2/2 [==============================] - 6s 1s/step - loss: 0.0022 - accuracy: 0.4557\n",
      "Epoch 72/100\n",
      "2/2 [==============================] - 7s 2s/step - loss: 0.0021 - accuracy: 0.4684\n",
      "Epoch 73/100\n",
      "2/2 [==============================] - 7s 1s/step - loss: 0.0021 - accuracy: 0.4557\n",
      "Epoch 74/100\n",
      "2/2 [==============================] - 6s 1s/step - loss: 0.0021 - accuracy: 0.4557\n",
      "Epoch 75/100\n",
      "2/2 [==============================] - 6s 1s/step - loss: 0.0020 - accuracy: 0.4684\n",
      "Epoch 76/100\n",
      "2/2 [==============================] - 6s 1s/step - loss: 0.0019 - accuracy: 0.5063\n",
      "Epoch 77/100\n",
      "2/2 [==============================] - 7s 2s/step - loss: 0.0020 - accuracy: 0.5316\n",
      "Epoch 78/100\n",
      "2/2 [==============================] - 10s 2s/step - loss: 0.0020 - accuracy: 0.5063\n",
      "Epoch 79/100\n",
      "2/2 [==============================] - 7s 1s/step - loss: 0.0020 - accuracy: 0.4810\n",
      "Epoch 80/100\n",
      "2/2 [==============================] - 7s 1s/step - loss: 0.0019 - accuracy: 0.4304\n",
      "Epoch 81/100\n",
      "2/2 [==============================] - 7s 1s/step - loss: 0.0019 - accuracy: 0.4430\n",
      "Epoch 82/100\n",
      "2/2 [==============================] - 7s 1s/step - loss: 0.0018 - accuracy: 0.4430\n",
      "Epoch 83/100\n",
      "2/2 [==============================] - 8s 1s/step - loss: 0.0017 - accuracy: 0.4557\n",
      "Epoch 84/100\n",
      "2/2 [==============================] - 10s 1s/step - loss: 0.0017 - accuracy: 0.4557\n",
      "Epoch 85/100\n",
      "2/2 [==============================] - 7s 1s/step - loss: 0.0017 - accuracy: 0.4557\n",
      "Epoch 86/100\n",
      "2/2 [==============================] - 6s 1s/step - loss: 0.0016 - accuracy: 0.4684\n",
      "Epoch 87/100\n",
      "2/2 [==============================] - 7s 1s/step - loss: 0.0017 - accuracy: 0.4937\n",
      "Epoch 88/100\n",
      "2/2 [==============================] - 7s 1s/step - loss: 0.0017 - accuracy: 0.5063\n",
      "Epoch 89/100\n",
      "2/2 [==============================] - 6s 1s/step - loss: 0.0016 - accuracy: 0.4810\n",
      "Epoch 90/100\n",
      "2/2 [==============================] - 7s 1s/step - loss: 0.0016 - accuracy: 0.4557\n",
      "Epoch 91/100\n",
      "2/2 [==============================] - 7s 1s/step - loss: 0.0016 - accuracy: 0.4557\n",
      "Epoch 92/100\n",
      "2/2 [==============================] - 7s 1s/step - loss: 0.0015 - accuracy: 0.4557\n",
      "Epoch 93/100\n",
      "2/2 [==============================] - 9s 2s/step - loss: 0.0015 - accuracy: 0.4684\n",
      "Epoch 94/100\n",
      "2/2 [==============================] - 7s 1s/step - loss: 0.0014 - accuracy: 0.4684\n",
      "Epoch 95/100\n",
      "2/2 [==============================] - 8s 2s/step - loss: 0.0014 - accuracy: 0.4557\n",
      "Epoch 96/100\n",
      "2/2 [==============================] - 6s 1s/step - loss: 0.0014 - accuracy: 0.4684\n",
      "Epoch 97/100\n",
      "2/2 [==============================] - 6s 1s/step - loss: 0.0013 - accuracy: 0.4684\n",
      "Epoch 98/100\n",
      "2/2 [==============================] - 7s 1s/step - loss: 0.0013 - accuracy: 0.4937\n",
      "Epoch 99/100\n",
      "2/2 [==============================] - 7s 1s/step - loss: 0.0013 - accuracy: 0.5063\n",
      "Epoch 100/100\n",
      "2/2 [==============================] - 7s 1s/step - loss: 0.0013 - accuracy: 0.5063\n"
     ]
    },
    {
     "data": {
      "text/plain": [
       "<keras.src.callbacks.History at 0x12eeed990>"
      ]
     },
     "execution_count": 33,
     "metadata": {},
     "output_type": "execute_result"
    }
   ],
   "source": [
    "model.fit(X_train,y_train,epochs=epochs,batch_size=batch_size,verbose=1)"
   ]
  },
  {
   "cell_type": "code",
   "execution_count": 34,
   "id": "6be1ef0a-4cc5-47ef-b9d0-a74c3976ad47",
   "metadata": {},
   "outputs": [
    {
     "data": {
      "text/plain": [
       "[<matplotlib.lines.Line2D at 0x12f2c0cd0>]"
      ]
     },
     "execution_count": 34,
     "metadata": {},
     "output_type": "execute_result"
    },
    {
     "data": {
      "image/png": "[encoded data removed]",
      "text/plain": [
       "<Figure size 640x480 with 1 Axes>"
      ]
     },
     "metadata": {},
     "output_type": "display_data"
    }
   ],
   "source": [
    "plt.plot(model.history.history[\"accuracy\"])"
   ]
  },
  {
   "cell_type": "markdown",
   "id": "ed042960-1925-4d89-ad76-b3a2aedb4694",
   "metadata": {},
   "source": [
    "<u>Prediction</u>"
   ]
  },
  {
   "cell_type": "code",
   "execution_count": null,
   "id": "7ad4789d-5b92-4411-aab6-fa9782303796",
   "metadata": {},
   "outputs": [],
   "source": [
    "y_predict = (model.predict(X_test) > 0.5).astype(int)"
   ]
  },
  {
   "cell_type": "code",
   "execution_count": null,
   "id": "44b5d2bc-9062-4ebf-a4fc-fc595f383d45",
   "metadata": {},
   "outputs": [],
   "source": [
    "y_predict[0]"
   ]
  },
  {
   "cell_type": "code",
   "execution_count": null,
   "id": "a9f3f386-3eb8-4bb3-861b-a74d755f33fd",
   "metadata": {},
   "outputs": [],
   "source": [
    "y_test[0]"
   ]
  },
  {
   "cell_type": "code",
   "execution_count": null,
   "id": "3d180d40-353c-4356-8881-c3b73e54a105",
   "metadata": {},
   "outputs": [],
   "source": [
    "y_predict[1]"
   ]
  },
  {
   "cell_type": "code",
   "execution_count": null,
   "id": "5cbd9202-7dc4-4b67-bdb8-3dcfcdab379a",
   "metadata": {},
   "outputs": [],
   "source": [
    "y_test[1]"
   ]
  },
  {
   "cell_type": "code",
   "execution_count": null,
   "id": "bcc210c3-2696-4ff6-a5d0-3b48cab949b2",
   "metadata": {},
   "outputs": [],
   "source": [
    "from sklearn.metrics import accuracy_score\n",
    "accuracy_score(y_predict,y_test)"
   ]
  },
  {
   "cell_type": "code",
   "execution_count": null,
   "id": "300deccc-3470-42aa-9eb5-a870e150da32",
   "metadata": {},
   "outputs": [],
   "source": [
    "notes, frames = y_predict.shape"
   ]
  },
  {
   "cell_type": "code",
   "execution_count": null,
   "id": "7d14aafd-508d-40a4-ae37-4d918d28d0a7",
   "metadata": {},
   "outputs": [],
   "source": [
    "stop"
   ]
  },
  {
   "cell_type": "code",
   "execution_count": null,
   "id": "920b3226-4e80-463d-904c-14fb3f775c1c",
   "metadata": {},
   "outputs": [],
   "source": [
    "prettymidi = pretty_midi.PrettyMIDI()"
   ]
  },
  {
   "cell_type": "code",
   "execution_count": null,
   "id": "9be6a22d-c4e4-462e-b265-7196336b3c6c",
   "metadata": {},
   "outputs": [],
   "source": [
    "instrument = pretty_midi.Instrument(program=1) #Bright Acoustic Piano"
   ]
  },
  {
   "cell_type": "code",
   "execution_count": null,
   "id": "d06f3063-74a9-4357-b65e-3f880385df54",
   "metadata": {},
   "outputs": [],
   "source": [
    "piano_roll = np.hstack((np.zeros((notes, 1)),y_predict,np.zeros((notes, 1))))"
   ]
  },
  {
   "cell_type": "code",
   "execution_count": null,
   "id": "c2fecf33-b7ed-4dc5-9b49-8c2bd6de1370",
   "metadata": {},
   "outputs": [],
   "source": [
    "piano_roll.shape"
   ]
  },
  {
   "cell_type": "code",
   "execution_count": null,
   "id": "f5fae40c-3a3c-4866-bbe5-ea8885ca340b",
   "metadata": {},
   "outputs": [],
   "source": [
    "changes = np.nonzero(np.diff(piano_roll).T)"
   ]
  },
  {
   "cell_type": "code",
   "execution_count": null,
   "id": "1ef65545-bd3a-4450-a81d-0ee602c995f4",
   "metadata": {},
   "outputs": [],
   "source": [
    "np.diff(piano_roll).T"
   ]
  },
  {
   "cell_type": "code",
   "execution_count": null,
   "id": "a2e5505e-3298-41bc-883b-8eb2d0dbfc1e",
   "metadata": {},
   "outputs": [],
   "source": [
    "note_on_time = np.zeros(notes)\n",
    "note_on_time"
   ]
  },
  {
   "cell_type": "code",
   "execution_count": null,
   "id": "b0efe50a-8260-4dec-9743-6c6555c70d32",
   "metadata": {},
   "outputs": [],
   "source": [
    "current_notes = np.zeros(notes)\n",
    "current_notes"
   ]
  },
  {
   "cell_type": "code",
   "execution_count": null,
   "id": "d21651bd-dc52-4b07-adc4-98ed88143de6",
   "metadata": {},
   "outputs": [],
   "source": [
    "bps = 120 / 60\n",
    "beat_interval = 100 / bps\n",
    "strong_beats = beat_interval * 2\n",
    "strong_beats"
   ]
  },
  {
   "cell_type": "code",
   "execution_count": null,
   "id": "eefb85c8-9f10-4796-8ac4-78c17ec166cc",
   "metadata": {},
   "outputs": [],
   "source": [
    "times = []\n",
    "notes = []\n",
    "for time, note in zip(*changes):\n",
    "    times.append(time)\n",
    "    notes.append(note)\n",
    "\n",
    "note = notes[0]\n",
    "time = times[0]"
   ]
  },
  {
   "cell_type": "code",
   "execution_count": null,
   "id": "e5c01cfa-8c24-4ee6-8587-5eb2561b1edf",
   "metadata": {},
   "outputs": [],
   "source": [
    "for note in notes : \n",
    "    print(current_notes[note])"
   ]
  },
  {
   "cell_type": "code",
   "execution_count": null,
   "id": "094bec86-6d30-423c-b897-4d60f6944ee8",
   "metadata": {},
   "outputs": [],
   "source": [
    "def one_hot_to_pretty_midi(one_hot, fs=100, program=1,bpm=120):\n",
    "    '''Convert a Piano Roll array into a PrettyMidi object\n",
    "     with a single instrument.\n",
    "    Parameters\n",
    "    ----------\n",
    "    piano_roll : np.ndarray, shape=(128,time)\n",
    "        Piano roll of one instrument\n",
    "    fs : int\n",
    "        Sampling frequency of the columns, i.e. each column is spaced apart\n",
    "        by ``1./fs`` seconds.\n",
    "    program : int\n",
    "        The program number of the instrument.\n",
    "    bpm : int\n",
    "        Beats per minute, used to decide when to re-emphasize notes left on.\n",
    "    Returns\n",
    "    -------\n",
    "    midi_object : pretty_midi.PrettyMIDI\n",
    "        A pretty_midi.PrettyMIDI class instance describing\n",
    "        the piano roll.\n",
    "    '''\n",
    "    notes, frames = one_hot.shape\n",
    "    pm = pretty_midi.PrettyMIDI()\n",
    "    instrument = pretty_midi.Instrument(program=program)\n",
    "\n",
    "    # prepend, append zeros so we can acknowledge inital and ending events\n",
    "    piano_roll = np.hstack((np.zeros((notes, 1)),\n",
    "                            one_hot,\n",
    "                            np.zeros((notes, 1))))\n",
    "\n",
    "    # use changes to find note on / note off events\n",
    "    changes = np.nonzero(np.diff(piano_roll).T)\n",
    "\n",
    "    # keep track of note on times and notes currently playing\n",
    "    note_on_time = np.zeros(notes)\n",
    "    current_notes = np.zeros(notes)\n",
    "\n",
    "    bps = bpm / 60\n",
    "    beat_interval = fs / bps\n",
    "    strong_beats = beat_interval * 2 #(for 4/4 timing)\n",
    "\n",
    "    last_beat_time = 0\n",
    "\n",
    "    for time, note in zip(*changes):\n",
    "        change = piano_roll[note, time + 1]\n",
    "\n",
    "        if time >= last_beat_time + beat_interval:\n",
    "            for note in current_notes:\n",
    "                time = time / fs\n",
    "\n",
    "        time = time / fs\n",
    "        if change == 1:\n",
    "            # note on\n",
    "            if current_notes[note] == 0:\n",
    "                # from note off\n",
    "                note_on_time[note] = time\n",
    "                current_notes[note] = 1\n",
    "            else:\n",
    "                #re-articulate (later in code)\n",
    "                '''pm_note = pretty_midi.Note(\n",
    "                        velocity=100, #don't care fer now\n",
    "                        pitch=note,\n",
    "                        start=note_on_time[note],\n",
    "                        end=time)\n",
    "                instrument.notes.append(pm_note)\n",
    "                note_on_time[note] = time\n",
    "                current_notes[note] = 1'''\n",
    "        elif change == 0:\n",
    "            #print(note)\n",
    "            #print(note_on_time.shape)\n",
    "            #print(note_on_time[0])\n",
    "            #note off\n",
    "            pm_note = pretty_midi.Note(\n",
    "                    velocity=100, #don't care fer now\n",
    "                    pitch=note,\n",
    "                    start=note_on_time[note],\n",
    "                    end=time)\n",
    "            current_notes[int(note)] = 0\n",
    "            instrument.notes.append(pm_note)\n",
    "    pm.instruments.append(instrument)\n",
    "    return pm"
   ]
  },
  {
   "cell_type": "code",
   "execution_count": null,
   "id": "7aec6513-0398-481a-87f3-d06844e20fa4",
   "metadata": {},
   "outputs": [],
   "source": [
    "one_hot_to_pretty_midi(y_train)"
   ]
  },
  {
   "cell_type": "code",
   "execution_count": null,
   "id": "fb57984f-6d42-4138-aa8e-1a7eb05c464f",
   "metadata": {},
   "outputs": [],
   "source": [
    "current_notes = np.zeros(128)\n",
    "current_notes"
   ]
  },
  {
   "cell_type": "code",
   "execution_count": null,
   "id": "5bf63d56-f2f6-4bf8-8563-77f105d63eee",
   "metadata": {},
   "outputs": [],
   "source": [
    "current_notes[120]="
   ]
  },
  {
   "cell_type": "code",
   "execution_count": null,
   "id": "2efbbae5-16dd-485a-a1fc-fe03f9d23527",
   "metadata": {},
   "outputs": [],
   "source": []
  },
  {
   "cell_type": "code",
   "execution_count": null,
   "id": "701c5495-9ff1-4d89-8f7a-c30c76b34f8c",
   "metadata": {},
   "outputs": [],
   "source": [
    "note_pitch_played = [k for k in y_pred if k !=0]\n",
    "time_period = y_pred.shape[1]\n",
    "\n",
    "# Créer un objet PrettyMIDI\n",
    "midi_data = pretty_midi.PrettyMIDI()\n",
    "\n",
    "# Ajouter un instrument (piano)\n",
    "instrument = pretty_midi.Instrument(program=1)  # Selects the piano\n",
    "\n",
    "# Ajouter quelques notes\n",
    "# Exemple de note : pitch=60 (C4), start_time=0.0, end_time=1.0, velocity=100\n",
    "note = pm.Note(velocity=100, pitch=60, start=0.0, end=1.0)\n",
    "instrument.notes.append(note)\n",
    "\n",
    "# Ajouter l'instrument à l'objet MIDI\n",
    "midi_data.instruments.append(instrument)\n",
    "\n",
    "# Écrire les données MIDI dans un fichier\n",
    "midi_data.write('output.mid')"
   ]
  }
 ],
 "metadata": {
  "kernelspec": {
   "display_name": "Python 3 (ipykernel)",
   "language": "python",
   "name": "python3"
  },
  "language_info": {
   "codemirror_mode": {
    "name": "ipython",
    "version": 3
   },
   "file_extension": ".py",
   "mimetype": "text/x-python",
   "name": "python",
   "nbconvert_exporter": "python",
   "pygments_lexer": "ipython3",
   "version": "3.10.6"
  },
  "toc": {
   "base_numbering": 1,
   "nav_menu": {},
   "number_sections": true,
   "sideBar": true,
   "skip_h1_title": false,
   "title_cell": "Table of Contents",
   "title_sidebar": "Contents",
   "toc_cell": false,
   "toc_position": {},
   "toc_section_display": true,
   "toc_window_display": false
  }
 },
 "nbformat": 4,
 "nbformat_minor": 5
}
