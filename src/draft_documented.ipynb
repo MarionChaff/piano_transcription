{
 "cells": [
  {
   "cell_type": "code",
   "execution_count": null,
   "id": "a9492c72-a1f6-45b1-9a64-9cd2bb754c08",
   "metadata": {},
   "outputs": [],
   "source": [
    "# Download MIDI files and"
   ]
  },
  {
   "cell_type": "markdown",
   "id": "afca41ed-1a92-48b8-8928-cc0dd34fc469",
   "metadata": {
    "jp-MarkdownHeadingCollapsed": true
   },
   "source": [
    "### Step 1: "
   ]
  },
  {
   "cell_type": "code",
   "execution_count": null,
   "id": "c41508e8-a996-4c1a-b79d-787ff3c777f9",
   "metadata": {},
   "outputs": [],
   "source": []
  }
 ],
 "metadata": {
  "kernelspec": {
   "display_name": "Python 3 (ipykernel)",
   "language": "python",
   "name": "python3"
  },
  "language_info": {
   "codemirror_mode": {
    "name": "ipython",
    "version": 3
   },
   "file_extension": ".py",
   "mimetype": "text/x-python",
   "name": "python",
   "nbconvert_exporter": "python",
   "pygments_lexer": "ipython3",
   "version": "3.10.6"
  }
 },
 "nbformat": 4,
 "nbformat_minor": 5
}
